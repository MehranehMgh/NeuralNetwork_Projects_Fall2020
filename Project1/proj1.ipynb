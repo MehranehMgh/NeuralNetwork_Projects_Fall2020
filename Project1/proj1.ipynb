{
 "metadata": {
  "language_info": {
   "codemirror_mode": {
    "name": "ipython",
    "version": 3
   },
   "file_extension": ".py",
   "mimetype": "text/x-python",
   "name": "python",
   "nbconvert_exporter": "python",
   "pygments_lexer": "ipython3",
   "version": "3.8.3-final"
  },
  "orig_nbformat": 2,
  "kernelspec": {
   "name": "python3",
   "display_name": "Python 3"
  }
 },
 "nbformat": 4,
 "nbformat_minor": 2,
 "cells": [
  {
   "cell_type": "code",
   "execution_count": 411,
   "metadata": {},
   "outputs": [],
   "source": [
    "import tensorflow as tf\n",
    "import random \n",
    "import numpy as np \n",
    "import pandas as pd \n",
    "import seaborn as sns\n",
    "import matplotlib as plt\n",
    "from sklearn.neural_network import MLPClassifier\n",
    "from sklearn.model_selection import train_test_split\n",
    "from sklearn.preprocessing import StandardScaler\n",
    "from sklearn.preprocessing import LabelEncoder, OneHotEncoder\n",
    "from IPython.core.interactiveshell import InteractiveShell\n",
    "InteractiveShell.ast_node_interactivity = \"all\""
   ]
  },
  {
   "source": [
    "#data Per-Processing\n",
    "\n",
    "data = pd.read_csv('Proj1_Data.csv', index_col=0)\n",
    "#data\n",
    "#data.describe()\n",
    "data.head()"
   ],
   "cell_type": "code",
   "metadata": {},
   "execution_count": 412,
   "outputs": [
    {
     "output_type": "execute_result",
     "data": {
      "text/plain": [
       "           CustomerId   Surname  CreditScore Geography  Gender  Age  Tenure  \\\n",
       "RowNumber                                                                     \n",
       "1            15634602  Hargrave          619    France  Female   42       2   \n",
       "2            15647311      Hill          608     Spain  Female   41       1   \n",
       "3            15619304      Onio          502    France  Female   42       8   \n",
       "4            15701354      Boni          699    France  Female   39       1   \n",
       "5            15737888  Mitchell          850     Spain  Female   43       2   \n",
       "\n",
       "             Balance  NumOfProducts  HasCrCard  IsActiveMember  \\\n",
       "RowNumber                                                        \n",
       "1               0.00              1          1               1   \n",
       "2           83807.86              1          0               1   \n",
       "3          159660.80              3          1               0   \n",
       "4               0.00              2          0               0   \n",
       "5          125510.82              1          1               1   \n",
       "\n",
       "           EstimatedSalary  Exited  \n",
       "RowNumber                           \n",
       "1                101348.88       1  \n",
       "2                112542.58       0  \n",
       "3                113931.57       1  \n",
       "4                 93826.63       0  \n",
       "5                 79084.10       0  "
      ],
      "text/html": "<div>\n<style scoped>\n    .dataframe tbody tr th:only-of-type {\n        vertical-align: middle;\n    }\n\n    .dataframe tbody tr th {\n        vertical-align: top;\n    }\n\n    .dataframe thead th {\n        text-align: right;\n    }\n</style>\n<table border=\"1\" class=\"dataframe\">\n  <thead>\n    <tr style=\"text-align: right;\">\n      <th></th>\n      <th>CustomerId</th>\n      <th>Surname</th>\n      <th>CreditScore</th>\n      <th>Geography</th>\n      <th>Gender</th>\n      <th>Age</th>\n      <th>Tenure</th>\n      <th>Balance</th>\n      <th>NumOfProducts</th>\n      <th>HasCrCard</th>\n      <th>IsActiveMember</th>\n      <th>EstimatedSalary</th>\n      <th>Exited</th>\n    </tr>\n    <tr>\n      <th>RowNumber</th>\n      <th></th>\n      <th></th>\n      <th></th>\n      <th></th>\n      <th></th>\n      <th></th>\n      <th></th>\n      <th></th>\n      <th></th>\n      <th></th>\n      <th></th>\n      <th></th>\n      <th></th>\n    </tr>\n  </thead>\n  <tbody>\n    <tr>\n      <th>1</th>\n      <td>15634602</td>\n      <td>Hargrave</td>\n      <td>619</td>\n      <td>France</td>\n      <td>Female</td>\n      <td>42</td>\n      <td>2</td>\n      <td>0.00</td>\n      <td>1</td>\n      <td>1</td>\n      <td>1</td>\n      <td>101348.88</td>\n      <td>1</td>\n    </tr>\n    <tr>\n      <th>2</th>\n      <td>15647311</td>\n      <td>Hill</td>\n      <td>608</td>\n      <td>Spain</td>\n      <td>Female</td>\n      <td>41</td>\n      <td>1</td>\n      <td>83807.86</td>\n      <td>1</td>\n      <td>0</td>\n      <td>1</td>\n      <td>112542.58</td>\n      <td>0</td>\n    </tr>\n    <tr>\n      <th>3</th>\n      <td>15619304</td>\n      <td>Onio</td>\n      <td>502</td>\n      <td>France</td>\n      <td>Female</td>\n      <td>42</td>\n      <td>8</td>\n      <td>159660.80</td>\n      <td>3</td>\n      <td>1</td>\n      <td>0</td>\n      <td>113931.57</td>\n      <td>1</td>\n    </tr>\n    <tr>\n      <th>4</th>\n      <td>15701354</td>\n      <td>Boni</td>\n      <td>699</td>\n      <td>France</td>\n      <td>Female</td>\n      <td>39</td>\n      <td>1</td>\n      <td>0.00</td>\n      <td>2</td>\n      <td>0</td>\n      <td>0</td>\n      <td>93826.63</td>\n      <td>0</td>\n    </tr>\n    <tr>\n      <th>5</th>\n      <td>15737888</td>\n      <td>Mitchell</td>\n      <td>850</td>\n      <td>Spain</td>\n      <td>Female</td>\n      <td>43</td>\n      <td>2</td>\n      <td>125510.82</td>\n      <td>1</td>\n      <td>1</td>\n      <td>1</td>\n      <td>79084.10</td>\n      <td>0</td>\n    </tr>\n  </tbody>\n</table>\n</div>"
     },
     "metadata": {},
     "execution_count": 412
    }
   ]
  },
  {
   "cell_type": "code",
   "execution_count": 413,
   "metadata": {},
   "outputs": [
    {
     "output_type": "execute_result",
     "data": {
      "text/plain": [
       "(10000, 13)"
      ]
     },
     "metadata": {},
     "execution_count": 413
    }
   ],
   "source": [
    "data.shape"
   ]
  },
  {
   "cell_type": "code",
   "execution_count": 414,
   "metadata": {},
   "outputs": [
    {
     "output_type": "stream",
     "name": "stdout",
     "text": [
      "<class 'pandas.core.frame.DataFrame'>\nInt64Index: 10000 entries, 1 to 10000\nData columns (total 13 columns):\n #   Column           Non-Null Count  Dtype  \n---  ------           --------------  -----  \n 0   CustomerId       10000 non-null  int64  \n 1   Surname          10000 non-null  object \n 2   CreditScore      10000 non-null  int64  \n 3   Geography        10000 non-null  object \n 4   Gender           10000 non-null  object \n 5   Age              10000 non-null  int64  \n 6   Tenure           10000 non-null  int64  \n 7   Balance          10000 non-null  float64\n 8   NumOfProducts    10000 non-null  int64  \n 9   HasCrCard        10000 non-null  int64  \n 10  IsActiveMember   10000 non-null  int64  \n 11  EstimatedSalary  10000 non-null  float64\n 12  Exited           10000 non-null  int64  \ndtypes: float64(2), int64(8), object(3)\nmemory usage: 1.1+ MB\n"
     ]
    }
   ],
   "source": [
    "data.info()"
   ]
  },
  {
   "cell_type": "code",
   "execution_count": 415,
   "metadata": {},
   "outputs": [
    {
     "output_type": "execute_result",
     "data": {
      "text/plain": [
       "           CreditScore Geography  Gender  Age  Tenure    Balance  \\\n",
       "RowNumber                                                          \n",
       "1                  619    France  Female   42       2       0.00   \n",
       "2                  608     Spain  Female   41       1   83807.86   \n",
       "3                  502    France  Female   42       8  159660.80   \n",
       "4                  699    France  Female   39       1       0.00   \n",
       "5                  850     Spain  Female   43       2  125510.82   \n",
       "\n",
       "           NumOfProducts  HasCrCard  IsActiveMember  EstimatedSalary  Exited  \n",
       "RowNumber                                                                     \n",
       "1                      1          1               1        101348.88       1  \n",
       "2                      1          0               1        112542.58       0  \n",
       "3                      3          1               0        113931.57       1  \n",
       "4                      2          0               0         93826.63       0  \n",
       "5                      1          1               1         79084.10       0  "
      ],
      "text/html": "<div>\n<style scoped>\n    .dataframe tbody tr th:only-of-type {\n        vertical-align: middle;\n    }\n\n    .dataframe tbody tr th {\n        vertical-align: top;\n    }\n\n    .dataframe thead th {\n        text-align: right;\n    }\n</style>\n<table border=\"1\" class=\"dataframe\">\n  <thead>\n    <tr style=\"text-align: right;\">\n      <th></th>\n      <th>CreditScore</th>\n      <th>Geography</th>\n      <th>Gender</th>\n      <th>Age</th>\n      <th>Tenure</th>\n      <th>Balance</th>\n      <th>NumOfProducts</th>\n      <th>HasCrCard</th>\n      <th>IsActiveMember</th>\n      <th>EstimatedSalary</th>\n      <th>Exited</th>\n    </tr>\n    <tr>\n      <th>RowNumber</th>\n      <th></th>\n      <th></th>\n      <th></th>\n      <th></th>\n      <th></th>\n      <th></th>\n      <th></th>\n      <th></th>\n      <th></th>\n      <th></th>\n      <th></th>\n    </tr>\n  </thead>\n  <tbody>\n    <tr>\n      <th>1</th>\n      <td>619</td>\n      <td>France</td>\n      <td>Female</td>\n      <td>42</td>\n      <td>2</td>\n      <td>0.00</td>\n      <td>1</td>\n      <td>1</td>\n      <td>1</td>\n      <td>101348.88</td>\n      <td>1</td>\n    </tr>\n    <tr>\n      <th>2</th>\n      <td>608</td>\n      <td>Spain</td>\n      <td>Female</td>\n      <td>41</td>\n      <td>1</td>\n      <td>83807.86</td>\n      <td>1</td>\n      <td>0</td>\n      <td>1</td>\n      <td>112542.58</td>\n      <td>0</td>\n    </tr>\n    <tr>\n      <th>3</th>\n      <td>502</td>\n      <td>France</td>\n      <td>Female</td>\n      <td>42</td>\n      <td>8</td>\n      <td>159660.80</td>\n      <td>3</td>\n      <td>1</td>\n      <td>0</td>\n      <td>113931.57</td>\n      <td>1</td>\n    </tr>\n    <tr>\n      <th>4</th>\n      <td>699</td>\n      <td>France</td>\n      <td>Female</td>\n      <td>39</td>\n      <td>1</td>\n      <td>0.00</td>\n      <td>2</td>\n      <td>0</td>\n      <td>0</td>\n      <td>93826.63</td>\n      <td>0</td>\n    </tr>\n    <tr>\n      <th>5</th>\n      <td>850</td>\n      <td>Spain</td>\n      <td>Female</td>\n      <td>43</td>\n      <td>2</td>\n      <td>125510.82</td>\n      <td>1</td>\n      <td>1</td>\n      <td>1</td>\n      <td>79084.10</td>\n      <td>0</td>\n    </tr>\n  </tbody>\n</table>\n</div>"
     },
     "metadata": {},
     "execution_count": 415
    }
   ],
   "source": [
    "data.drop(labels=['Surname', 'CustomerId'], axis=1, inplace=True)\n",
    "data.head()"
   ]
  },
  {
   "cell_type": "code",
   "execution_count": 416,
   "metadata": {},
   "outputs": [
    {
     "output_type": "execute_result",
     "data": {
      "text/plain": [
       "(10000, 11)"
      ]
     },
     "metadata": {},
     "execution_count": 416
    },
    {
     "output_type": "stream",
     "name": "stdout",
     "text": [
      "<class 'pandas.core.frame.DataFrame'>\nInt64Index: 10000 entries, 1 to 10000\nData columns (total 11 columns):\n #   Column           Non-Null Count  Dtype  \n---  ------           --------------  -----  \n 0   CreditScore      10000 non-null  int64  \n 1   Geography        10000 non-null  object \n 2   Gender           10000 non-null  object \n 3   Age              10000 non-null  int64  \n 4   Tenure           10000 non-null  int64  \n 5   Balance          10000 non-null  float64\n 6   NumOfProducts    10000 non-null  int64  \n 7   HasCrCard        10000 non-null  int64  \n 8   IsActiveMember   10000 non-null  int64  \n 9   EstimatedSalary  10000 non-null  float64\n 10  Exited           10000 non-null  int64  \ndtypes: float64(2), int64(7), object(2)\nmemory usage: 937.5+ KB\n"
     ]
    }
   ],
   "source": [
    "data.shape\n",
    "data.info()"
   ]
  },
  {
   "cell_type": "code",
   "execution_count": 417,
   "metadata": {},
   "outputs": [
    {
     "output_type": "execute_result",
     "data": {
      "text/plain": [
       "           Geography_France  Geography_Germany  Geography_Spain  \\\n",
       "RowNumber                                                         \n",
       "1                         1                  0                0   \n",
       "2                         0                  0                1   \n",
       "3                         1                  0                0   \n",
       "4                         1                  0                0   \n",
       "5                         0                  0                1   \n",
       "\n",
       "           Gender_Female  Gender_Male  \n",
       "RowNumber                              \n",
       "1                      1            0  \n",
       "2                      1            0  \n",
       "3                      1            0  \n",
       "4                      1            0  \n",
       "5                      1            0  "
      ],
      "text/html": "<div>\n<style scoped>\n    .dataframe tbody tr th:only-of-type {\n        vertical-align: middle;\n    }\n\n    .dataframe tbody tr th {\n        vertical-align: top;\n    }\n\n    .dataframe thead th {\n        text-align: right;\n    }\n</style>\n<table border=\"1\" class=\"dataframe\">\n  <thead>\n    <tr style=\"text-align: right;\">\n      <th></th>\n      <th>Geography_France</th>\n      <th>Geography_Germany</th>\n      <th>Geography_Spain</th>\n      <th>Gender_Female</th>\n      <th>Gender_Male</th>\n    </tr>\n    <tr>\n      <th>RowNumber</th>\n      <th></th>\n      <th></th>\n      <th></th>\n      <th></th>\n      <th></th>\n    </tr>\n  </thead>\n  <tbody>\n    <tr>\n      <th>1</th>\n      <td>1</td>\n      <td>0</td>\n      <td>0</td>\n      <td>1</td>\n      <td>0</td>\n    </tr>\n    <tr>\n      <th>2</th>\n      <td>0</td>\n      <td>0</td>\n      <td>1</td>\n      <td>1</td>\n      <td>0</td>\n    </tr>\n    <tr>\n      <th>3</th>\n      <td>1</td>\n      <td>0</td>\n      <td>0</td>\n      <td>1</td>\n      <td>0</td>\n    </tr>\n    <tr>\n      <th>4</th>\n      <td>1</td>\n      <td>0</td>\n      <td>0</td>\n      <td>1</td>\n      <td>0</td>\n    </tr>\n    <tr>\n      <th>5</th>\n      <td>0</td>\n      <td>0</td>\n      <td>1</td>\n      <td>1</td>\n      <td>0</td>\n    </tr>\n  </tbody>\n</table>\n</div>"
     },
     "metadata": {},
     "execution_count": 417
    }
   ],
   "source": [
    "#Encoding Categorical Data with One-Hot\n",
    "\n",
    "categorical = data[['Geography', 'Gender']]\n",
    "categorical = pd.get_dummies(categorical)\n",
    "categorical.head()"
   ]
  },
  {
   "cell_type": "code",
   "execution_count": 418,
   "metadata": {},
   "outputs": [
    {
     "output_type": "execute_result",
     "data": {
      "text/plain": [
       "           CreditScore  Age  Tenure    Balance  NumOfProducts  HasCrCard  \\\n",
       "RowNumber                                                                  \n",
       "1                  619   42       2       0.00              1          1   \n",
       "2                  608   41       1   83807.86              1          0   \n",
       "3                  502   42       8  159660.80              3          1   \n",
       "4                  699   39       1       0.00              2          0   \n",
       "5                  850   43       2  125510.82              1          1   \n",
       "\n",
       "           IsActiveMember  EstimatedSalary  Exited  Geography_France  \\\n",
       "RowNumber                                                              \n",
       "1                       1        101348.88       1                 1   \n",
       "2                       1        112542.58       0                 0   \n",
       "3                       0        113931.57       1                 1   \n",
       "4                       0         93826.63       0                 1   \n",
       "5                       1         79084.10       0                 0   \n",
       "\n",
       "           Geography_Germany  Geography_Spain  Gender_Female  Gender_Male  \n",
       "RowNumber                                                                  \n",
       "1                          0                0              1            0  \n",
       "2                          0                1              1            0  \n",
       "3                          0                0              1            0  \n",
       "4                          0                0              1            0  \n",
       "5                          0                1              1            0  "
      ],
      "text/html": "<div>\n<style scoped>\n    .dataframe tbody tr th:only-of-type {\n        vertical-align: middle;\n    }\n\n    .dataframe tbody tr th {\n        vertical-align: top;\n    }\n\n    .dataframe thead th {\n        text-align: right;\n    }\n</style>\n<table border=\"1\" class=\"dataframe\">\n  <thead>\n    <tr style=\"text-align: right;\">\n      <th></th>\n      <th>CreditScore</th>\n      <th>Age</th>\n      <th>Tenure</th>\n      <th>Balance</th>\n      <th>NumOfProducts</th>\n      <th>HasCrCard</th>\n      <th>IsActiveMember</th>\n      <th>EstimatedSalary</th>\n      <th>Exited</th>\n      <th>Geography_France</th>\n      <th>Geography_Germany</th>\n      <th>Geography_Spain</th>\n      <th>Gender_Female</th>\n      <th>Gender_Male</th>\n    </tr>\n    <tr>\n      <th>RowNumber</th>\n      <th></th>\n      <th></th>\n      <th></th>\n      <th></th>\n      <th></th>\n      <th></th>\n      <th></th>\n      <th></th>\n      <th></th>\n      <th></th>\n      <th></th>\n      <th></th>\n      <th></th>\n      <th></th>\n    </tr>\n  </thead>\n  <tbody>\n    <tr>\n      <th>1</th>\n      <td>619</td>\n      <td>42</td>\n      <td>2</td>\n      <td>0.00</td>\n      <td>1</td>\n      <td>1</td>\n      <td>1</td>\n      <td>101348.88</td>\n      <td>1</td>\n      <td>1</td>\n      <td>0</td>\n      <td>0</td>\n      <td>1</td>\n      <td>0</td>\n    </tr>\n    <tr>\n      <th>2</th>\n      <td>608</td>\n      <td>41</td>\n      <td>1</td>\n      <td>83807.86</td>\n      <td>1</td>\n      <td>0</td>\n      <td>1</td>\n      <td>112542.58</td>\n      <td>0</td>\n      <td>0</td>\n      <td>0</td>\n      <td>1</td>\n      <td>1</td>\n      <td>0</td>\n    </tr>\n    <tr>\n      <th>3</th>\n      <td>502</td>\n      <td>42</td>\n      <td>8</td>\n      <td>159660.80</td>\n      <td>3</td>\n      <td>1</td>\n      <td>0</td>\n      <td>113931.57</td>\n      <td>1</td>\n      <td>1</td>\n      <td>0</td>\n      <td>0</td>\n      <td>1</td>\n      <td>0</td>\n    </tr>\n    <tr>\n      <th>4</th>\n      <td>699</td>\n      <td>39</td>\n      <td>1</td>\n      <td>0.00</td>\n      <td>2</td>\n      <td>0</td>\n      <td>0</td>\n      <td>93826.63</td>\n      <td>0</td>\n      <td>1</td>\n      <td>0</td>\n      <td>0</td>\n      <td>1</td>\n      <td>0</td>\n    </tr>\n    <tr>\n      <th>5</th>\n      <td>850</td>\n      <td>43</td>\n      <td>2</td>\n      <td>125510.82</td>\n      <td>1</td>\n      <td>1</td>\n      <td>1</td>\n      <td>79084.10</td>\n      <td>0</td>\n      <td>0</td>\n      <td>0</td>\n      <td>1</td>\n      <td>1</td>\n      <td>0</td>\n    </tr>\n  </tbody>\n</table>\n</div>"
     },
     "metadata": {},
     "execution_count": 418
    }
   ],
   "source": [
    "data.drop(labels=['Geography', 'Gender'], axis=1, inplace=True)\n",
    "data = pd.concat([data, categorical], axis = 1)\n",
    "data.head()"
   ]
  },
  {
   "cell_type": "code",
   "execution_count": 419,
   "metadata": {},
   "outputs": [
    {
     "output_type": "execute_result",
     "data": {
      "text/plain": [
       "(10000, 14)"
      ]
     },
     "metadata": {},
     "execution_count": 419
    }
   ],
   "source": [
    "data.shape"
   ]
  },
  {
   "cell_type": "code",
   "execution_count": 420,
   "metadata": {},
   "outputs": [
    {
     "output_type": "execute_result",
     "data": {
      "text/plain": [
       "array([1, 0], dtype=int64)"
      ]
     },
     "metadata": {},
     "execution_count": 420
    }
   ],
   "source": [
    "data['Exited'].unique()"
   ]
  },
  {
   "cell_type": "code",
   "execution_count": 421,
   "metadata": {},
   "outputs": [
    {
     "output_type": "stream",
     "name": "stdout",
     "text": [
      "(8000, 13)\n(2000, 13)\n(8000, 1)\n(2000, 1)\n"
     ]
    }
   ],
   "source": [
    "features = data.drop(columns='Exited')\n",
    "target = pd.DataFrame(data['Exited'])\n",
    "\n",
    "X_train, X_test, y_train, y_test = train_test_split(features, target, test_size = 0.2, random_state = 42)\n",
    "print(X_train.shape)\n",
    "print(X_test.shape)\n",
    "print(y_train.shape)\n",
    "print(y_test.shape)"
   ]
  },
  {
   "cell_type": "code",
   "execution_count": 422,
   "metadata": {},
   "outputs": [],
   "source": [
    "#Scaling X_train with StandardScaler\n",
    "\n",
    "from sklearn.preprocessing import StandardScaler\n",
    "feature_scaler = StandardScaler()\n",
    "X_train = feature_scaler.fit_transform(X_train)\n",
    "X_test = feature_scaler.transform(X_test)\n",
    "#print(X_train)"
   ]
  },
  {
   "cell_type": "code",
   "execution_count": 423,
   "metadata": {},
   "outputs": [],
   "source": [
    "#Creating Network\n",
    "\n",
    "from tensorflow.keras.layers import Dense , Dropout ,Input , Average\n",
    "from tensorflow.keras.callbacks import EarlyStopping\n",
    "from tensorflow.keras.utils import to_categorical\n",
    "from tensorflow.keras.optimizers import SGD\n",
    "from tensorflow.keras.utils import plot_model\n",
    "from tensorflow.keras.models import Model\n",
    "from sklearn.model_selection import StratifiedKFold\n",
    "from sklearn import metrics\n",
    "from sklearn.metrics import classification_report, confusion_matrix\n",
    "from tensorflow.keras import layers\n",
    "from tensorflow.keras import initializers\n"
   ]
  },
  {
   "cell_type": "code",
   "execution_count": 432,
   "metadata": {},
   "outputs": [
    {
     "output_type": "stream",
     "name": "stdout",
     "text": [
      "Model: \"model1\"\n_________________________________________________________________\nLayer (type)                 Output Shape              Param #   \n=================================================================\ninput (InputLayer)           [(None, 13)]              0         \n_________________________________________________________________\nlayer1 (Dense)               (None, 100)               1400      \n_________________________________________________________________\nlayer2 (Dense)               (None, 10)                1010      \n_________________________________________________________________\ndropout_26 (Dropout)         (None, 10)                0         \n_________________________________________________________________\nlayer3 (Dense)               (None, 2)                 22        \n=================================================================\nTotal params: 2,432\nTrainable params: 2,432\nNon-trainable params: 0\n_________________________________________________________________\n"
     ]
    }
   ],
   "source": [
    "from tensorflow.keras.models import Sequential\n",
    "from tensorflow.keras.layers import Dense # Passing a list of layers to the constructor\n",
    "\n",
    "tf.random.set_seed(5)\n",
    "\n",
    "input_layer = Input(shape = X_train.shape[1], name =\"input\")\n",
    "hidden_layer1 = Dense(100 ,activation='relu' , name=\"layer1\")(input_layer)\n",
    "hidden_layer2 = Dense(10 ,activation='relu' , name=\"layer2\")(hidden_layer1)\n",
    "#hidden_layer3 = Dense(8 ,activation='sigmoid' , name=\"layer3\")(hidden_layer2)\n",
    "droupout_layer = Dropout(0.2)(hidden_layer2)\n",
    "output_layer = Dense(2 ,activation='softmax' , name=\"layer3\")(droupout_layer)\n",
    "\n",
    "model = Model(inputs=input_layer, outputs=output_layer , name = \"model1\")\n",
    "model.summary()"
   ]
  },
  {
   "cell_type": "code",
   "execution_count": 433,
   "metadata": {},
   "outputs": [],
   "source": [
    "from tensorflow.keras.callbacks import ModelCheckpoint\n",
    "from tensorflow.keras import callbacks \n",
    "\n",
    "\n",
    "sgd = SGD(lr=0.001, momentum=0.95)\n",
    "\n",
    "es = EarlyStopping(monitor='val_loss', mode='auto', verbose=1, patience=2)\n",
    "#adam= tf.keras.optimizers.Adam(learning_rate=0.01)\n",
    "\n",
    "model.compile(optimizer= sgd, loss='binary_crossentropy',metrics=['accuracy'])\n"
   ]
  },
  {
   "cell_type": "code",
   "execution_count": 434,
   "metadata": {
    "tags": []
   },
   "outputs": [
    {
     "output_type": "stream",
     "name": "stdout",
     "text": [
      "Epoch 1/100\n",
      "90/90 [==============================] - 0s 3ms/step - loss: 0.7144 - accuracy: 0.4669 - val_loss: 0.6990 - val_accuracy: 0.5983\n",
      "Epoch 2/100\n",
      "90/90 [==============================] - 0s 2ms/step - loss: 0.6986 - accuracy: 0.5760 - val_loss: 0.6964 - val_accuracy: 0.5812\n",
      "Epoch 3/100\n",
      "90/90 [==============================] - 0s 2ms/step - loss: 0.6968 - accuracy: 0.5587 - val_loss: 0.6954 - val_accuracy: 0.5604\n",
      "Epoch 4/100\n",
      "90/90 [==============================] - 0s 2ms/step - loss: 0.6960 - accuracy: 0.5563 - val_loss: 0.6949 - val_accuracy: 0.5612\n",
      "Epoch 5/100\n",
      "90/90 [==============================] - 0s 2ms/step - loss: 0.6954 - accuracy: 0.5535 - val_loss: 0.6945 - val_accuracy: 0.5589\n",
      "Epoch 6/100\n",
      "90/90 [==============================] - 0s 2ms/step - loss: 0.6950 - accuracy: 0.5477 - val_loss: 0.6943 - val_accuracy: 0.5577\n",
      "Epoch 7/100\n",
      "90/90 [==============================] - 0s 2ms/step - loss: 0.6947 - accuracy: 0.5557 - val_loss: 0.6941 - val_accuracy: 0.5543\n",
      "Epoch 8/100\n",
      "90/90 [==============================] - 0s 2ms/step - loss: 0.6944 - accuracy: 0.5585 - val_loss: 0.6940 - val_accuracy: 0.5562\n",
      "Epoch 9/100\n",
      "90/90 [==============================] - 0s 2ms/step - loss: 0.6943 - accuracy: 0.5594 - val_loss: 0.6939 - val_accuracy: 0.5505\n",
      "Epoch 10/100\n",
      "90/90 [==============================] - 0s 2ms/step - loss: 0.6941 - accuracy: 0.5632 - val_loss: 0.6938 - val_accuracy: 0.5483\n",
      "Epoch 11/100\n",
      "90/90 [==============================] - 0s 2ms/step - loss: 0.6940 - accuracy: 0.5617 - val_loss: 0.6937 - val_accuracy: 0.5596\n",
      "Epoch 12/100\n",
      "90/90 [==============================] - 0s 2ms/step - loss: 0.6939 - accuracy: 0.5691 - val_loss: 0.6937 - val_accuracy: 0.5657\n",
      "Epoch 13/100\n",
      "90/90 [==============================] - 0s 2ms/step - loss: 0.6939 - accuracy: 0.5613 - val_loss: 0.6936 - val_accuracy: 0.5657\n",
      "Epoch 14/100\n",
      "90/90 [==============================] - 0s 2ms/step - loss: 0.6938 - accuracy: 0.5615 - val_loss: 0.6936 - val_accuracy: 0.5748\n",
      "Epoch 15/100\n",
      "90/90 [==============================] - 0s 2ms/step - loss: 0.6937 - accuracy: 0.5669 - val_loss: 0.6935 - val_accuracy: 0.5755\n",
      "Epoch 16/100\n",
      "90/90 [==============================] - 0s 2ms/step - loss: 0.6937 - accuracy: 0.5714 - val_loss: 0.6935 - val_accuracy: 0.5793\n",
      "Epoch 17/100\n",
      "90/90 [==============================] - 0s 2ms/step - loss: 0.6936 - accuracy: 0.5742 - val_loss: 0.6935 - val_accuracy: 0.5767\n",
      "Epoch 18/100\n",
      "90/90 [==============================] - 0s 2ms/step - loss: 0.6936 - accuracy: 0.5740 - val_loss: 0.6934 - val_accuracy: 0.5842\n",
      "Epoch 19/100\n",
      "90/90 [==============================] - 0s 2ms/step - loss: 0.6936 - accuracy: 0.5749 - val_loss: 0.6934 - val_accuracy: 0.5812\n",
      "Epoch 20/100\n",
      "90/90 [==============================] - 0s 2ms/step - loss: 0.6935 - accuracy: 0.5843 - val_loss: 0.6934 - val_accuracy: 0.5842\n",
      "Epoch 21/100\n",
      "90/90 [==============================] - 0s 2ms/step - loss: 0.6935 - accuracy: 0.5831 - val_loss: 0.6934 - val_accuracy: 0.5918\n",
      "Epoch 22/100\n",
      "90/90 [==============================] - 0s 2ms/step - loss: 0.6935 - accuracy: 0.5962 - val_loss: 0.6934 - val_accuracy: 0.5922\n",
      "Epoch 23/100\n",
      "90/90 [==============================] - 0s 2ms/step - loss: 0.6935 - accuracy: 0.5940 - val_loss: 0.6934 - val_accuracy: 0.5907\n",
      "Epoch 24/100\n",
      "90/90 [==============================] - 0s 2ms/step - loss: 0.6935 - accuracy: 0.5934 - val_loss: 0.6933 - val_accuracy: 0.6013\n",
      "Epoch 25/100\n",
      "90/90 [==============================] - 0s 2ms/step - loss: 0.6934 - accuracy: 0.5986 - val_loss: 0.6933 - val_accuracy: 0.5971\n",
      "Epoch 26/100\n",
      "90/90 [==============================] - 0s 2ms/step - loss: 0.6934 - accuracy: 0.6012 - val_loss: 0.6933 - val_accuracy: 0.6028\n",
      "Epoch 27/100\n",
      "90/90 [==============================] - 0s 2ms/step - loss: 0.6934 - accuracy: 0.6016 - val_loss: 0.6933 - val_accuracy: 0.5998\n",
      "Epoch 28/100\n",
      "90/90 [==============================] - 0s 2ms/step - loss: 0.6934 - accuracy: 0.6003 - val_loss: 0.6933 - val_accuracy: 0.6024\n",
      "Epoch 29/100\n",
      "90/90 [==============================] - 0s 2ms/step - loss: 0.6934 - accuracy: 0.6066 - val_loss: 0.6933 - val_accuracy: 0.6130\n",
      "Epoch 30/100\n",
      "90/90 [==============================] - 0s 2ms/step - loss: 0.6934 - accuracy: 0.6098 - val_loss: 0.6933 - val_accuracy: 0.6157\n",
      "Epoch 31/100\n",
      "90/90 [==============================] - 0s 2ms/step - loss: 0.6934 - accuracy: 0.6190 - val_loss: 0.6933 - val_accuracy: 0.6153\n",
      "Epoch 32/100\n",
      "90/90 [==============================] - 0s 2ms/step - loss: 0.6933 - accuracy: 0.6074 - val_loss: 0.6933 - val_accuracy: 0.6198\n",
      "Epoch 33/100\n",
      "90/90 [==============================] - 0s 2ms/step - loss: 0.6933 - accuracy: 0.6212 - val_loss: 0.6933 - val_accuracy: 0.6172\n",
      "Epoch 34/100\n",
      "90/90 [==============================] - 0s 2ms/step - loss: 0.6933 - accuracy: 0.6272 - val_loss: 0.6933 - val_accuracy: 0.6248\n",
      "Epoch 35/100\n",
      "90/90 [==============================] - 0s 2ms/step - loss: 0.6933 - accuracy: 0.6277 - val_loss: 0.6933 - val_accuracy: 0.6214\n",
      "Epoch 36/100\n",
      "90/90 [==============================] - 0s 2ms/step - loss: 0.6933 - accuracy: 0.6231 - val_loss: 0.6933 - val_accuracy: 0.6263\n",
      "Epoch 37/100\n",
      "90/90 [==============================] - 0s 2ms/step - loss: 0.6933 - accuracy: 0.6162 - val_loss: 0.6933 - val_accuracy: 0.6282\n",
      "Epoch 38/100\n",
      "90/90 [==============================] - 0s 2ms/step - loss: 0.6933 - accuracy: 0.6315 - val_loss: 0.6933 - val_accuracy: 0.6339\n",
      "Epoch 39/100\n",
      "90/90 [==============================] - 0s 2ms/step - loss: 0.6933 - accuracy: 0.6367 - val_loss: 0.6932 - val_accuracy: 0.6270\n",
      "Epoch 40/100\n",
      "90/90 [==============================] - 0s 2ms/step - loss: 0.6933 - accuracy: 0.6283 - val_loss: 0.6932 - val_accuracy: 0.6312\n",
      "Epoch 41/100\n",
      "90/90 [==============================] - 0s 2ms/step - loss: 0.6933 - accuracy: 0.6354 - val_loss: 0.6932 - val_accuracy: 0.6259\n",
      "Epoch 42/100\n",
      "90/90 [==============================] - 0s 2ms/step - loss: 0.6933 - accuracy: 0.6344 - val_loss: 0.6932 - val_accuracy: 0.6331\n",
      "Epoch 43/100\n",
      "90/90 [==============================] - 0s 2ms/step - loss: 0.6933 - accuracy: 0.6400 - val_loss: 0.6932 - val_accuracy: 0.6304\n",
      "Epoch 44/100\n",
      "90/90 [==============================] - 0s 2ms/step - loss: 0.6933 - accuracy: 0.6371 - val_loss: 0.6932 - val_accuracy: 0.6437\n",
      "Epoch 45/100\n",
      "90/90 [==============================] - 0s 2ms/step - loss: 0.6933 - accuracy: 0.6473 - val_loss: 0.6932 - val_accuracy: 0.6426\n",
      "Epoch 46/100\n",
      "90/90 [==============================] - 0s 2ms/step - loss: 0.6933 - accuracy: 0.6496 - val_loss: 0.6932 - val_accuracy: 0.6335\n",
      "Epoch 47/100\n",
      "90/90 [==============================] - 0s 2ms/step - loss: 0.6933 - accuracy: 0.6292 - val_loss: 0.6932 - val_accuracy: 0.6323\n",
      "Epoch 48/100\n",
      "90/90 [==============================] - 0s 2ms/step - loss: 0.6933 - accuracy: 0.6443 - val_loss: 0.6932 - val_accuracy: 0.6490\n",
      "Epoch 49/100\n",
      "90/90 [==============================] - 0s 2ms/step - loss: 0.6932 - accuracy: 0.6428 - val_loss: 0.6932 - val_accuracy: 0.6448\n",
      "Epoch 50/100\n",
      "90/90 [==============================] - 0s 2ms/step - loss: 0.6932 - accuracy: 0.6581 - val_loss: 0.6932 - val_accuracy: 0.6547\n",
      "Epoch 51/100\n",
      "90/90 [==============================] - 0s 2ms/step - loss: 0.6932 - accuracy: 0.6524 - val_loss: 0.6932 - val_accuracy: 0.6558\n",
      "Epoch 52/100\n",
      "90/90 [==============================] - 0s 2ms/step - loss: 0.6932 - accuracy: 0.6490 - val_loss: 0.6932 - val_accuracy: 0.6581\n",
      "Epoch 53/100\n",
      "90/90 [==============================] - 0s 2ms/step - loss: 0.6932 - accuracy: 0.6483 - val_loss: 0.6932 - val_accuracy: 0.6626\n",
      "Epoch 54/100\n",
      "90/90 [==============================] - 0s 2ms/step - loss: 0.6932 - accuracy: 0.6496 - val_loss: 0.6932 - val_accuracy: 0.6615\n",
      "Epoch 55/100\n",
      "90/90 [==============================] - 0s 2ms/step - loss: 0.6932 - accuracy: 0.6595 - val_loss: 0.6932 - val_accuracy: 0.6585\n",
      "Epoch 56/100\n",
      "90/90 [==============================] - 0s 2ms/step - loss: 0.6932 - accuracy: 0.6406 - val_loss: 0.6932 - val_accuracy: 0.6471\n",
      "Epoch 57/100\n",
      "90/90 [==============================] - 0s 2ms/step - loss: 0.6932 - accuracy: 0.6462 - val_loss: 0.6932 - val_accuracy: 0.6547\n",
      "Epoch 58/100\n",
      "90/90 [==============================] - 0s 2ms/step - loss: 0.6932 - accuracy: 0.6540 - val_loss: 0.6932 - val_accuracy: 0.6520\n",
      "Epoch 59/100\n",
      "90/90 [==============================] - 0s 2ms/step - loss: 0.6932 - accuracy: 0.6576 - val_loss: 0.6932 - val_accuracy: 0.6679\n",
      "Epoch 60/100\n",
      "90/90 [==============================] - 0s 2ms/step - loss: 0.6932 - accuracy: 0.6456 - val_loss: 0.6932 - val_accuracy: 0.6551\n",
      "Epoch 61/100\n",
      "90/90 [==============================] - 0s 2ms/step - loss: 0.6932 - accuracy: 0.6565 - val_loss: 0.6932 - val_accuracy: 0.6770\n",
      "Epoch 62/100\n",
      "90/90 [==============================] - 0s 2ms/step - loss: 0.6932 - accuracy: 0.6632 - val_loss: 0.6932 - val_accuracy: 0.6782\n",
      "Epoch 63/100\n",
      "90/90 [==============================] - 0s 2ms/step - loss: 0.6932 - accuracy: 0.6563 - val_loss: 0.6932 - val_accuracy: 0.6729\n",
      "Epoch 64/100\n",
      "90/90 [==============================] - 0s 2ms/step - loss: 0.6932 - accuracy: 0.6624 - val_loss: 0.6932 - val_accuracy: 0.6774\n",
      "Epoch 65/100\n",
      "90/90 [==============================] - 0s 2ms/step - loss: 0.6932 - accuracy: 0.6587 - val_loss: 0.6932 - val_accuracy: 0.6770\n",
      "Epoch 66/100\n",
      "90/90 [==============================] - 0s 2ms/step - loss: 0.6932 - accuracy: 0.6576 - val_loss: 0.6932 - val_accuracy: 0.6660\n",
      "Epoch 67/100\n",
      "90/90 [==============================] - 0s 2ms/step - loss: 0.6932 - accuracy: 0.6490 - val_loss: 0.6932 - val_accuracy: 0.6653\n",
      "Epoch 68/100\n",
      "90/90 [==============================] - 0s 2ms/step - loss: 0.6932 - accuracy: 0.6533 - val_loss: 0.6932 - val_accuracy: 0.6649\n",
      "Epoch 69/100\n",
      "90/90 [==============================] - 0s 2ms/step - loss: 0.6932 - accuracy: 0.6628 - val_loss: 0.6932 - val_accuracy: 0.6812\n",
      "Epoch 70/100\n",
      "90/90 [==============================] - 0s 2ms/step - loss: 0.6932 - accuracy: 0.6598 - val_loss: 0.6932 - val_accuracy: 0.6861\n",
      "Epoch 71/100\n",
      "90/90 [==============================] - 0s 2ms/step - loss: 0.6932 - accuracy: 0.6746 - val_loss: 0.6932 - val_accuracy: 0.6785\n",
      "Epoch 72/100\n",
      "90/90 [==============================] - 0s 2ms/step - loss: 0.6932 - accuracy: 0.6555 - val_loss: 0.6932 - val_accuracy: 0.6664\n",
      "Epoch 73/100\n",
      "90/90 [==============================] - 0s 2ms/step - loss: 0.6932 - accuracy: 0.6548 - val_loss: 0.6932 - val_accuracy: 0.6672\n",
      "Epoch 74/100\n",
      "90/90 [==============================] - 0s 2ms/step - loss: 0.6932 - accuracy: 0.6639 - val_loss: 0.6932 - val_accuracy: 0.6831\n",
      "Epoch 75/100\n",
      "90/90 [==============================] - 0s 2ms/step - loss: 0.6932 - accuracy: 0.6617 - val_loss: 0.6932 - val_accuracy: 0.6812\n",
      "Epoch 76/100\n",
      "90/90 [==============================] - 0s 2ms/step - loss: 0.6932 - accuracy: 0.6673 - val_loss: 0.6932 - val_accuracy: 0.6876\n",
      "Epoch 77/100\n",
      "90/90 [==============================] - 0s 2ms/step - loss: 0.6932 - accuracy: 0.6727 - val_loss: 0.6932 - val_accuracy: 0.6850\n",
      "Epoch 78/100\n",
      "90/90 [==============================] - 0s 2ms/step - loss: 0.6932 - accuracy: 0.6621 - val_loss: 0.6932 - val_accuracy: 0.6804\n",
      "Epoch 79/100\n",
      "90/90 [==============================] - 0s 2ms/step - loss: 0.6932 - accuracy: 0.6535 - val_loss: 0.6932 - val_accuracy: 0.6706\n",
      "Epoch 80/100\n",
      "90/90 [==============================] - 0s 2ms/step - loss: 0.6932 - accuracy: 0.6632 - val_loss: 0.6932 - val_accuracy: 0.6865\n",
      "Epoch 81/100\n",
      "90/90 [==============================] - 0s 2ms/step - loss: 0.6932 - accuracy: 0.6695 - val_loss: 0.6932 - val_accuracy: 0.6842\n",
      "Epoch 82/100\n",
      "90/90 [==============================] - 0s 2ms/step - loss: 0.6932 - accuracy: 0.6609 - val_loss: 0.6932 - val_accuracy: 0.6827\n",
      "Epoch 83/100\n",
      "90/90 [==============================] - 0s 2ms/step - loss: 0.6932 - accuracy: 0.6749 - val_loss: 0.6932 - val_accuracy: 0.6869\n",
      "Epoch 84/100\n",
      "90/90 [==============================] - 0s 2ms/step - loss: 0.6932 - accuracy: 0.6647 - val_loss: 0.6932 - val_accuracy: 0.6857\n",
      "Epoch 85/100\n",
      "90/90 [==============================] - 0s 2ms/step - loss: 0.6932 - accuracy: 0.6699 - val_loss: 0.6932 - val_accuracy: 0.6694\n",
      "Epoch 86/100\n",
      "90/90 [==============================] - 0s 2ms/step - loss: 0.6932 - accuracy: 0.6626 - val_loss: 0.6932 - val_accuracy: 0.6884\n",
      "Epoch 87/100\n",
      "90/90 [==============================] - 0s 2ms/step - loss: 0.6932 - accuracy: 0.6693 - val_loss: 0.6932 - val_accuracy: 0.6725\n",
      "Epoch 88/100\n",
      "90/90 [==============================] - 0s 2ms/step - loss: 0.6932 - accuracy: 0.6630 - val_loss: 0.6932 - val_accuracy: 0.6812\n",
      "Epoch 89/100\n",
      "90/90 [==============================] - 0s 2ms/step - loss: 0.6932 - accuracy: 0.6524 - val_loss: 0.6932 - val_accuracy: 0.6694\n",
      "Epoch 90/100\n",
      "90/90 [==============================] - 0s 2ms/step - loss: 0.6932 - accuracy: 0.6705 - val_loss: 0.6932 - val_accuracy: 0.6804\n",
      "Epoch 91/100\n",
      "90/90 [==============================] - 0s 2ms/step - loss: 0.6932 - accuracy: 0.6568 - val_loss: 0.6932 - val_accuracy: 0.6691\n",
      "Epoch 92/100\n",
      "90/90 [==============================] - 0s 2ms/step - loss: 0.6932 - accuracy: 0.6593 - val_loss: 0.6932 - val_accuracy: 0.6812\n",
      "Epoch 93/100\n",
      "90/90 [==============================] - 0s 2ms/step - loss: 0.6932 - accuracy: 0.6757 - val_loss: 0.6932 - val_accuracy: 0.6778\n",
      "Epoch 94/100\n",
      "90/90 [==============================] - 0s 2ms/step - loss: 0.6932 - accuracy: 0.6522 - val_loss: 0.6932 - val_accuracy: 0.6774\n",
      "Epoch 95/100\n",
      "90/90 [==============================] - 0s 2ms/step - loss: 0.6932 - accuracy: 0.6727 - val_loss: 0.6932 - val_accuracy: 0.6895\n",
      "Epoch 96/100\n",
      "90/90 [==============================] - 0s 2ms/step - loss: 0.6932 - accuracy: 0.6684 - val_loss: 0.6932 - val_accuracy: 0.6835\n",
      "Epoch 97/100\n",
      "90/90 [==============================] - 0s 2ms/step - loss: 0.6932 - accuracy: 0.6774 - val_loss: 0.6932 - val_accuracy: 0.6891\n",
      "Epoch 98/100\n",
      "90/90 [==============================] - 0s 2ms/step - loss: 0.6932 - accuracy: 0.6660 - val_loss: 0.6932 - val_accuracy: 0.6729\n",
      "Epoch 99/100\n",
      "90/90 [==============================] - 0s 2ms/step - loss: 0.6932 - accuracy: 0.6680 - val_loss: 0.6932 - val_accuracy: 0.6884\n",
      "Epoch 100/100\n",
      "90/90 [==============================] - 0s 2ms/step - loss: 0.6932 - accuracy: 0.6753 - val_loss: 0.6932 - val_accuracy: 0.6956\n"
     ]
    }
   ],
   "source": [
    "history = model.fit(X_train, y_train, batch_size=60 , epochs= 100, validation_split=0.33, callbacks=[es])"
   ]
  },
  {
   "cell_type": "code",
   "execution_count": 435,
   "metadata": {},
   "outputs": [
    {
     "output_type": "execute_result",
     "data": {
      "text/plain": [
       "<Figure size 504x360 with 0 Axes>"
      ]
     },
     "metadata": {},
     "execution_count": 435
    },
    {
     "output_type": "execute_result",
     "data": {
      "text/plain": [
       "[<matplotlib.lines.Line2D at 0x1b4a68cb430>]"
      ]
     },
     "metadata": {},
     "execution_count": 435
    },
    {
     "output_type": "execute_result",
     "data": {
      "text/plain": [
       "[<matplotlib.lines.Line2D at 0x1b4a68cbcd0>]"
      ]
     },
     "metadata": {},
     "execution_count": 435
    },
    {
     "output_type": "execute_result",
     "data": {
      "text/plain": [
       "Text(0.5, 1.0, 'model accuracy')"
      ]
     },
     "metadata": {},
     "execution_count": 435
    },
    {
     "output_type": "execute_result",
     "data": {
      "text/plain": [
       "Text(0, 0.5, 'accuracy')"
      ]
     },
     "metadata": {},
     "execution_count": 435
    },
    {
     "output_type": "execute_result",
     "data": {
      "text/plain": [
       "Text(0.5, 0, 'epoch')"
      ]
     },
     "metadata": {},
     "execution_count": 435
    },
    {
     "output_type": "execute_result",
     "data": {
      "text/plain": [
       "<matplotlib.legend.Legend at 0x1b4a68cbbb0>"
      ]
     },
     "metadata": {},
     "execution_count": 435
    },
    {
     "output_type": "display_data",
     "data": {
      "text/plain": "<Figure size 504x360 with 1 Axes>",
      "image/svg+xml": "<?xml version=\"1.0\" encoding=\"utf-8\" standalone=\"no\"?>\r\n<!DOCTYPE svg PUBLIC \"-//W3C//DTD SVG 1.1//EN\"\r\n  \"http://www.w3.org/Graphics/SVG/1.1/DTD/svg11.dtd\">\r\n<!-- Created with matplotlib (https://matplotlib.org/) -->\r\n<svg height=\"331.674375pt\" version=\"1.1\" viewBox=\"0 0 447.94375 331.674375\" width=\"447.94375pt\" xmlns=\"http://www.w3.org/2000/svg\" xmlns:xlink=\"http://www.w3.org/1999/xlink\">\r\n <defs>\r\n  <style type=\"text/css\">\r\n*{stroke-linecap:butt;stroke-linejoin:round;}\r\n  </style>\r\n </defs>\r\n <g id=\"figure_1\">\r\n  <g id=\"patch_1\">\r\n   <path d=\"M 0 331.674375 \r\nL 447.94375 331.674375 \r\nL 447.94375 0 \r\nL 0 0 \r\nz\r\n\" style=\"fill:none;\"/>\r\n  </g>\r\n  <g id=\"axes_1\">\r\n   <g id=\"patch_2\">\r\n    <path d=\"M 50.14375 294.118125 \r\nL 440.74375 294.118125 \r\nL 440.74375 22.318125 \r\nL 50.14375 22.318125 \r\nz\r\n\" style=\"fill:#ffffff;\"/>\r\n   </g>\r\n   <g id=\"matplotlib.axis_1\">\r\n    <g id=\"xtick_1\">\r\n     <g id=\"line2d_1\">\r\n      <defs>\r\n       <path d=\"M 0 0 \r\nL 0 3.5 \r\n\" id=\"m96454ae630\" style=\"stroke:#000000;stroke-width:0.8;\"/>\r\n      </defs>\r\n      <g>\r\n       <use style=\"stroke:#000000;stroke-width:0.8;\" x=\"67.898295\" xlink:href=\"#m96454ae630\" y=\"294.118125\"/>\r\n      </g>\r\n     </g>\r\n     <g id=\"text_1\">\r\n      <!-- 0 -->\r\n      <defs>\r\n       <path d=\"M 31.78125 66.40625 \r\nQ 24.171875 66.40625 20.328125 58.90625 \r\nQ 16.5 51.421875 16.5 36.375 \r\nQ 16.5 21.390625 20.328125 13.890625 \r\nQ 24.171875 6.390625 31.78125 6.390625 \r\nQ 39.453125 6.390625 43.28125 13.890625 \r\nQ 47.125 21.390625 47.125 36.375 \r\nQ 47.125 51.421875 43.28125 58.90625 \r\nQ 39.453125 66.40625 31.78125 66.40625 \r\nz\r\nM 31.78125 74.21875 \r\nQ 44.046875 74.21875 50.515625 64.515625 \r\nQ 56.984375 54.828125 56.984375 36.375 \r\nQ 56.984375 17.96875 50.515625 8.265625 \r\nQ 44.046875 -1.421875 31.78125 -1.421875 \r\nQ 19.53125 -1.421875 13.0625 8.265625 \r\nQ 6.59375 17.96875 6.59375 36.375 \r\nQ 6.59375 54.828125 13.0625 64.515625 \r\nQ 19.53125 74.21875 31.78125 74.21875 \r\nz\r\n\" id=\"DejaVuSans-48\"/>\r\n      </defs>\r\n      <g transform=\"translate(64.717045 308.716563)scale(0.1 -0.1)\">\r\n       <use xlink:href=\"#DejaVuSans-48\"/>\r\n      </g>\r\n     </g>\r\n    </g>\r\n    <g id=\"xtick_2\">\r\n     <g id=\"line2d_2\">\r\n      <g>\r\n       <use style=\"stroke:#000000;stroke-width:0.8;\" x=\"139.633833\" xlink:href=\"#m96454ae630\" y=\"294.118125\"/>\r\n      </g>\r\n     </g>\r\n     <g id=\"text_2\">\r\n      <!-- 20 -->\r\n      <defs>\r\n       <path d=\"M 19.1875 8.296875 \r\nL 53.609375 8.296875 \r\nL 53.609375 0 \r\nL 7.328125 0 \r\nL 7.328125 8.296875 \r\nQ 12.9375 14.109375 22.625 23.890625 \r\nQ 32.328125 33.6875 34.8125 36.53125 \r\nQ 39.546875 41.84375 41.421875 45.53125 \r\nQ 43.3125 49.21875 43.3125 52.78125 \r\nQ 43.3125 58.59375 39.234375 62.25 \r\nQ 35.15625 65.921875 28.609375 65.921875 \r\nQ 23.96875 65.921875 18.8125 64.3125 \r\nQ 13.671875 62.703125 7.8125 59.421875 \r\nL 7.8125 69.390625 \r\nQ 13.765625 71.78125 18.9375 73 \r\nQ 24.125 74.21875 28.421875 74.21875 \r\nQ 39.75 74.21875 46.484375 68.546875 \r\nQ 53.21875 62.890625 53.21875 53.421875 \r\nQ 53.21875 48.921875 51.53125 44.890625 \r\nQ 49.859375 40.875 45.40625 35.40625 \r\nQ 44.1875 33.984375 37.640625 27.21875 \r\nQ 31.109375 20.453125 19.1875 8.296875 \r\nz\r\n\" id=\"DejaVuSans-50\"/>\r\n      </defs>\r\n      <g transform=\"translate(133.271333 308.716563)scale(0.1 -0.1)\">\r\n       <use xlink:href=\"#DejaVuSans-50\"/>\r\n       <use x=\"63.623047\" xlink:href=\"#DejaVuSans-48\"/>\r\n      </g>\r\n     </g>\r\n    </g>\r\n    <g id=\"xtick_3\">\r\n     <g id=\"line2d_3\">\r\n      <g>\r\n       <use style=\"stroke:#000000;stroke-width:0.8;\" x=\"211.36937\" xlink:href=\"#m96454ae630\" y=\"294.118125\"/>\r\n      </g>\r\n     </g>\r\n     <g id=\"text_3\">\r\n      <!-- 40 -->\r\n      <defs>\r\n       <path d=\"M 37.796875 64.3125 \r\nL 12.890625 25.390625 \r\nL 37.796875 25.390625 \r\nz\r\nM 35.203125 72.90625 \r\nL 47.609375 72.90625 \r\nL 47.609375 25.390625 \r\nL 58.015625 25.390625 \r\nL 58.015625 17.1875 \r\nL 47.609375 17.1875 \r\nL 47.609375 0 \r\nL 37.796875 0 \r\nL 37.796875 17.1875 \r\nL 4.890625 17.1875 \r\nL 4.890625 26.703125 \r\nz\r\n\" id=\"DejaVuSans-52\"/>\r\n      </defs>\r\n      <g transform=\"translate(205.00687 308.716563)scale(0.1 -0.1)\">\r\n       <use xlink:href=\"#DejaVuSans-52\"/>\r\n       <use x=\"63.623047\" xlink:href=\"#DejaVuSans-48\"/>\r\n      </g>\r\n     </g>\r\n    </g>\r\n    <g id=\"xtick_4\">\r\n     <g id=\"line2d_4\">\r\n      <g>\r\n       <use style=\"stroke:#000000;stroke-width:0.8;\" x=\"283.104907\" xlink:href=\"#m96454ae630\" y=\"294.118125\"/>\r\n      </g>\r\n     </g>\r\n     <g id=\"text_4\">\r\n      <!-- 60 -->\r\n      <defs>\r\n       <path d=\"M 33.015625 40.375 \r\nQ 26.375 40.375 22.484375 35.828125 \r\nQ 18.609375 31.296875 18.609375 23.390625 \r\nQ 18.609375 15.53125 22.484375 10.953125 \r\nQ 26.375 6.390625 33.015625 6.390625 \r\nQ 39.65625 6.390625 43.53125 10.953125 \r\nQ 47.40625 15.53125 47.40625 23.390625 \r\nQ 47.40625 31.296875 43.53125 35.828125 \r\nQ 39.65625 40.375 33.015625 40.375 \r\nz\r\nM 52.59375 71.296875 \r\nL 52.59375 62.3125 \r\nQ 48.875 64.0625 45.09375 64.984375 \r\nQ 41.3125 65.921875 37.59375 65.921875 \r\nQ 27.828125 65.921875 22.671875 59.328125 \r\nQ 17.53125 52.734375 16.796875 39.40625 \r\nQ 19.671875 43.65625 24.015625 45.921875 \r\nQ 28.375 48.1875 33.59375 48.1875 \r\nQ 44.578125 48.1875 50.953125 41.515625 \r\nQ 57.328125 34.859375 57.328125 23.390625 \r\nQ 57.328125 12.15625 50.6875 5.359375 \r\nQ 44.046875 -1.421875 33.015625 -1.421875 \r\nQ 20.359375 -1.421875 13.671875 8.265625 \r\nQ 6.984375 17.96875 6.984375 36.375 \r\nQ 6.984375 53.65625 15.1875 63.9375 \r\nQ 23.390625 74.21875 37.203125 74.21875 \r\nQ 40.921875 74.21875 44.703125 73.484375 \r\nQ 48.484375 72.75 52.59375 71.296875 \r\nz\r\n\" id=\"DejaVuSans-54\"/>\r\n      </defs>\r\n      <g transform=\"translate(276.742407 308.716563)scale(0.1 -0.1)\">\r\n       <use xlink:href=\"#DejaVuSans-54\"/>\r\n       <use x=\"63.623047\" xlink:href=\"#DejaVuSans-48\"/>\r\n      </g>\r\n     </g>\r\n    </g>\r\n    <g id=\"xtick_5\">\r\n     <g id=\"line2d_5\">\r\n      <g>\r\n       <use style=\"stroke:#000000;stroke-width:0.8;\" x=\"354.840444\" xlink:href=\"#m96454ae630\" y=\"294.118125\"/>\r\n      </g>\r\n     </g>\r\n     <g id=\"text_5\">\r\n      <!-- 80 -->\r\n      <defs>\r\n       <path d=\"M 31.78125 34.625 \r\nQ 24.75 34.625 20.71875 30.859375 \r\nQ 16.703125 27.09375 16.703125 20.515625 \r\nQ 16.703125 13.921875 20.71875 10.15625 \r\nQ 24.75 6.390625 31.78125 6.390625 \r\nQ 38.8125 6.390625 42.859375 10.171875 \r\nQ 46.921875 13.96875 46.921875 20.515625 \r\nQ 46.921875 27.09375 42.890625 30.859375 \r\nQ 38.875 34.625 31.78125 34.625 \r\nz\r\nM 21.921875 38.8125 \r\nQ 15.578125 40.375 12.03125 44.71875 \r\nQ 8.5 49.078125 8.5 55.328125 \r\nQ 8.5 64.0625 14.71875 69.140625 \r\nQ 20.953125 74.21875 31.78125 74.21875 \r\nQ 42.671875 74.21875 48.875 69.140625 \r\nQ 55.078125 64.0625 55.078125 55.328125 \r\nQ 55.078125 49.078125 51.53125 44.71875 \r\nQ 48 40.375 41.703125 38.8125 \r\nQ 48.828125 37.15625 52.796875 32.3125 \r\nQ 56.78125 27.484375 56.78125 20.515625 \r\nQ 56.78125 9.90625 50.3125 4.234375 \r\nQ 43.84375 -1.421875 31.78125 -1.421875 \r\nQ 19.734375 -1.421875 13.25 4.234375 \r\nQ 6.78125 9.90625 6.78125 20.515625 \r\nQ 6.78125 27.484375 10.78125 32.3125 \r\nQ 14.796875 37.15625 21.921875 38.8125 \r\nz\r\nM 18.3125 54.390625 \r\nQ 18.3125 48.734375 21.84375 45.5625 \r\nQ 25.390625 42.390625 31.78125 42.390625 \r\nQ 38.140625 42.390625 41.71875 45.5625 \r\nQ 45.3125 48.734375 45.3125 54.390625 \r\nQ 45.3125 60.0625 41.71875 63.234375 \r\nQ 38.140625 66.40625 31.78125 66.40625 \r\nQ 25.390625 66.40625 21.84375 63.234375 \r\nQ 18.3125 60.0625 18.3125 54.390625 \r\nz\r\n\" id=\"DejaVuSans-56\"/>\r\n      </defs>\r\n      <g transform=\"translate(348.477944 308.716563)scale(0.1 -0.1)\">\r\n       <use xlink:href=\"#DejaVuSans-56\"/>\r\n       <use x=\"63.623047\" xlink:href=\"#DejaVuSans-48\"/>\r\n      </g>\r\n     </g>\r\n    </g>\r\n    <g id=\"xtick_6\">\r\n     <g id=\"line2d_6\">\r\n      <g>\r\n       <use style=\"stroke:#000000;stroke-width:0.8;\" x=\"426.575981\" xlink:href=\"#m96454ae630\" y=\"294.118125\"/>\r\n      </g>\r\n     </g>\r\n     <g id=\"text_6\">\r\n      <!-- 100 -->\r\n      <defs>\r\n       <path d=\"M 12.40625 8.296875 \r\nL 28.515625 8.296875 \r\nL 28.515625 63.921875 \r\nL 10.984375 60.40625 \r\nL 10.984375 69.390625 \r\nL 28.421875 72.90625 \r\nL 38.28125 72.90625 \r\nL 38.28125 8.296875 \r\nL 54.390625 8.296875 \r\nL 54.390625 0 \r\nL 12.40625 0 \r\nz\r\n\" id=\"DejaVuSans-49\"/>\r\n      </defs>\r\n      <g transform=\"translate(417.032231 308.716563)scale(0.1 -0.1)\">\r\n       <use xlink:href=\"#DejaVuSans-49\"/>\r\n       <use x=\"63.623047\" xlink:href=\"#DejaVuSans-48\"/>\r\n       <use x=\"127.246094\" xlink:href=\"#DejaVuSans-48\"/>\r\n      </g>\r\n     </g>\r\n    </g>\r\n    <g id=\"text_7\">\r\n     <!-- epoch -->\r\n     <defs>\r\n      <path d=\"M 56.203125 29.59375 \r\nL 56.203125 25.203125 \r\nL 14.890625 25.203125 \r\nQ 15.484375 15.921875 20.484375 11.0625 \r\nQ 25.484375 6.203125 34.421875 6.203125 \r\nQ 39.59375 6.203125 44.453125 7.46875 \r\nQ 49.3125 8.734375 54.109375 11.28125 \r\nL 54.109375 2.78125 \r\nQ 49.265625 0.734375 44.1875 -0.34375 \r\nQ 39.109375 -1.421875 33.890625 -1.421875 \r\nQ 20.796875 -1.421875 13.15625 6.1875 \r\nQ 5.515625 13.8125 5.515625 26.8125 \r\nQ 5.515625 40.234375 12.765625 48.109375 \r\nQ 20.015625 56 32.328125 56 \r\nQ 43.359375 56 49.78125 48.890625 \r\nQ 56.203125 41.796875 56.203125 29.59375 \r\nz\r\nM 47.21875 32.234375 \r\nQ 47.125 39.59375 43.09375 43.984375 \r\nQ 39.0625 48.390625 32.421875 48.390625 \r\nQ 24.90625 48.390625 20.390625 44.140625 \r\nQ 15.875 39.890625 15.1875 32.171875 \r\nz\r\n\" id=\"DejaVuSans-101\"/>\r\n      <path d=\"M 18.109375 8.203125 \r\nL 18.109375 -20.796875 \r\nL 9.078125 -20.796875 \r\nL 9.078125 54.6875 \r\nL 18.109375 54.6875 \r\nL 18.109375 46.390625 \r\nQ 20.953125 51.265625 25.265625 53.625 \r\nQ 29.59375 56 35.59375 56 \r\nQ 45.5625 56 51.78125 48.09375 \r\nQ 58.015625 40.1875 58.015625 27.296875 \r\nQ 58.015625 14.40625 51.78125 6.484375 \r\nQ 45.5625 -1.421875 35.59375 -1.421875 \r\nQ 29.59375 -1.421875 25.265625 0.953125 \r\nQ 20.953125 3.328125 18.109375 8.203125 \r\nz\r\nM 48.6875 27.296875 \r\nQ 48.6875 37.203125 44.609375 42.84375 \r\nQ 40.53125 48.484375 33.40625 48.484375 \r\nQ 26.265625 48.484375 22.1875 42.84375 \r\nQ 18.109375 37.203125 18.109375 27.296875 \r\nQ 18.109375 17.390625 22.1875 11.75 \r\nQ 26.265625 6.109375 33.40625 6.109375 \r\nQ 40.53125 6.109375 44.609375 11.75 \r\nQ 48.6875 17.390625 48.6875 27.296875 \r\nz\r\n\" id=\"DejaVuSans-112\"/>\r\n      <path d=\"M 30.609375 48.390625 \r\nQ 23.390625 48.390625 19.1875 42.75 \r\nQ 14.984375 37.109375 14.984375 27.296875 \r\nQ 14.984375 17.484375 19.15625 11.84375 \r\nQ 23.34375 6.203125 30.609375 6.203125 \r\nQ 37.796875 6.203125 41.984375 11.859375 \r\nQ 46.1875 17.53125 46.1875 27.296875 \r\nQ 46.1875 37.015625 41.984375 42.703125 \r\nQ 37.796875 48.390625 30.609375 48.390625 \r\nz\r\nM 30.609375 56 \r\nQ 42.328125 56 49.015625 48.375 \r\nQ 55.71875 40.765625 55.71875 27.296875 \r\nQ 55.71875 13.875 49.015625 6.21875 \r\nQ 42.328125 -1.421875 30.609375 -1.421875 \r\nQ 18.84375 -1.421875 12.171875 6.21875 \r\nQ 5.515625 13.875 5.515625 27.296875 \r\nQ 5.515625 40.765625 12.171875 48.375 \r\nQ 18.84375 56 30.609375 56 \r\nz\r\n\" id=\"DejaVuSans-111\"/>\r\n      <path d=\"M 48.78125 52.59375 \r\nL 48.78125 44.1875 \r\nQ 44.96875 46.296875 41.140625 47.34375 \r\nQ 37.3125 48.390625 33.40625 48.390625 \r\nQ 24.65625 48.390625 19.8125 42.84375 \r\nQ 14.984375 37.3125 14.984375 27.296875 \r\nQ 14.984375 17.28125 19.8125 11.734375 \r\nQ 24.65625 6.203125 33.40625 6.203125 \r\nQ 37.3125 6.203125 41.140625 7.25 \r\nQ 44.96875 8.296875 48.78125 10.40625 \r\nL 48.78125 2.09375 \r\nQ 45.015625 0.34375 40.984375 -0.53125 \r\nQ 36.96875 -1.421875 32.421875 -1.421875 \r\nQ 20.0625 -1.421875 12.78125 6.34375 \r\nQ 5.515625 14.109375 5.515625 27.296875 \r\nQ 5.515625 40.671875 12.859375 48.328125 \r\nQ 20.21875 56 33.015625 56 \r\nQ 37.15625 56 41.109375 55.140625 \r\nQ 45.0625 54.296875 48.78125 52.59375 \r\nz\r\n\" id=\"DejaVuSans-99\"/>\r\n      <path d=\"M 54.890625 33.015625 \r\nL 54.890625 0 \r\nL 45.90625 0 \r\nL 45.90625 32.71875 \r\nQ 45.90625 40.484375 42.875 44.328125 \r\nQ 39.84375 48.1875 33.796875 48.1875 \r\nQ 26.515625 48.1875 22.3125 43.546875 \r\nQ 18.109375 38.921875 18.109375 30.90625 \r\nL 18.109375 0 \r\nL 9.078125 0 \r\nL 9.078125 75.984375 \r\nL 18.109375 75.984375 \r\nL 18.109375 46.1875 \r\nQ 21.34375 51.125 25.703125 53.5625 \r\nQ 30.078125 56 35.796875 56 \r\nQ 45.21875 56 50.046875 50.171875 \r\nQ 54.890625 44.34375 54.890625 33.015625 \r\nz\r\n\" id=\"DejaVuSans-104\"/>\r\n     </defs>\r\n     <g transform=\"translate(230.215625 322.394687)scale(0.1 -0.1)\">\r\n      <use xlink:href=\"#DejaVuSans-101\"/>\r\n      <use x=\"61.523438\" xlink:href=\"#DejaVuSans-112\"/>\r\n      <use x=\"125\" xlink:href=\"#DejaVuSans-111\"/>\r\n      <use x=\"186.181641\" xlink:href=\"#DejaVuSans-99\"/>\r\n      <use x=\"241.162109\" xlink:href=\"#DejaVuSans-104\"/>\r\n     </g>\r\n    </g>\r\n   </g>\r\n   <g id=\"matplotlib.axis_2\">\r\n    <g id=\"ytick_1\">\r\n     <g id=\"line2d_7\">\r\n      <defs>\r\n       <path d=\"M 0 0 \r\nL -3.5 0 \r\n\" id=\"mf1b2872fc3\" style=\"stroke:#000000;stroke-width:0.8;\"/>\r\n      </defs>\r\n      <g>\r\n       <use style=\"stroke:#000000;stroke-width:0.8;\" x=\"50.14375\" xlink:href=\"#mf1b2872fc3\" y=\"245.976937\"/>\r\n      </g>\r\n     </g>\r\n     <g id=\"text_8\">\r\n      <!-- 0.50 -->\r\n      <defs>\r\n       <path d=\"M 10.6875 12.40625 \r\nL 21 12.40625 \r\nL 21 0 \r\nL 10.6875 0 \r\nz\r\n\" id=\"DejaVuSans-46\"/>\r\n       <path d=\"M 10.796875 72.90625 \r\nL 49.515625 72.90625 \r\nL 49.515625 64.59375 \r\nL 19.828125 64.59375 \r\nL 19.828125 46.734375 \r\nQ 21.96875 47.46875 24.109375 47.828125 \r\nQ 26.265625 48.1875 28.421875 48.1875 \r\nQ 40.625 48.1875 47.75 41.5 \r\nQ 54.890625 34.8125 54.890625 23.390625 \r\nQ 54.890625 11.625 47.5625 5.09375 \r\nQ 40.234375 -1.421875 26.90625 -1.421875 \r\nQ 22.3125 -1.421875 17.546875 -0.640625 \r\nQ 12.796875 0.140625 7.71875 1.703125 \r\nL 7.71875 11.625 \r\nQ 12.109375 9.234375 16.796875 8.0625 \r\nQ 21.484375 6.890625 26.703125 6.890625 \r\nQ 35.15625 6.890625 40.078125 11.328125 \r\nQ 45.015625 15.765625 45.015625 23.390625 \r\nQ 45.015625 31 40.078125 35.4375 \r\nQ 35.15625 39.890625 26.703125 39.890625 \r\nQ 22.75 39.890625 18.8125 39.015625 \r\nQ 14.890625 38.140625 10.796875 36.28125 \r\nz\r\n\" id=\"DejaVuSans-53\"/>\r\n      </defs>\r\n      <g transform=\"translate(20.878125 249.776156)scale(0.1 -0.1)\">\r\n       <use xlink:href=\"#DejaVuSans-48\"/>\r\n       <use x=\"63.623047\" xlink:href=\"#DejaVuSans-46\"/>\r\n       <use x=\"95.410156\" xlink:href=\"#DejaVuSans-53\"/>\r\n       <use x=\"159.033203\" xlink:href=\"#DejaVuSans-48\"/>\r\n      </g>\r\n     </g>\r\n    </g>\r\n    <g id=\"ytick_2\">\r\n     <g id=\"line2d_8\">\r\n      <g>\r\n       <use style=\"stroke:#000000;stroke-width:0.8;\" x=\"50.14375\" xlink:href=\"#mf1b2872fc3\" y=\"191.954233\"/>\r\n      </g>\r\n     </g>\r\n     <g id=\"text_9\">\r\n      <!-- 0.55 -->\r\n      <g transform=\"translate(20.878125 195.753452)scale(0.1 -0.1)\">\r\n       <use xlink:href=\"#DejaVuSans-48\"/>\r\n       <use x=\"63.623047\" xlink:href=\"#DejaVuSans-46\"/>\r\n       <use x=\"95.410156\" xlink:href=\"#DejaVuSans-53\"/>\r\n       <use x=\"159.033203\" xlink:href=\"#DejaVuSans-53\"/>\r\n      </g>\r\n     </g>\r\n    </g>\r\n    <g id=\"ytick_3\">\r\n     <g id=\"line2d_9\">\r\n      <g>\r\n       <use style=\"stroke:#000000;stroke-width:0.8;\" x=\"50.14375\" xlink:href=\"#mf1b2872fc3\" y=\"137.931529\"/>\r\n      </g>\r\n     </g>\r\n     <g id=\"text_10\">\r\n      <!-- 0.60 -->\r\n      <g transform=\"translate(20.878125 141.730748)scale(0.1 -0.1)\">\r\n       <use xlink:href=\"#DejaVuSans-48\"/>\r\n       <use x=\"63.623047\" xlink:href=\"#DejaVuSans-46\"/>\r\n       <use x=\"95.410156\" xlink:href=\"#DejaVuSans-54\"/>\r\n       <use x=\"159.033203\" xlink:href=\"#DejaVuSans-48\"/>\r\n      </g>\r\n     </g>\r\n    </g>\r\n    <g id=\"ytick_4\">\r\n     <g id=\"line2d_10\">\r\n      <g>\r\n       <use style=\"stroke:#000000;stroke-width:0.8;\" x=\"50.14375\" xlink:href=\"#mf1b2872fc3\" y=\"83.908825\"/>\r\n      </g>\r\n     </g>\r\n     <g id=\"text_11\">\r\n      <!-- 0.65 -->\r\n      <g transform=\"translate(20.878125 87.708044)scale(0.1 -0.1)\">\r\n       <use xlink:href=\"#DejaVuSans-48\"/>\r\n       <use x=\"63.623047\" xlink:href=\"#DejaVuSans-46\"/>\r\n       <use x=\"95.410156\" xlink:href=\"#DejaVuSans-54\"/>\r\n       <use x=\"159.033203\" xlink:href=\"#DejaVuSans-53\"/>\r\n      </g>\r\n     </g>\r\n    </g>\r\n    <g id=\"ytick_5\">\r\n     <g id=\"line2d_11\">\r\n      <g>\r\n       <use style=\"stroke:#000000;stroke-width:0.8;\" x=\"50.14375\" xlink:href=\"#mf1b2872fc3\" y=\"29.886122\"/>\r\n      </g>\r\n     </g>\r\n     <g id=\"text_12\">\r\n      <!-- 0.70 -->\r\n      <defs>\r\n       <path d=\"M 8.203125 72.90625 \r\nL 55.078125 72.90625 \r\nL 55.078125 68.703125 \r\nL 28.609375 0 \r\nL 18.3125 0 \r\nL 43.21875 64.59375 \r\nL 8.203125 64.59375 \r\nz\r\n\" id=\"DejaVuSans-55\"/>\r\n      </defs>\r\n      <g transform=\"translate(20.878125 33.68534)scale(0.1 -0.1)\">\r\n       <use xlink:href=\"#DejaVuSans-48\"/>\r\n       <use x=\"63.623047\" xlink:href=\"#DejaVuSans-46\"/>\r\n       <use x=\"95.410156\" xlink:href=\"#DejaVuSans-55\"/>\r\n       <use x=\"159.033203\" xlink:href=\"#DejaVuSans-48\"/>\r\n      </g>\r\n     </g>\r\n    </g>\r\n    <g id=\"text_13\">\r\n     <!-- accuracy -->\r\n     <defs>\r\n      <path d=\"M 34.28125 27.484375 \r\nQ 23.390625 27.484375 19.1875 25 \r\nQ 14.984375 22.515625 14.984375 16.5 \r\nQ 14.984375 11.71875 18.140625 8.90625 \r\nQ 21.296875 6.109375 26.703125 6.109375 \r\nQ 34.1875 6.109375 38.703125 11.40625 \r\nQ 43.21875 16.703125 43.21875 25.484375 \r\nL 43.21875 27.484375 \r\nz\r\nM 52.203125 31.203125 \r\nL 52.203125 0 \r\nL 43.21875 0 \r\nL 43.21875 8.296875 \r\nQ 40.140625 3.328125 35.546875 0.953125 \r\nQ 30.953125 -1.421875 24.3125 -1.421875 \r\nQ 15.921875 -1.421875 10.953125 3.296875 \r\nQ 6 8.015625 6 15.921875 \r\nQ 6 25.140625 12.171875 29.828125 \r\nQ 18.359375 34.515625 30.609375 34.515625 \r\nL 43.21875 34.515625 \r\nL 43.21875 35.40625 \r\nQ 43.21875 41.609375 39.140625 45 \r\nQ 35.0625 48.390625 27.6875 48.390625 \r\nQ 23 48.390625 18.546875 47.265625 \r\nQ 14.109375 46.140625 10.015625 43.890625 \r\nL 10.015625 52.203125 \r\nQ 14.9375 54.109375 19.578125 55.046875 \r\nQ 24.21875 56 28.609375 56 \r\nQ 40.484375 56 46.34375 49.84375 \r\nQ 52.203125 43.703125 52.203125 31.203125 \r\nz\r\n\" id=\"DejaVuSans-97\"/>\r\n      <path d=\"M 8.5 21.578125 \r\nL 8.5 54.6875 \r\nL 17.484375 54.6875 \r\nL 17.484375 21.921875 \r\nQ 17.484375 14.15625 20.5 10.265625 \r\nQ 23.53125 6.390625 29.59375 6.390625 \r\nQ 36.859375 6.390625 41.078125 11.03125 \r\nQ 45.3125 15.671875 45.3125 23.6875 \r\nL 45.3125 54.6875 \r\nL 54.296875 54.6875 \r\nL 54.296875 0 \r\nL 45.3125 0 \r\nL 45.3125 8.40625 \r\nQ 42.046875 3.421875 37.71875 1 \r\nQ 33.40625 -1.421875 27.6875 -1.421875 \r\nQ 18.265625 -1.421875 13.375 4.4375 \r\nQ 8.5 10.296875 8.5 21.578125 \r\nz\r\nM 31.109375 56 \r\nz\r\n\" id=\"DejaVuSans-117\"/>\r\n      <path d=\"M 41.109375 46.296875 \r\nQ 39.59375 47.171875 37.8125 47.578125 \r\nQ 36.03125 48 33.890625 48 \r\nQ 26.265625 48 22.1875 43.046875 \r\nQ 18.109375 38.09375 18.109375 28.8125 \r\nL 18.109375 0 \r\nL 9.078125 0 \r\nL 9.078125 54.6875 \r\nL 18.109375 54.6875 \r\nL 18.109375 46.1875 \r\nQ 20.953125 51.171875 25.484375 53.578125 \r\nQ 30.03125 56 36.53125 56 \r\nQ 37.453125 56 38.578125 55.875 \r\nQ 39.703125 55.765625 41.0625 55.515625 \r\nz\r\n\" id=\"DejaVuSans-114\"/>\r\n      <path d=\"M 32.171875 -5.078125 \r\nQ 28.375 -14.84375 24.75 -17.8125 \r\nQ 21.140625 -20.796875 15.09375 -20.796875 \r\nL 7.90625 -20.796875 \r\nL 7.90625 -13.28125 \r\nL 13.1875 -13.28125 \r\nQ 16.890625 -13.28125 18.9375 -11.515625 \r\nQ 21 -9.765625 23.484375 -3.21875 \r\nL 25.09375 0.875 \r\nL 2.984375 54.6875 \r\nL 12.5 54.6875 \r\nL 29.59375 11.921875 \r\nL 46.6875 54.6875 \r\nL 56.203125 54.6875 \r\nz\r\n\" id=\"DejaVuSans-121\"/>\r\n     </defs>\r\n     <g transform=\"translate(14.798438 180.7775)rotate(-90)scale(0.1 -0.1)\">\r\n      <use xlink:href=\"#DejaVuSans-97\"/>\r\n      <use x=\"61.279297\" xlink:href=\"#DejaVuSans-99\"/>\r\n      <use x=\"116.259766\" xlink:href=\"#DejaVuSans-99\"/>\r\n      <use x=\"171.240234\" xlink:href=\"#DejaVuSans-117\"/>\r\n      <use x=\"234.619141\" xlink:href=\"#DejaVuSans-114\"/>\r\n      <use x=\"275.732422\" xlink:href=\"#DejaVuSans-97\"/>\r\n      <use x=\"337.011719\" xlink:href=\"#DejaVuSans-99\"/>\r\n      <use x=\"391.992188\" xlink:href=\"#DejaVuSans-121\"/>\r\n     </g>\r\n    </g>\r\n   </g>\r\n   <g id=\"line2d_12\">\r\n    <path clip-path=\"url(#pe2edd89c07)\" d=\"M 67.898295 281.76358 \r\nL 71.485072 163.818855 \r\nL 75.071849 182.569068 \r\nL 78.658626 185.190087 \r\nL 82.245403 188.21425 \r\nL 85.83218 194.464342 \r\nL 89.418957 185.794868 \r\nL 93.005733 182.770704 \r\nL 96.59251 181.762586 \r\nL 100.179287 177.730303 \r\nL 103.766064 179.343203 \r\nL 107.352841 171.278639 \r\nL 110.939618 179.746477 \r\nL 114.526395 179.54484 \r\nL 118.113171 173.698021 \r\nL 121.699948 168.859256 \r\nL 125.286725 165.835029 \r\nL 128.873502 166.036665 \r\nL 132.460279 165.028546 \r\nL 136.047056 154.947808 \r\nL 139.633833 156.157499 \r\nL 143.22061 142.044479 \r\nL 146.807386 144.463861 \r\nL 150.394163 145.068707 \r\nL 153.98094 139.42346 \r\nL 157.567717 136.600869 \r\nL 161.154494 136.19766 \r\nL 164.741271 137.608924 \r\nL 168.328048 130.75405 \r\nL 171.914824 127.326613 \r\nL 175.501601 117.447448 \r\nL 179.088378 129.947568 \r\nL 182.675155 115.028065 \r\nL 186.261932 108.576401 \r\nL 189.848709 107.971555 \r\nL 193.435486 113.011956 \r\nL 197.022262 120.471676 \r\nL 200.609039 103.939273 \r\nL 204.195816 98.294026 \r\nL 207.782593 107.36671 \r\nL 211.36937 99.705354 \r\nL 214.956147 100.713408 \r\nL 218.542924 94.664953 \r\nL 222.1297 97.890817 \r\nL 225.716477 86.802025 \r\nL 229.303254 84.382643 \r\nL 232.890031 106.358655 \r\nL 236.476808 90.027825 \r\nL 240.063585 91.640725 \r\nL 243.650362 75.108322 \r\nL 247.237138 81.358415 \r\nL 250.823915 84.987488 \r\nL 254.410692 85.793906 \r\nL 257.997469 84.382643 \r\nL 261.584246 73.697059 \r\nL 265.171023 94.060107 \r\nL 268.7578 88.011716 \r\nL 272.344576 79.543878 \r\nL 275.931353 75.713168 \r\nL 279.51813 88.616562 \r\nL 283.104907 76.922859 \r\nL 286.691684 69.664712 \r\nL 290.278461 77.124496 \r\nL 293.865238 70.471195 \r\nL 297.452014 74.503477 \r\nL 301.038791 75.713168 \r\nL 304.625568 84.987488 \r\nL 308.212345 80.350296 \r\nL 311.799122 70.067986 \r\nL 315.385899 73.293786 \r\nL 318.972676 57.366229 \r\nL 322.559452 77.930914 \r\nL 326.146229 78.737396 \r\nL 329.733006 68.858295 \r\nL 333.319783 71.277677 \r\nL 336.90656 65.229221 \r\nL 340.493337 59.382402 \r\nL 344.080114 70.874403 \r\nL 347.66689 80.148724 \r\nL 351.253667 69.664712 \r\nL 354.840444 62.809839 \r\nL 358.427221 72.084095 \r\nL 362.013998 56.96302 \r\nL 365.600775 68.051812 \r\nL 369.187552 62.40663 \r\nL 372.774329 70.269558 \r\nL 376.361105 63.011476 \r\nL 379.947882 69.866349 \r\nL 383.534659 81.358415 \r\nL 387.121436 61.801784 \r\nL 390.708213 76.51965 \r\nL 394.29499 73.898631 \r\nL 397.881767 56.156538 \r\nL 401.468543 81.559987 \r\nL 405.05532 59.382402 \r\nL 408.642097 64.01953 \r\nL 412.228874 54.342001 \r\nL 415.815651 66.640485 \r\nL 419.402428 64.422739 \r\nL 422.989205 56.559747 \r\n\" style=\"fill:none;stroke:#1f77b4;stroke-linecap:square;stroke-width:1.5;\"/>\r\n   </g>\r\n   <g id=\"line2d_13\">\r\n    <path clip-path=\"url(#pe2edd89c07)\" d=\"M 67.898295 139.813403 \r\nL 71.485072 158.223261 \r\nL 75.071849 180.724199 \r\nL 78.658626 179.905996 \r\nL 82.245403 182.360669 \r\nL 85.83218 183.588006 \r\nL 89.418957 187.269952 \r\nL 93.005733 185.224412 \r\nL 96.59251 191.361031 \r\nL 100.179287 193.815705 \r\nL 103.766064 181.542466 \r\nL 107.352841 174.996713 \r\nL 110.939618 174.996713 \r\nL 114.526395 165.178148 \r\nL 118.113171 164.35988 \r\nL 121.699948 160.268801 \r\nL 125.286725 163.132608 \r\nL 128.873502 154.950449 \r\nL 132.460279 158.223261 \r\nL 136.047056 154.950449 \r\nL 139.633833 146.76829 \r\nL 143.22061 146.359156 \r\nL 146.807386 147.995562 \r\nL 150.394163 136.540591 \r\nL 153.98094 141.04074 \r\nL 157.567717 134.90412 \r\nL 161.154494 138.176997 \r\nL 164.741271 135.313254 \r\nL 168.328048 123.858218 \r\nL 171.914824 120.994475 \r\nL 175.501601 121.403545 \r\nL 179.088378 116.494262 \r\nL 182.675155 119.358005 \r\nL 186.261932 111.175846 \r\nL 189.848709 114.857856 \r\nL 193.435486 109.53944 \r\nL 197.022262 107.4939 \r\nL 200.609039 101.35728 \r\nL 204.195816 108.721237 \r\nL 207.782593 104.221023 \r\nL 211.36937 109.948573 \r\nL 214.956147 102.175484 \r\nL 218.542924 105.039226 \r\nL 222.1297 90.720448 \r\nL 225.716477 91.947785 \r\nL 229.303254 101.766414 \r\nL 232.890031 102.993687 \r\nL 236.476808 84.992962 \r\nL 240.063585 89.493175 \r\nL 243.650362 78.856343 \r\nL 247.237138 77.629006 \r\nL 250.823915 75.174397 \r\nL 254.410692 70.26505 \r\nL 257.997469 71.492387 \r\nL 261.584246 74.765263 \r\nL 265.171023 87.038502 \r\nL 268.7578 78.856343 \r\nL 272.344576 81.720086 \r\nL 275.931353 64.537564 \r\nL 279.51813 78.447209 \r\nL 283.104907 54.718999 \r\nL 286.691684 53.491662 \r\nL 290.278461 59.219148 \r\nL 293.865238 54.309865 \r\nL 297.452014 54.718999 \r\nL 301.038791 66.583104 \r\nL 304.625568 67.401307 \r\nL 308.212345 67.810441 \r\nL 311.799122 50.218786 \r\nL 315.385899 44.900369 \r\nL 318.972676 53.082529 \r\nL 322.559452 66.17397 \r\nL 326.146229 65.355767 \r\nL 329.733006 48.173246 \r\nL 333.319783 50.218786 \r\nL 336.90656 43.263963 \r\nL 340.493337 46.127706 \r\nL 344.080114 51.036989 \r\nL 347.66689 61.673821 \r\nL 351.253667 44.4913 \r\nL 354.840444 46.945909 \r\nL 358.427221 48.58238 \r\nL 362.013998 44.082166 \r\nL 365.600775 45.309503 \r\nL 369.187552 62.901158 \r\nL 372.774329 42.44576 \r\nL 376.361105 59.628282 \r\nL 379.947882 50.218786 \r\nL 383.534659 62.901158 \r\nL 387.121436 51.036989 \r\nL 390.708213 63.310228 \r\nL 394.29499 50.218786 \r\nL 397.881767 53.900732 \r\nL 401.468543 54.309865 \r\nL 405.05532 41.218424 \r\nL 408.642097 47.764112 \r\nL 412.228874 41.627493 \r\nL 415.815651 59.219148 \r\nL 419.402428 42.44576 \r\nL 422.989205 34.67267 \r\n\" style=\"fill:none;stroke:#ff7f0e;stroke-linecap:square;stroke-width:1.5;\"/>\r\n   </g>\r\n   <g id=\"patch_3\">\r\n    <path d=\"M 50.14375 294.118125 \r\nL 50.14375 22.318125 \r\n\" style=\"fill:none;stroke:#000000;stroke-linecap:square;stroke-linejoin:miter;stroke-width:0.8;\"/>\r\n   </g>\r\n   <g id=\"patch_4\">\r\n    <path d=\"M 440.74375 294.118125 \r\nL 440.74375 22.318125 \r\n\" style=\"fill:none;stroke:#000000;stroke-linecap:square;stroke-linejoin:miter;stroke-width:0.8;\"/>\r\n   </g>\r\n   <g id=\"patch_5\">\r\n    <path d=\"M 50.14375 294.118125 \r\nL 440.74375 294.118125 \r\n\" style=\"fill:none;stroke:#000000;stroke-linecap:square;stroke-linejoin:miter;stroke-width:0.8;\"/>\r\n   </g>\r\n   <g id=\"patch_6\">\r\n    <path d=\"M 50.14375 22.318125 \r\nL 440.74375 22.318125 \r\n\" style=\"fill:none;stroke:#000000;stroke-linecap:square;stroke-linejoin:miter;stroke-width:0.8;\"/>\r\n   </g>\r\n   <g id=\"text_14\">\r\n    <!-- model accuracy -->\r\n    <defs>\r\n     <path d=\"M 52 44.1875 \r\nQ 55.375 50.25 60.0625 53.125 \r\nQ 64.75 56 71.09375 56 \r\nQ 79.640625 56 84.28125 50.015625 \r\nQ 88.921875 44.046875 88.921875 33.015625 \r\nL 88.921875 0 \r\nL 79.890625 0 \r\nL 79.890625 32.71875 \r\nQ 79.890625 40.578125 77.09375 44.375 \r\nQ 74.3125 48.1875 68.609375 48.1875 \r\nQ 61.625 48.1875 57.5625 43.546875 \r\nQ 53.515625 38.921875 53.515625 30.90625 \r\nL 53.515625 0 \r\nL 44.484375 0 \r\nL 44.484375 32.71875 \r\nQ 44.484375 40.625 41.703125 44.40625 \r\nQ 38.921875 48.1875 33.109375 48.1875 \r\nQ 26.21875 48.1875 22.15625 43.53125 \r\nQ 18.109375 38.875 18.109375 30.90625 \r\nL 18.109375 0 \r\nL 9.078125 0 \r\nL 9.078125 54.6875 \r\nL 18.109375 54.6875 \r\nL 18.109375 46.1875 \r\nQ 21.1875 51.21875 25.484375 53.609375 \r\nQ 29.78125 56 35.6875 56 \r\nQ 41.65625 56 45.828125 52.96875 \r\nQ 50 49.953125 52 44.1875 \r\nz\r\n\" id=\"DejaVuSans-109\"/>\r\n     <path d=\"M 45.40625 46.390625 \r\nL 45.40625 75.984375 \r\nL 54.390625 75.984375 \r\nL 54.390625 0 \r\nL 45.40625 0 \r\nL 45.40625 8.203125 \r\nQ 42.578125 3.328125 38.25 0.953125 \r\nQ 33.9375 -1.421875 27.875 -1.421875 \r\nQ 17.96875 -1.421875 11.734375 6.484375 \r\nQ 5.515625 14.40625 5.515625 27.296875 \r\nQ 5.515625 40.1875 11.734375 48.09375 \r\nQ 17.96875 56 27.875 56 \r\nQ 33.9375 56 38.25 53.625 \r\nQ 42.578125 51.265625 45.40625 46.390625 \r\nz\r\nM 14.796875 27.296875 \r\nQ 14.796875 17.390625 18.875 11.75 \r\nQ 22.953125 6.109375 30.078125 6.109375 \r\nQ 37.203125 6.109375 41.296875 11.75 \r\nQ 45.40625 17.390625 45.40625 27.296875 \r\nQ 45.40625 37.203125 41.296875 42.84375 \r\nQ 37.203125 48.484375 30.078125 48.484375 \r\nQ 22.953125 48.484375 18.875 42.84375 \r\nQ 14.796875 37.203125 14.796875 27.296875 \r\nz\r\n\" id=\"DejaVuSans-100\"/>\r\n     <path d=\"M 9.421875 75.984375 \r\nL 18.40625 75.984375 \r\nL 18.40625 0 \r\nL 9.421875 0 \r\nz\r\n\" id=\"DejaVuSans-108\"/>\r\n     <path id=\"DejaVuSans-32\"/>\r\n    </defs>\r\n    <g transform=\"translate(197.782188 16.318125)scale(0.12 -0.12)\">\r\n     <use xlink:href=\"#DejaVuSans-109\"/>\r\n     <use x=\"97.412109\" xlink:href=\"#DejaVuSans-111\"/>\r\n     <use x=\"158.59375\" xlink:href=\"#DejaVuSans-100\"/>\r\n     <use x=\"222.070312\" xlink:href=\"#DejaVuSans-101\"/>\r\n     <use x=\"283.59375\" xlink:href=\"#DejaVuSans-108\"/>\r\n     <use x=\"311.376953\" xlink:href=\"#DejaVuSans-32\"/>\r\n     <use x=\"343.164062\" xlink:href=\"#DejaVuSans-97\"/>\r\n     <use x=\"404.443359\" xlink:href=\"#DejaVuSans-99\"/>\r\n     <use x=\"459.423828\" xlink:href=\"#DejaVuSans-99\"/>\r\n     <use x=\"514.404297\" xlink:href=\"#DejaVuSans-117\"/>\r\n     <use x=\"577.783203\" xlink:href=\"#DejaVuSans-114\"/>\r\n     <use x=\"618.896484\" xlink:href=\"#DejaVuSans-97\"/>\r\n     <use x=\"680.175781\" xlink:href=\"#DejaVuSans-99\"/>\r\n     <use x=\"735.15625\" xlink:href=\"#DejaVuSans-121\"/>\r\n    </g>\r\n   </g>\r\n   <g id=\"legend_1\">\r\n    <g id=\"patch_7\">\r\n     <path d=\"M 378.46875 289.118125 \r\nL 433.74375 289.118125 \r\nQ 435.74375 289.118125 435.74375 287.118125 \r\nL 435.74375 258.761875 \r\nQ 435.74375 256.761875 433.74375 256.761875 \r\nL 378.46875 256.761875 \r\nQ 376.46875 256.761875 376.46875 258.761875 \r\nL 376.46875 287.118125 \r\nQ 376.46875 289.118125 378.46875 289.118125 \r\nz\r\n\" style=\"fill:#ffffff;opacity:0.8;stroke:#cccccc;stroke-linejoin:miter;\"/>\r\n    </g>\r\n    <g id=\"line2d_14\">\r\n     <path d=\"M 380.46875 264.860312 \r\nL 400.46875 264.860312 \r\n\" style=\"fill:none;stroke:#1f77b4;stroke-linecap:square;stroke-width:1.5;\"/>\r\n    </g>\r\n    <g id=\"line2d_15\"/>\r\n    <g id=\"text_15\">\r\n     <!-- train -->\r\n     <defs>\r\n      <path d=\"M 18.3125 70.21875 \r\nL 18.3125 54.6875 \r\nL 36.8125 54.6875 \r\nL 36.8125 47.703125 \r\nL 18.3125 47.703125 \r\nL 18.3125 18.015625 \r\nQ 18.3125 11.328125 20.140625 9.421875 \r\nQ 21.96875 7.515625 27.59375 7.515625 \r\nL 36.8125 7.515625 \r\nL 36.8125 0 \r\nL 27.59375 0 \r\nQ 17.1875 0 13.234375 3.875 \r\nQ 9.28125 7.765625 9.28125 18.015625 \r\nL 9.28125 47.703125 \r\nL 2.6875 47.703125 \r\nL 2.6875 54.6875 \r\nL 9.28125 54.6875 \r\nL 9.28125 70.21875 \r\nz\r\n\" id=\"DejaVuSans-116\"/>\r\n      <path d=\"M 9.421875 54.6875 \r\nL 18.40625 54.6875 \r\nL 18.40625 0 \r\nL 9.421875 0 \r\nz\r\nM 9.421875 75.984375 \r\nL 18.40625 75.984375 \r\nL 18.40625 64.59375 \r\nL 9.421875 64.59375 \r\nz\r\n\" id=\"DejaVuSans-105\"/>\r\n      <path d=\"M 54.890625 33.015625 \r\nL 54.890625 0 \r\nL 45.90625 0 \r\nL 45.90625 32.71875 \r\nQ 45.90625 40.484375 42.875 44.328125 \r\nQ 39.84375 48.1875 33.796875 48.1875 \r\nQ 26.515625 48.1875 22.3125 43.546875 \r\nQ 18.109375 38.921875 18.109375 30.90625 \r\nL 18.109375 0 \r\nL 9.078125 0 \r\nL 9.078125 54.6875 \r\nL 18.109375 54.6875 \r\nL 18.109375 46.1875 \r\nQ 21.34375 51.125 25.703125 53.5625 \r\nQ 30.078125 56 35.796875 56 \r\nQ 45.21875 56 50.046875 50.171875 \r\nQ 54.890625 44.34375 54.890625 33.015625 \r\nz\r\n\" id=\"DejaVuSans-110\"/>\r\n     </defs>\r\n     <g transform=\"translate(408.46875 268.360312)scale(0.1 -0.1)\">\r\n      <use xlink:href=\"#DejaVuSans-116\"/>\r\n      <use x=\"39.208984\" xlink:href=\"#DejaVuSans-114\"/>\r\n      <use x=\"80.322266\" xlink:href=\"#DejaVuSans-97\"/>\r\n      <use x=\"141.601562\" xlink:href=\"#DejaVuSans-105\"/>\r\n      <use x=\"169.384766\" xlink:href=\"#DejaVuSans-110\"/>\r\n     </g>\r\n    </g>\r\n    <g id=\"line2d_16\">\r\n     <path d=\"M 380.46875 279.538437 \r\nL 400.46875 279.538437 \r\n\" style=\"fill:none;stroke:#ff7f0e;stroke-linecap:square;stroke-width:1.5;\"/>\r\n    </g>\r\n    <g id=\"line2d_17\"/>\r\n    <g id=\"text_16\">\r\n     <!-- val -->\r\n     <defs>\r\n      <path d=\"M 2.984375 54.6875 \r\nL 12.5 54.6875 \r\nL 29.59375 8.796875 \r\nL 46.6875 54.6875 \r\nL 56.203125 54.6875 \r\nL 35.6875 0 \r\nL 23.484375 0 \r\nz\r\n\" id=\"DejaVuSans-118\"/>\r\n     </defs>\r\n     <g transform=\"translate(408.46875 283.038437)scale(0.1 -0.1)\">\r\n      <use xlink:href=\"#DejaVuSans-118\"/>\r\n      <use x=\"59.179688\" xlink:href=\"#DejaVuSans-97\"/>\r\n      <use x=\"120.458984\" xlink:href=\"#DejaVuSans-108\"/>\r\n     </g>\r\n    </g>\r\n   </g>\r\n  </g>\r\n </g>\r\n <defs>\r\n  <clipPath id=\"pe2edd89c07\">\r\n   <rect height=\"271.8\" width=\"390.6\" x=\"50.14375\" y=\"22.318125\"/>\r\n  </clipPath>\r\n </defs>\r\n</svg>\r\n",
      "image/png": "[encoded data removed]"
     },
     "metadata": {
      "needs_background": "light"
     }
    }
   ],
   "source": [
    "import matplotlib.pyplot as plt\n",
    "\n",
    "plt.figure(figsize = (7,5))\n",
    "plt.plot(history.history['accuracy'])\n",
    "plt.plot(history.history['val_accuracy'])\n",
    "plt.title('model accuracy')\n",
    "plt.ylabel('accuracy')\n",
    "plt.xlabel('epoch')\n",
    "plt.legend(['train', 'val'], loc='lower right')\n",
    "plt.show()"
   ]
  },
  {
   "cell_type": "code",
   "execution_count": null,
   "metadata": {},
   "outputs": [],
   "source": []
  },
  {
   "cell_type": "code",
   "execution_count": 436,
   "metadata": {},
   "outputs": [
    {
     "output_type": "execute_result",
     "data": {
      "text/plain": [
       "<Figure size 504x360 with 0 Axes>"
      ]
     },
     "metadata": {},
     "execution_count": 436
    },
    {
     "output_type": "execute_result",
     "data": {
      "text/plain": [
       "[<matplotlib.lines.Line2D at 0x1b4ab4258b0>]"
      ]
     },
     "metadata": {},
     "execution_count": 436
    },
    {
     "output_type": "execute_result",
     "data": {
      "text/plain": [
       "[<matplotlib.lines.Line2D at 0x1b4ab425d90>]"
      ]
     },
     "metadata": {},
     "execution_count": 436
    },
    {
     "output_type": "execute_result",
     "data": {
      "text/plain": [
       "Text(0.5, 1.0, 'model loss')"
      ]
     },
     "metadata": {},
     "execution_count": 436
    },
    {
     "output_type": "execute_result",
     "data": {
      "text/plain": [
       "Text(0, 0.5, 'loss')"
      ]
     },
     "metadata": {},
     "execution_count": 436
    },
    {
     "output_type": "execute_result",
     "data": {
      "text/plain": [
       "Text(0.5, 0, 'epoch')"
      ]
     },
     "metadata": {},
     "execution_count": 436
    },
    {
     "output_type": "execute_result",
     "data": {
      "text/plain": [
       "<matplotlib.legend.Legend at 0x1b4a9275100>"
      ]
     },
     "metadata": {},
     "execution_count": 436
    },
    {
     "output_type": "display_data",
     "data": {
      "text/plain": "<Figure size 504x360 with 1 Axes>",
      "image/svg+xml": "<?xml version=\"1.0\" encoding=\"utf-8\" standalone=\"no\"?>\r\n<!DOCTYPE svg PUBLIC \"-//W3C//DTD SVG 1.1//EN\"\r\n  \"http://www.w3.org/Graphics/SVG/1.1/DTD/svg11.dtd\">\r\n<!-- Created with matplotlib (https://matplotlib.org/) -->\r\n<svg height=\"331.674375pt\" version=\"1.1\" viewBox=\"0 0 454.30625 331.674375\" width=\"454.30625pt\" xmlns=\"http://www.w3.org/2000/svg\" xmlns:xlink=\"http://www.w3.org/1999/xlink\">\r\n <defs>\r\n  <style type=\"text/css\">\r\n*{stroke-linecap:butt;stroke-linejoin:round;}\r\n  </style>\r\n </defs>\r\n <g id=\"figure_1\">\r\n  <g id=\"patch_1\">\r\n   <path d=\"M 0 331.674375 \r\nL 454.30625 331.674375 \r\nL 454.30625 0 \r\nL 0 0 \r\nz\r\n\" style=\"fill:none;\"/>\r\n  </g>\r\n  <g id=\"axes_1\">\r\n   <g id=\"patch_2\">\r\n    <path d=\"M 56.50625 294.118125 \r\nL 447.10625 294.118125 \r\nL 447.10625 22.318125 \r\nL 56.50625 22.318125 \r\nz\r\n\" style=\"fill:#ffffff;\"/>\r\n   </g>\r\n   <g id=\"matplotlib.axis_1\">\r\n    <g id=\"xtick_1\">\r\n     <g id=\"line2d_1\">\r\n      <defs>\r\n       <path d=\"M 0 0 \r\nL 0 3.5 \r\n\" id=\"m1e2e5953bb\" style=\"stroke:#000000;stroke-width:0.8;\"/>\r\n      </defs>\r\n      <g>\r\n       <use style=\"stroke:#000000;stroke-width:0.8;\" x=\"74.260795\" xlink:href=\"#m1e2e5953bb\" y=\"294.118125\"/>\r\n      </g>\r\n     </g>\r\n     <g id=\"text_1\">\r\n      <!-- 0 -->\r\n      <defs>\r\n       <path d=\"M 31.78125 66.40625 \r\nQ 24.171875 66.40625 20.328125 58.90625 \r\nQ 16.5 51.421875 16.5 36.375 \r\nQ 16.5 21.390625 20.328125 13.890625 \r\nQ 24.171875 6.390625 31.78125 6.390625 \r\nQ 39.453125 6.390625 43.28125 13.890625 \r\nQ 47.125 21.390625 47.125 36.375 \r\nQ 47.125 51.421875 43.28125 58.90625 \r\nQ 39.453125 66.40625 31.78125 66.40625 \r\nz\r\nM 31.78125 74.21875 \r\nQ 44.046875 74.21875 50.515625 64.515625 \r\nQ 56.984375 54.828125 56.984375 36.375 \r\nQ 56.984375 17.96875 50.515625 8.265625 \r\nQ 44.046875 -1.421875 31.78125 -1.421875 \r\nQ 19.53125 -1.421875 13.0625 8.265625 \r\nQ 6.59375 17.96875 6.59375 36.375 \r\nQ 6.59375 54.828125 13.0625 64.515625 \r\nQ 19.53125 74.21875 31.78125 74.21875 \r\nz\r\n\" id=\"DejaVuSans-48\"/>\r\n      </defs>\r\n      <g transform=\"translate(71.079545 308.716563)scale(0.1 -0.1)\">\r\n       <use xlink:href=\"#DejaVuSans-48\"/>\r\n      </g>\r\n     </g>\r\n    </g>\r\n    <g id=\"xtick_2\">\r\n     <g id=\"line2d_2\">\r\n      <g>\r\n       <use style=\"stroke:#000000;stroke-width:0.8;\" x=\"145.996333\" xlink:href=\"#m1e2e5953bb\" y=\"294.118125\"/>\r\n      </g>\r\n     </g>\r\n     <g id=\"text_2\">\r\n      <!-- 20 -->\r\n      <defs>\r\n       <path d=\"M 19.1875 8.296875 \r\nL 53.609375 8.296875 \r\nL 53.609375 0 \r\nL 7.328125 0 \r\nL 7.328125 8.296875 \r\nQ 12.9375 14.109375 22.625 23.890625 \r\nQ 32.328125 33.6875 34.8125 36.53125 \r\nQ 39.546875 41.84375 41.421875 45.53125 \r\nQ 43.3125 49.21875 43.3125 52.78125 \r\nQ 43.3125 58.59375 39.234375 62.25 \r\nQ 35.15625 65.921875 28.609375 65.921875 \r\nQ 23.96875 65.921875 18.8125 64.3125 \r\nQ 13.671875 62.703125 7.8125 59.421875 \r\nL 7.8125 69.390625 \r\nQ 13.765625 71.78125 18.9375 73 \r\nQ 24.125 74.21875 28.421875 74.21875 \r\nQ 39.75 74.21875 46.484375 68.546875 \r\nQ 53.21875 62.890625 53.21875 53.421875 \r\nQ 53.21875 48.921875 51.53125 44.890625 \r\nQ 49.859375 40.875 45.40625 35.40625 \r\nQ 44.1875 33.984375 37.640625 27.21875 \r\nQ 31.109375 20.453125 19.1875 8.296875 \r\nz\r\n\" id=\"DejaVuSans-50\"/>\r\n      </defs>\r\n      <g transform=\"translate(139.633833 308.716563)scale(0.1 -0.1)\">\r\n       <use xlink:href=\"#DejaVuSans-50\"/>\r\n       <use x=\"63.623047\" xlink:href=\"#DejaVuSans-48\"/>\r\n      </g>\r\n     </g>\r\n    </g>\r\n    <g id=\"xtick_3\">\r\n     <g id=\"line2d_3\">\r\n      <g>\r\n       <use style=\"stroke:#000000;stroke-width:0.8;\" x=\"217.73187\" xlink:href=\"#m1e2e5953bb\" y=\"294.118125\"/>\r\n      </g>\r\n     </g>\r\n     <g id=\"text_3\">\r\n      <!-- 40 -->\r\n      <defs>\r\n       <path d=\"M 37.796875 64.3125 \r\nL 12.890625 25.390625 \r\nL 37.796875 25.390625 \r\nz\r\nM 35.203125 72.90625 \r\nL 47.609375 72.90625 \r\nL 47.609375 25.390625 \r\nL 58.015625 25.390625 \r\nL 58.015625 17.1875 \r\nL 47.609375 17.1875 \r\nL 47.609375 0 \r\nL 37.796875 0 \r\nL 37.796875 17.1875 \r\nL 4.890625 17.1875 \r\nL 4.890625 26.703125 \r\nz\r\n\" id=\"DejaVuSans-52\"/>\r\n      </defs>\r\n      <g transform=\"translate(211.36937 308.716563)scale(0.1 -0.1)\">\r\n       <use xlink:href=\"#DejaVuSans-52\"/>\r\n       <use x=\"63.623047\" xlink:href=\"#DejaVuSans-48\"/>\r\n      </g>\r\n     </g>\r\n    </g>\r\n    <g id=\"xtick_4\">\r\n     <g id=\"line2d_4\">\r\n      <g>\r\n       <use style=\"stroke:#000000;stroke-width:0.8;\" x=\"289.467407\" xlink:href=\"#m1e2e5953bb\" y=\"294.118125\"/>\r\n      </g>\r\n     </g>\r\n     <g id=\"text_4\">\r\n      <!-- 60 -->\r\n      <defs>\r\n       <path d=\"M 33.015625 40.375 \r\nQ 26.375 40.375 22.484375 35.828125 \r\nQ 18.609375 31.296875 18.609375 23.390625 \r\nQ 18.609375 15.53125 22.484375 10.953125 \r\nQ 26.375 6.390625 33.015625 6.390625 \r\nQ 39.65625 6.390625 43.53125 10.953125 \r\nQ 47.40625 15.53125 47.40625 23.390625 \r\nQ 47.40625 31.296875 43.53125 35.828125 \r\nQ 39.65625 40.375 33.015625 40.375 \r\nz\r\nM 52.59375 71.296875 \r\nL 52.59375 62.3125 \r\nQ 48.875 64.0625 45.09375 64.984375 \r\nQ 41.3125 65.921875 37.59375 65.921875 \r\nQ 27.828125 65.921875 22.671875 59.328125 \r\nQ 17.53125 52.734375 16.796875 39.40625 \r\nQ 19.671875 43.65625 24.015625 45.921875 \r\nQ 28.375 48.1875 33.59375 48.1875 \r\nQ 44.578125 48.1875 50.953125 41.515625 \r\nQ 57.328125 34.859375 57.328125 23.390625 \r\nQ 57.328125 12.15625 50.6875 5.359375 \r\nQ 44.046875 -1.421875 33.015625 -1.421875 \r\nQ 20.359375 -1.421875 13.671875 8.265625 \r\nQ 6.984375 17.96875 6.984375 36.375 \r\nQ 6.984375 53.65625 15.1875 63.9375 \r\nQ 23.390625 74.21875 37.203125 74.21875 \r\nQ 40.921875 74.21875 44.703125 73.484375 \r\nQ 48.484375 72.75 52.59375 71.296875 \r\nz\r\n\" id=\"DejaVuSans-54\"/>\r\n      </defs>\r\n      <g transform=\"translate(283.104907 308.716563)scale(0.1 -0.1)\">\r\n       <use xlink:href=\"#DejaVuSans-54\"/>\r\n       <use x=\"63.623047\" xlink:href=\"#DejaVuSans-48\"/>\r\n      </g>\r\n     </g>\r\n    </g>\r\n    <g id=\"xtick_5\">\r\n     <g id=\"line2d_5\">\r\n      <g>\r\n       <use style=\"stroke:#000000;stroke-width:0.8;\" x=\"361.202944\" xlink:href=\"#m1e2e5953bb\" y=\"294.118125\"/>\r\n      </g>\r\n     </g>\r\n     <g id=\"text_5\">\r\n      <!-- 80 -->\r\n      <defs>\r\n       <path d=\"M 31.78125 34.625 \r\nQ 24.75 34.625 20.71875 30.859375 \r\nQ 16.703125 27.09375 16.703125 20.515625 \r\nQ 16.703125 13.921875 20.71875 10.15625 \r\nQ 24.75 6.390625 31.78125 6.390625 \r\nQ 38.8125 6.390625 42.859375 10.171875 \r\nQ 46.921875 13.96875 46.921875 20.515625 \r\nQ 46.921875 27.09375 42.890625 30.859375 \r\nQ 38.875 34.625 31.78125 34.625 \r\nz\r\nM 21.921875 38.8125 \r\nQ 15.578125 40.375 12.03125 44.71875 \r\nQ 8.5 49.078125 8.5 55.328125 \r\nQ 8.5 64.0625 14.71875 69.140625 \r\nQ 20.953125 74.21875 31.78125 74.21875 \r\nQ 42.671875 74.21875 48.875 69.140625 \r\nQ 55.078125 64.0625 55.078125 55.328125 \r\nQ 55.078125 49.078125 51.53125 44.71875 \r\nQ 48 40.375 41.703125 38.8125 \r\nQ 48.828125 37.15625 52.796875 32.3125 \r\nQ 56.78125 27.484375 56.78125 20.515625 \r\nQ 56.78125 9.90625 50.3125 4.234375 \r\nQ 43.84375 -1.421875 31.78125 -1.421875 \r\nQ 19.734375 -1.421875 13.25 4.234375 \r\nQ 6.78125 9.90625 6.78125 20.515625 \r\nQ 6.78125 27.484375 10.78125 32.3125 \r\nQ 14.796875 37.15625 21.921875 38.8125 \r\nz\r\nM 18.3125 54.390625 \r\nQ 18.3125 48.734375 21.84375 45.5625 \r\nQ 25.390625 42.390625 31.78125 42.390625 \r\nQ 38.140625 42.390625 41.71875 45.5625 \r\nQ 45.3125 48.734375 45.3125 54.390625 \r\nQ 45.3125 60.0625 41.71875 63.234375 \r\nQ 38.140625 66.40625 31.78125 66.40625 \r\nQ 25.390625 66.40625 21.84375 63.234375 \r\nQ 18.3125 60.0625 18.3125 54.390625 \r\nz\r\n\" id=\"DejaVuSans-56\"/>\r\n      </defs>\r\n      <g transform=\"translate(354.840444 308.716563)scale(0.1 -0.1)\">\r\n       <use xlink:href=\"#DejaVuSans-56\"/>\r\n       <use x=\"63.623047\" xlink:href=\"#DejaVuSans-48\"/>\r\n      </g>\r\n     </g>\r\n    </g>\r\n    <g id=\"xtick_6\">\r\n     <g id=\"line2d_6\">\r\n      <g>\r\n       <use style=\"stroke:#000000;stroke-width:0.8;\" x=\"432.938481\" xlink:href=\"#m1e2e5953bb\" y=\"294.118125\"/>\r\n      </g>\r\n     </g>\r\n     <g id=\"text_6\">\r\n      <!-- 100 -->\r\n      <defs>\r\n       <path d=\"M 12.40625 8.296875 \r\nL 28.515625 8.296875 \r\nL 28.515625 63.921875 \r\nL 10.984375 60.40625 \r\nL 10.984375 69.390625 \r\nL 28.421875 72.90625 \r\nL 38.28125 72.90625 \r\nL 38.28125 8.296875 \r\nL 54.390625 8.296875 \r\nL 54.390625 0 \r\nL 12.40625 0 \r\nz\r\n\" id=\"DejaVuSans-49\"/>\r\n      </defs>\r\n      <g transform=\"translate(423.394731 308.716563)scale(0.1 -0.1)\">\r\n       <use xlink:href=\"#DejaVuSans-49\"/>\r\n       <use x=\"63.623047\" xlink:href=\"#DejaVuSans-48\"/>\r\n       <use x=\"127.246094\" xlink:href=\"#DejaVuSans-48\"/>\r\n      </g>\r\n     </g>\r\n    </g>\r\n    <g id=\"text_7\">\r\n     <!-- epoch -->\r\n     <defs>\r\n      <path d=\"M 56.203125 29.59375 \r\nL 56.203125 25.203125 \r\nL 14.890625 25.203125 \r\nQ 15.484375 15.921875 20.484375 11.0625 \r\nQ 25.484375 6.203125 34.421875 6.203125 \r\nQ 39.59375 6.203125 44.453125 7.46875 \r\nQ 49.3125 8.734375 54.109375 11.28125 \r\nL 54.109375 2.78125 \r\nQ 49.265625 0.734375 44.1875 -0.34375 \r\nQ 39.109375 -1.421875 33.890625 -1.421875 \r\nQ 20.796875 -1.421875 13.15625 6.1875 \r\nQ 5.515625 13.8125 5.515625 26.8125 \r\nQ 5.515625 40.234375 12.765625 48.109375 \r\nQ 20.015625 56 32.328125 56 \r\nQ 43.359375 56 49.78125 48.890625 \r\nQ 56.203125 41.796875 56.203125 29.59375 \r\nz\r\nM 47.21875 32.234375 \r\nQ 47.125 39.59375 43.09375 43.984375 \r\nQ 39.0625 48.390625 32.421875 48.390625 \r\nQ 24.90625 48.390625 20.390625 44.140625 \r\nQ 15.875 39.890625 15.1875 32.171875 \r\nz\r\n\" id=\"DejaVuSans-101\"/>\r\n      <path d=\"M 18.109375 8.203125 \r\nL 18.109375 -20.796875 \r\nL 9.078125 -20.796875 \r\nL 9.078125 54.6875 \r\nL 18.109375 54.6875 \r\nL 18.109375 46.390625 \r\nQ 20.953125 51.265625 25.265625 53.625 \r\nQ 29.59375 56 35.59375 56 \r\nQ 45.5625 56 51.78125 48.09375 \r\nQ 58.015625 40.1875 58.015625 27.296875 \r\nQ 58.015625 14.40625 51.78125 6.484375 \r\nQ 45.5625 -1.421875 35.59375 -1.421875 \r\nQ 29.59375 -1.421875 25.265625 0.953125 \r\nQ 20.953125 3.328125 18.109375 8.203125 \r\nz\r\nM 48.6875 27.296875 \r\nQ 48.6875 37.203125 44.609375 42.84375 \r\nQ 40.53125 48.484375 33.40625 48.484375 \r\nQ 26.265625 48.484375 22.1875 42.84375 \r\nQ 18.109375 37.203125 18.109375 27.296875 \r\nQ 18.109375 17.390625 22.1875 11.75 \r\nQ 26.265625 6.109375 33.40625 6.109375 \r\nQ 40.53125 6.109375 44.609375 11.75 \r\nQ 48.6875 17.390625 48.6875 27.296875 \r\nz\r\n\" id=\"DejaVuSans-112\"/>\r\n      <path d=\"M 30.609375 48.390625 \r\nQ 23.390625 48.390625 19.1875 42.75 \r\nQ 14.984375 37.109375 14.984375 27.296875 \r\nQ 14.984375 17.484375 19.15625 11.84375 \r\nQ 23.34375 6.203125 30.609375 6.203125 \r\nQ 37.796875 6.203125 41.984375 11.859375 \r\nQ 46.1875 17.53125 46.1875 27.296875 \r\nQ 46.1875 37.015625 41.984375 42.703125 \r\nQ 37.796875 48.390625 30.609375 48.390625 \r\nz\r\nM 30.609375 56 \r\nQ 42.328125 56 49.015625 48.375 \r\nQ 55.71875 40.765625 55.71875 27.296875 \r\nQ 55.71875 13.875 49.015625 6.21875 \r\nQ 42.328125 -1.421875 30.609375 -1.421875 \r\nQ 18.84375 -1.421875 12.171875 6.21875 \r\nQ 5.515625 13.875 5.515625 27.296875 \r\nQ 5.515625 40.765625 12.171875 48.375 \r\nQ 18.84375 56 30.609375 56 \r\nz\r\n\" id=\"DejaVuSans-111\"/>\r\n      <path d=\"M 48.78125 52.59375 \r\nL 48.78125 44.1875 \r\nQ 44.96875 46.296875 41.140625 47.34375 \r\nQ 37.3125 48.390625 33.40625 48.390625 \r\nQ 24.65625 48.390625 19.8125 42.84375 \r\nQ 14.984375 37.3125 14.984375 27.296875 \r\nQ 14.984375 17.28125 19.8125 11.734375 \r\nQ 24.65625 6.203125 33.40625 6.203125 \r\nQ 37.3125 6.203125 41.140625 7.25 \r\nQ 44.96875 8.296875 48.78125 10.40625 \r\nL 48.78125 2.09375 \r\nQ 45.015625 0.34375 40.984375 -0.53125 \r\nQ 36.96875 -1.421875 32.421875 -1.421875 \r\nQ 20.0625 -1.421875 12.78125 6.34375 \r\nQ 5.515625 14.109375 5.515625 27.296875 \r\nQ 5.515625 40.671875 12.859375 48.328125 \r\nQ 20.21875 56 33.015625 56 \r\nQ 37.15625 56 41.109375 55.140625 \r\nQ 45.0625 54.296875 48.78125 52.59375 \r\nz\r\n\" id=\"DejaVuSans-99\"/>\r\n      <path d=\"M 54.890625 33.015625 \r\nL 54.890625 0 \r\nL 45.90625 0 \r\nL 45.90625 32.71875 \r\nQ 45.90625 40.484375 42.875 44.328125 \r\nQ 39.84375 48.1875 33.796875 48.1875 \r\nQ 26.515625 48.1875 22.3125 43.546875 \r\nQ 18.109375 38.921875 18.109375 30.90625 \r\nL 18.109375 0 \r\nL 9.078125 0 \r\nL 9.078125 75.984375 \r\nL 18.109375 75.984375 \r\nL 18.109375 46.1875 \r\nQ 21.34375 51.125 25.703125 53.5625 \r\nQ 30.078125 56 35.796875 56 \r\nQ 45.21875 56 50.046875 50.171875 \r\nQ 54.890625 44.34375 54.890625 33.015625 \r\nz\r\n\" id=\"DejaVuSans-104\"/>\r\n     </defs>\r\n     <g transform=\"translate(236.578125 322.394687)scale(0.1 -0.1)\">\r\n      <use xlink:href=\"#DejaVuSans-101\"/>\r\n      <use x=\"61.523438\" xlink:href=\"#DejaVuSans-112\"/>\r\n      <use x=\"125\" xlink:href=\"#DejaVuSans-111\"/>\r\n      <use x=\"186.181641\" xlink:href=\"#DejaVuSans-99\"/>\r\n      <use x=\"241.162109\" xlink:href=\"#DejaVuSans-104\"/>\r\n     </g>\r\n    </g>\r\n   </g>\r\n   <g id=\"matplotlib.axis_2\">\r\n    <g id=\"ytick_1\">\r\n     <g id=\"line2d_7\">\r\n      <defs>\r\n       <path d=\"M 0 0 \r\nL -3.5 0 \r\n\" id=\"m6f9dc19698\" style=\"stroke:#000000;stroke-width:0.8;\"/>\r\n      </defs>\r\n      <g>\r\n       <use style=\"stroke:#000000;stroke-width:0.8;\" x=\"56.50625\" xlink:href=\"#m6f9dc19698\" y=\"260.50326\"/>\r\n      </g>\r\n     </g>\r\n     <g id=\"text_8\">\r\n      <!-- 0.695 -->\r\n      <defs>\r\n       <path d=\"M 10.6875 12.40625 \r\nL 21 12.40625 \r\nL 21 0 \r\nL 10.6875 0 \r\nz\r\n\" id=\"DejaVuSans-46\"/>\r\n       <path d=\"M 10.984375 1.515625 \r\nL 10.984375 10.5 \r\nQ 14.703125 8.734375 18.5 7.8125 \r\nQ 22.3125 6.890625 25.984375 6.890625 \r\nQ 35.75 6.890625 40.890625 13.453125 \r\nQ 46.046875 20.015625 46.78125 33.40625 \r\nQ 43.953125 29.203125 39.59375 26.953125 \r\nQ 35.25 24.703125 29.984375 24.703125 \r\nQ 19.046875 24.703125 12.671875 31.3125 \r\nQ 6.296875 37.9375 6.296875 49.421875 \r\nQ 6.296875 60.640625 12.9375 67.421875 \r\nQ 19.578125 74.21875 30.609375 74.21875 \r\nQ 43.265625 74.21875 49.921875 64.515625 \r\nQ 56.59375 54.828125 56.59375 36.375 \r\nQ 56.59375 19.140625 48.40625 8.859375 \r\nQ 40.234375 -1.421875 26.421875 -1.421875 \r\nQ 22.703125 -1.421875 18.890625 -0.6875 \r\nQ 15.09375 0.046875 10.984375 1.515625 \r\nz\r\nM 30.609375 32.421875 \r\nQ 37.25 32.421875 41.125 36.953125 \r\nQ 45.015625 41.5 45.015625 49.421875 \r\nQ 45.015625 57.28125 41.125 61.84375 \r\nQ 37.25 66.40625 30.609375 66.40625 \r\nQ 23.96875 66.40625 20.09375 61.84375 \r\nQ 16.21875 57.28125 16.21875 49.421875 \r\nQ 16.21875 41.5 20.09375 36.953125 \r\nQ 23.96875 32.421875 30.609375 32.421875 \r\nz\r\n\" id=\"DejaVuSans-57\"/>\r\n       <path d=\"M 10.796875 72.90625 \r\nL 49.515625 72.90625 \r\nL 49.515625 64.59375 \r\nL 19.828125 64.59375 \r\nL 19.828125 46.734375 \r\nQ 21.96875 47.46875 24.109375 47.828125 \r\nQ 26.265625 48.1875 28.421875 48.1875 \r\nQ 40.625 48.1875 47.75 41.5 \r\nQ 54.890625 34.8125 54.890625 23.390625 \r\nQ 54.890625 11.625 47.5625 5.09375 \r\nQ 40.234375 -1.421875 26.90625 -1.421875 \r\nQ 22.3125 -1.421875 17.546875 -0.640625 \r\nQ 12.796875 0.140625 7.71875 1.703125 \r\nL 7.71875 11.625 \r\nQ 12.109375 9.234375 16.796875 8.0625 \r\nQ 21.484375 6.890625 26.703125 6.890625 \r\nQ 35.15625 6.890625 40.078125 11.328125 \r\nQ 45.015625 15.765625 45.015625 23.390625 \r\nQ 45.015625 31 40.078125 35.4375 \r\nQ 35.15625 39.890625 26.703125 39.890625 \r\nQ 22.75 39.890625 18.8125 39.015625 \r\nQ 14.890625 38.140625 10.796875 36.28125 \r\nz\r\n\" id=\"DejaVuSans-53\"/>\r\n      </defs>\r\n      <g transform=\"translate(20.878125 264.302479)scale(0.1 -0.1)\">\r\n       <use xlink:href=\"#DejaVuSans-48\"/>\r\n       <use x=\"63.623047\" xlink:href=\"#DejaVuSans-46\"/>\r\n       <use x=\"95.410156\" xlink:href=\"#DejaVuSans-54\"/>\r\n       <use x=\"159.033203\" xlink:href=\"#DejaVuSans-57\"/>\r\n       <use x=\"222.65625\" xlink:href=\"#DejaVuSans-53\"/>\r\n      </g>\r\n     </g>\r\n    </g>\r\n    <g id=\"ytick_2\">\r\n     <g id=\"line2d_8\">\r\n      <g>\r\n       <use style=\"stroke:#000000;stroke-width:0.8;\" x=\"56.50625\" xlink:href=\"#m6f9dc19698\" y=\"202.374847\"/>\r\n      </g>\r\n     </g>\r\n     <g id=\"text_9\">\r\n      <!-- 0.700 -->\r\n      <defs>\r\n       <path d=\"M 8.203125 72.90625 \r\nL 55.078125 72.90625 \r\nL 55.078125 68.703125 \r\nL 28.609375 0 \r\nL 18.3125 0 \r\nL 43.21875 64.59375 \r\nL 8.203125 64.59375 \r\nz\r\n\" id=\"DejaVuSans-55\"/>\r\n      </defs>\r\n      <g transform=\"translate(20.878125 206.174066)scale(0.1 -0.1)\">\r\n       <use xlink:href=\"#DejaVuSans-48\"/>\r\n       <use x=\"63.623047\" xlink:href=\"#DejaVuSans-46\"/>\r\n       <use x=\"95.410156\" xlink:href=\"#DejaVuSans-55\"/>\r\n       <use x=\"159.033203\" xlink:href=\"#DejaVuSans-48\"/>\r\n       <use x=\"222.65625\" xlink:href=\"#DejaVuSans-48\"/>\r\n      </g>\r\n     </g>\r\n    </g>\r\n    <g id=\"ytick_3\">\r\n     <g id=\"line2d_9\">\r\n      <g>\r\n       <use style=\"stroke:#000000;stroke-width:0.8;\" x=\"56.50625\" xlink:href=\"#m6f9dc19698\" y=\"144.246434\"/>\r\n      </g>\r\n     </g>\r\n     <g id=\"text_10\">\r\n      <!-- 0.705 -->\r\n      <g transform=\"translate(20.878125 148.045652)scale(0.1 -0.1)\">\r\n       <use xlink:href=\"#DejaVuSans-48\"/>\r\n       <use x=\"63.623047\" xlink:href=\"#DejaVuSans-46\"/>\r\n       <use x=\"95.410156\" xlink:href=\"#DejaVuSans-55\"/>\r\n       <use x=\"159.033203\" xlink:href=\"#DejaVuSans-48\"/>\r\n       <use x=\"222.65625\" xlink:href=\"#DejaVuSans-53\"/>\r\n      </g>\r\n     </g>\r\n    </g>\r\n    <g id=\"ytick_4\">\r\n     <g id=\"line2d_10\">\r\n      <g>\r\n       <use style=\"stroke:#000000;stroke-width:0.8;\" x=\"56.50625\" xlink:href=\"#m6f9dc19698\" y=\"86.11802\"/>\r\n      </g>\r\n     </g>\r\n     <g id=\"text_11\">\r\n      <!-- 0.710 -->\r\n      <g transform=\"translate(20.878125 89.917239)scale(0.1 -0.1)\">\r\n       <use xlink:href=\"#DejaVuSans-48\"/>\r\n       <use x=\"63.623047\" xlink:href=\"#DejaVuSans-46\"/>\r\n       <use x=\"95.410156\" xlink:href=\"#DejaVuSans-55\"/>\r\n       <use x=\"159.033203\" xlink:href=\"#DejaVuSans-49\"/>\r\n       <use x=\"222.65625\" xlink:href=\"#DejaVuSans-48\"/>\r\n      </g>\r\n     </g>\r\n    </g>\r\n    <g id=\"ytick_5\">\r\n     <g id=\"line2d_11\">\r\n      <g>\r\n       <use style=\"stroke:#000000;stroke-width:0.8;\" x=\"56.50625\" xlink:href=\"#m6f9dc19698\" y=\"27.989607\"/>\r\n      </g>\r\n     </g>\r\n     <g id=\"text_12\">\r\n      <!-- 0.715 -->\r\n      <g transform=\"translate(20.878125 31.788826)scale(0.1 -0.1)\">\r\n       <use xlink:href=\"#DejaVuSans-48\"/>\r\n       <use x=\"63.623047\" xlink:href=\"#DejaVuSans-46\"/>\r\n       <use x=\"95.410156\" xlink:href=\"#DejaVuSans-55\"/>\r\n       <use x=\"159.033203\" xlink:href=\"#DejaVuSans-49\"/>\r\n       <use x=\"222.65625\" xlink:href=\"#DejaVuSans-53\"/>\r\n      </g>\r\n     </g>\r\n    </g>\r\n    <g id=\"text_13\">\r\n     <!-- loss -->\r\n     <defs>\r\n      <path d=\"M 9.421875 75.984375 \r\nL 18.40625 75.984375 \r\nL 18.40625 0 \r\nL 9.421875 0 \r\nz\r\n\" id=\"DejaVuSans-108\"/>\r\n      <path d=\"M 44.28125 53.078125 \r\nL 44.28125 44.578125 \r\nQ 40.484375 46.53125 36.375 47.5 \r\nQ 32.28125 48.484375 27.875 48.484375 \r\nQ 21.1875 48.484375 17.84375 46.4375 \r\nQ 14.5 44.390625 14.5 40.28125 \r\nQ 14.5 37.15625 16.890625 35.375 \r\nQ 19.28125 33.59375 26.515625 31.984375 \r\nL 29.59375 31.296875 \r\nQ 39.15625 29.25 43.1875 25.515625 \r\nQ 47.21875 21.78125 47.21875 15.09375 \r\nQ 47.21875 7.46875 41.1875 3.015625 \r\nQ 35.15625 -1.421875 24.609375 -1.421875 \r\nQ 20.21875 -1.421875 15.453125 -0.5625 \r\nQ 10.6875 0.296875 5.421875 2 \r\nL 5.421875 11.28125 \r\nQ 10.40625 8.6875 15.234375 7.390625 \r\nQ 20.0625 6.109375 24.8125 6.109375 \r\nQ 31.15625 6.109375 34.5625 8.28125 \r\nQ 37.984375 10.453125 37.984375 14.40625 \r\nQ 37.984375 18.0625 35.515625 20.015625 \r\nQ 33.0625 21.96875 24.703125 23.78125 \r\nL 21.578125 24.515625 \r\nQ 13.234375 26.265625 9.515625 29.90625 \r\nQ 5.8125 33.546875 5.8125 39.890625 \r\nQ 5.8125 47.609375 11.28125 51.796875 \r\nQ 16.75 56 26.8125 56 \r\nQ 31.78125 56 36.171875 55.265625 \r\nQ 40.578125 54.546875 44.28125 53.078125 \r\nz\r\n\" id=\"DejaVuSans-115\"/>\r\n     </defs>\r\n     <g transform=\"translate(14.798438 167.875938)rotate(-90)scale(0.1 -0.1)\">\r\n      <use xlink:href=\"#DejaVuSans-108\"/>\r\n      <use x=\"27.783203\" xlink:href=\"#DejaVuSans-111\"/>\r\n      <use x=\"88.964844\" xlink:href=\"#DejaVuSans-115\"/>\r\n      <use x=\"141.064453\" xlink:href=\"#DejaVuSans-115\"/>\r\n     </g>\r\n    </g>\r\n   </g>\r\n   <g id=\"line2d_12\">\r\n    <path clip-path=\"url(#p3edba23ff9)\" d=\"M 74.260795 34.67267 \r\nL 77.847572 218.484564 \r\nL 81.434349 239.493954 \r\nL 85.021126 249.008084 \r\nL 88.607903 255.43376 \r\nL 92.19468 260.6648 \r\nL 95.781457 264.315232 \r\nL 99.368233 267.127895 \r\nL 102.95501 268.869958 \r\nL 106.541787 270.822676 \r\nL 110.128564 271.886346 \r\nL 113.715341 272.935464 \r\nL 117.302118 273.744131 \r\nL 120.888895 274.552104 \r\nL 124.475671 275.190999 \r\nL 128.062448 275.716251 \r\nL 131.649225 276.319113 \r\nL 135.236002 276.8409 \r\nL 138.822779 277.035618 \r\nL 142.409556 277.548397 \r\nL 145.996333 277.823496 \r\nL 149.58311 278.006433 \r\nL 153.169886 278.362607 \r\nL 156.756663 278.470013 \r\nL 160.34344 278.641171 \r\nL 163.930217 278.835888 \r\nL 167.516994 279.237103 \r\nL 171.103771 279.267593 \r\nL 174.690548 279.420041 \r\nL 178.277324 279.59397 \r\nL 181.864101 279.673658 \r\nL 185.450878 279.763741 \r\nL 189.037655 279.822641 \r\nL 192.624432 279.975089 \r\nL 196.211209 280.135852 \r\nL 199.797986 280.137931 \r\nL 203.384762 280.151097 \r\nL 206.971539 280.203761 \r\nL 210.558316 280.305624 \r\nL 214.145093 280.383234 \r\nL 217.73187 280.511428 \r\nL 221.318647 280.54469 \r\nL 224.905424 280.562013 \r\nL 228.4922 280.658333 \r\nL 232.078977 280.684665 \r\nL 235.665754 280.809395 \r\nL 239.252531 280.840577 \r\nL 242.839308 280.84127 \r\nL 246.426085 280.872453 \r\nL 250.012862 280.856515 \r\nL 253.599638 280.903635 \r\nL 257.186415 280.91888 \r\nL 260.773192 281.006884 \r\nL 264.359969 281.023515 \r\nL 267.946746 281.058855 \r\nL 271.533523 281.105282 \r\nL 275.1203 281.147552 \r\nL 278.707076 281.169033 \r\nL 282.293853 281.119834 \r\nL 285.88063 281.184971 \r\nL 289.467407 281.224469 \r\nL 293.054184 281.224469 \r\nL 296.640961 281.281983 \r\nL 300.227738 281.298614 \r\nL 303.814514 281.277825 \r\nL 307.401291 281.297228 \r\nL 310.988068 281.333261 \r\nL 314.574845 281.32841 \r\nL 318.161622 281.337419 \r\nL 321.748399 281.354742 \r\nL 325.335176 281.419186 \r\nL 328.921952 281.404634 \r\nL 332.508729 281.431659 \r\nL 336.095506 281.428194 \r\nL 339.682283 281.440667 \r\nL 343.26906 281.459377 \r\nL 346.855837 281.497489 \r\nL 350.442614 281.434431 \r\nL 354.02939 281.465613 \r\nL 357.616167 281.512734 \r\nL 361.202944 281.471157 \r\nL 364.789721 281.505804 \r\nL 368.376498 281.56609 \r\nL 371.963275 281.546688 \r\nL 375.550052 281.557082 \r\nL 379.136829 281.546688 \r\nL 382.723605 281.566783 \r\nL 386.310382 281.588957 \r\nL 389.897159 281.627762 \r\nL 393.483936 281.574406 \r\nL 397.070713 281.620833 \r\nL 400.65749 281.609053 \r\nL 404.244267 281.613903 \r\nL 407.831043 281.598659 \r\nL 411.41782 281.615982 \r\nL 415.004597 281.656173 \r\nL 418.591374 281.635385 \r\nL 422.178151 281.651323 \r\nL 425.764928 281.694978 \r\nL 429.351705 281.688049 \r\n\" style=\"fill:none;stroke:#1f77b4;stroke-linecap:square;stroke-width:1.5;\"/>\r\n   </g>\r\n   <g id=\"line2d_13\">\r\n    <path clip-path=\"url(#p3edba23ff9)\" d=\"M 74.260795 214.433609 \r\nL 77.847572 244.1547 \r\nL 81.434349 255.401885 \r\nL 85.021126 261.571864 \r\nL 88.607903 265.782889 \r\nL 92.19468 268.67039 \r\nL 95.781457 270.727742 \r\nL 99.368233 272.297262 \r\nL 102.95501 273.559807 \r\nL 106.541787 274.542403 \r\nL 110.128564 275.357999 \r\nL 113.715341 276.038471 \r\nL 117.302118 276.615001 \r\nL 120.888895 277.114614 \r\nL 124.475671 277.560177 \r\nL 128.062448 277.938525 \r\nL 131.649225 278.260051 \r\nL 135.236002 278.541387 \r\nL 138.822779 278.792926 \r\nL 142.409556 279.015361 \r\nL 145.996333 279.214236 \r\nL 149.58311 279.39648 \r\nL 153.169886 279.552393 \r\nL 156.756663 279.696526 \r\nL 160.34344 279.83165 \r\nL 163.930217 279.955687 \r\nL 167.516994 280.060322 \r\nL 171.103771 280.157334 \r\nL 174.690548 280.245338 \r\nL 178.277324 280.329184 \r\nL 181.864101 280.406101 \r\nL 185.450878 280.478167 \r\nL 189.037655 280.546769 \r\nL 192.624432 280.609827 \r\nL 196.211209 280.666648 \r\nL 199.797986 280.720005 \r\nL 203.384762 280.771976 \r\nL 206.971539 280.822561 \r\nL 210.558316 280.867602 \r\nL 214.145093 280.913336 \r\nL 217.73187 280.952834 \r\nL 221.318647 280.992332 \r\nL 224.905424 281.027672 \r\nL 228.4922 281.063705 \r\nL 232.078977 281.094888 \r\nL 235.665754 281.125377 \r\nL 239.252531 281.152402 \r\nL 242.839308 281.179427 \r\nL 246.426085 281.207838 \r\nL 250.012862 281.23417 \r\nL 253.599638 281.259116 \r\nL 257.186415 281.281983 \r\nL 260.773192 281.303464 \r\nL 264.359969 281.32356 \r\nL 267.946746 281.343655 \r\nL 271.533523 281.36375 \r\nL 275.1203 281.381074 \r\nL 278.707076 281.399091 \r\nL 282.293853 281.413642 \r\nL 285.88063 281.431659 \r\nL 289.467407 281.444825 \r\nL 293.054184 281.460763 \r\nL 296.640961 281.475315 \r\nL 300.227738 281.487095 \r\nL 303.814514 281.500261 \r\nL 307.401291 281.512734 \r\nL 310.988068 281.5259 \r\nL 314.574845 281.536987 \r\nL 318.161622 281.546688 \r\nL 321.748399 281.559161 \r\nL 325.335176 281.568862 \r\nL 328.921952 281.578563 \r\nL 332.508729 281.58965 \r\nL 336.095506 281.59658 \r\nL 339.682283 281.607667 \r\nL 343.26906 281.614596 \r\nL 346.855837 281.623605 \r\nL 350.442614 281.633306 \r\nL 354.02939 281.643007 \r\nL 357.616167 281.648551 \r\nL 361.202944 281.654787 \r\nL 364.789721 281.664488 \r\nL 368.376498 281.671418 \r\nL 371.963275 281.678347 \r\nL 375.550052 281.683891 \r\nL 379.136829 281.691513 \r\nL 382.723605 281.698443 \r\nL 386.310382 281.703293 \r\nL 389.897159 281.707451 \r\nL 393.483936 281.71438 \r\nL 397.070713 281.719924 \r\nL 400.65749 281.726161 \r\nL 404.244267 281.731704 \r\nL 407.831043 281.736555 \r\nL 411.41782 281.741405 \r\nL 415.004597 281.746256 \r\nL 418.591374 281.751107 \r\nL 422.178151 281.75665 \r\nL 425.764928 281.760115 \r\nL 429.351705 281.76358 \r\n\" style=\"fill:none;stroke:#ff7f0e;stroke-linecap:square;stroke-width:1.5;\"/>\r\n   </g>\r\n   <g id=\"patch_3\">\r\n    <path d=\"M 56.50625 294.118125 \r\nL 56.50625 22.318125 \r\n\" style=\"fill:none;stroke:#000000;stroke-linecap:square;stroke-linejoin:miter;stroke-width:0.8;\"/>\r\n   </g>\r\n   <g id=\"patch_4\">\r\n    <path d=\"M 447.10625 294.118125 \r\nL 447.10625 22.318125 \r\n\" style=\"fill:none;stroke:#000000;stroke-linecap:square;stroke-linejoin:miter;stroke-width:0.8;\"/>\r\n   </g>\r\n   <g id=\"patch_5\">\r\n    <path d=\"M 56.50625 294.118125 \r\nL 447.10625 294.118125 \r\n\" style=\"fill:none;stroke:#000000;stroke-linecap:square;stroke-linejoin:miter;stroke-width:0.8;\"/>\r\n   </g>\r\n   <g id=\"patch_6\">\r\n    <path d=\"M 56.50625 22.318125 \r\nL 447.10625 22.318125 \r\n\" style=\"fill:none;stroke:#000000;stroke-linecap:square;stroke-linejoin:miter;stroke-width:0.8;\"/>\r\n   </g>\r\n   <g id=\"text_14\">\r\n    <!-- model loss -->\r\n    <defs>\r\n     <path d=\"M 52 44.1875 \r\nQ 55.375 50.25 60.0625 53.125 \r\nQ 64.75 56 71.09375 56 \r\nQ 79.640625 56 84.28125 50.015625 \r\nQ 88.921875 44.046875 88.921875 33.015625 \r\nL 88.921875 0 \r\nL 79.890625 0 \r\nL 79.890625 32.71875 \r\nQ 79.890625 40.578125 77.09375 44.375 \r\nQ 74.3125 48.1875 68.609375 48.1875 \r\nQ 61.625 48.1875 57.5625 43.546875 \r\nQ 53.515625 38.921875 53.515625 30.90625 \r\nL 53.515625 0 \r\nL 44.484375 0 \r\nL 44.484375 32.71875 \r\nQ 44.484375 40.625 41.703125 44.40625 \r\nQ 38.921875 48.1875 33.109375 48.1875 \r\nQ 26.21875 48.1875 22.15625 43.53125 \r\nQ 18.109375 38.875 18.109375 30.90625 \r\nL 18.109375 0 \r\nL 9.078125 0 \r\nL 9.078125 54.6875 \r\nL 18.109375 54.6875 \r\nL 18.109375 46.1875 \r\nQ 21.1875 51.21875 25.484375 53.609375 \r\nQ 29.78125 56 35.6875 56 \r\nQ 41.65625 56 45.828125 52.96875 \r\nQ 50 49.953125 52 44.1875 \r\nz\r\n\" id=\"DejaVuSans-109\"/>\r\n     <path d=\"M 45.40625 46.390625 \r\nL 45.40625 75.984375 \r\nL 54.390625 75.984375 \r\nL 54.390625 0 \r\nL 45.40625 0 \r\nL 45.40625 8.203125 \r\nQ 42.578125 3.328125 38.25 0.953125 \r\nQ 33.9375 -1.421875 27.875 -1.421875 \r\nQ 17.96875 -1.421875 11.734375 6.484375 \r\nQ 5.515625 14.40625 5.515625 27.296875 \r\nQ 5.515625 40.1875 11.734375 48.09375 \r\nQ 17.96875 56 27.875 56 \r\nQ 33.9375 56 38.25 53.625 \r\nQ 42.578125 51.265625 45.40625 46.390625 \r\nz\r\nM 14.796875 27.296875 \r\nQ 14.796875 17.390625 18.875 11.75 \r\nQ 22.953125 6.109375 30.078125 6.109375 \r\nQ 37.203125 6.109375 41.296875 11.75 \r\nQ 45.40625 17.390625 45.40625 27.296875 \r\nQ 45.40625 37.203125 41.296875 42.84375 \r\nQ 37.203125 48.484375 30.078125 48.484375 \r\nQ 22.953125 48.484375 18.875 42.84375 \r\nQ 14.796875 37.203125 14.796875 27.296875 \r\nz\r\n\" id=\"DejaVuSans-100\"/>\r\n     <path id=\"DejaVuSans-32\"/>\r\n    </defs>\r\n    <g transform=\"translate(219.626563 16.318125)scale(0.12 -0.12)\">\r\n     <use xlink:href=\"#DejaVuSans-109\"/>\r\n     <use x=\"97.412109\" xlink:href=\"#DejaVuSans-111\"/>\r\n     <use x=\"158.59375\" xlink:href=\"#DejaVuSans-100\"/>\r\n     <use x=\"222.070312\" xlink:href=\"#DejaVuSans-101\"/>\r\n     <use x=\"283.59375\" xlink:href=\"#DejaVuSans-108\"/>\r\n     <use x=\"311.376953\" xlink:href=\"#DejaVuSans-32\"/>\r\n     <use x=\"343.164062\" xlink:href=\"#DejaVuSans-108\"/>\r\n     <use x=\"370.947266\" xlink:href=\"#DejaVuSans-111\"/>\r\n     <use x=\"432.128906\" xlink:href=\"#DejaVuSans-115\"/>\r\n     <use x=\"484.228516\" xlink:href=\"#DejaVuSans-115\"/>\r\n    </g>\r\n   </g>\r\n   <g id=\"legend_1\">\r\n    <g id=\"patch_7\">\r\n     <path d=\"M 384.83125 59.674375 \r\nL 440.10625 59.674375 \r\nQ 442.10625 59.674375 442.10625 57.674375 \r\nL 442.10625 29.318125 \r\nQ 442.10625 27.318125 440.10625 27.318125 \r\nL 384.83125 27.318125 \r\nQ 382.83125 27.318125 382.83125 29.318125 \r\nL 382.83125 57.674375 \r\nQ 382.83125 59.674375 384.83125 59.674375 \r\nz\r\n\" style=\"fill:#ffffff;opacity:0.8;stroke:#cccccc;stroke-linejoin:miter;\"/>\r\n    </g>\r\n    <g id=\"line2d_14\">\r\n     <path d=\"M 386.83125 35.416562 \r\nL 406.83125 35.416562 \r\n\" style=\"fill:none;stroke:#1f77b4;stroke-linecap:square;stroke-width:1.5;\"/>\r\n    </g>\r\n    <g id=\"line2d_15\"/>\r\n    <g id=\"text_15\">\r\n     <!-- train -->\r\n     <defs>\r\n      <path d=\"M 18.3125 70.21875 \r\nL 18.3125 54.6875 \r\nL 36.8125 54.6875 \r\nL 36.8125 47.703125 \r\nL 18.3125 47.703125 \r\nL 18.3125 18.015625 \r\nQ 18.3125 11.328125 20.140625 9.421875 \r\nQ 21.96875 7.515625 27.59375 7.515625 \r\nL 36.8125 7.515625 \r\nL 36.8125 0 \r\nL 27.59375 0 \r\nQ 17.1875 0 13.234375 3.875 \r\nQ 9.28125 7.765625 9.28125 18.015625 \r\nL 9.28125 47.703125 \r\nL 2.6875 47.703125 \r\nL 2.6875 54.6875 \r\nL 9.28125 54.6875 \r\nL 9.28125 70.21875 \r\nz\r\n\" id=\"DejaVuSans-116\"/>\r\n      <path d=\"M 41.109375 46.296875 \r\nQ 39.59375 47.171875 37.8125 47.578125 \r\nQ 36.03125 48 33.890625 48 \r\nQ 26.265625 48 22.1875 43.046875 \r\nQ 18.109375 38.09375 18.109375 28.8125 \r\nL 18.109375 0 \r\nL 9.078125 0 \r\nL 9.078125 54.6875 \r\nL 18.109375 54.6875 \r\nL 18.109375 46.1875 \r\nQ 20.953125 51.171875 25.484375 53.578125 \r\nQ 30.03125 56 36.53125 56 \r\nQ 37.453125 56 38.578125 55.875 \r\nQ 39.703125 55.765625 41.0625 55.515625 \r\nz\r\n\" id=\"DejaVuSans-114\"/>\r\n      <path d=\"M 34.28125 27.484375 \r\nQ 23.390625 27.484375 19.1875 25 \r\nQ 14.984375 22.515625 14.984375 16.5 \r\nQ 14.984375 11.71875 18.140625 8.90625 \r\nQ 21.296875 6.109375 26.703125 6.109375 \r\nQ 34.1875 6.109375 38.703125 11.40625 \r\nQ 43.21875 16.703125 43.21875 25.484375 \r\nL 43.21875 27.484375 \r\nz\r\nM 52.203125 31.203125 \r\nL 52.203125 0 \r\nL 43.21875 0 \r\nL 43.21875 8.296875 \r\nQ 40.140625 3.328125 35.546875 0.953125 \r\nQ 30.953125 -1.421875 24.3125 -1.421875 \r\nQ 15.921875 -1.421875 10.953125 3.296875 \r\nQ 6 8.015625 6 15.921875 \r\nQ 6 25.140625 12.171875 29.828125 \r\nQ 18.359375 34.515625 30.609375 34.515625 \r\nL 43.21875 34.515625 \r\nL 43.21875 35.40625 \r\nQ 43.21875 41.609375 39.140625 45 \r\nQ 35.0625 48.390625 27.6875 48.390625 \r\nQ 23 48.390625 18.546875 47.265625 \r\nQ 14.109375 46.140625 10.015625 43.890625 \r\nL 10.015625 52.203125 \r\nQ 14.9375 54.109375 19.578125 55.046875 \r\nQ 24.21875 56 28.609375 56 \r\nQ 40.484375 56 46.34375 49.84375 \r\nQ 52.203125 43.703125 52.203125 31.203125 \r\nz\r\n\" id=\"DejaVuSans-97\"/>\r\n      <path d=\"M 9.421875 54.6875 \r\nL 18.40625 54.6875 \r\nL 18.40625 0 \r\nL 9.421875 0 \r\nz\r\nM 9.421875 75.984375 \r\nL 18.40625 75.984375 \r\nL 18.40625 64.59375 \r\nL 9.421875 64.59375 \r\nz\r\n\" id=\"DejaVuSans-105\"/>\r\n      <path d=\"M 54.890625 33.015625 \r\nL 54.890625 0 \r\nL 45.90625 0 \r\nL 45.90625 32.71875 \r\nQ 45.90625 40.484375 42.875 44.328125 \r\nQ 39.84375 48.1875 33.796875 48.1875 \r\nQ 26.515625 48.1875 22.3125 43.546875 \r\nQ 18.109375 38.921875 18.109375 30.90625 \r\nL 18.109375 0 \r\nL 9.078125 0 \r\nL 9.078125 54.6875 \r\nL 18.109375 54.6875 \r\nL 18.109375 46.1875 \r\nQ 21.34375 51.125 25.703125 53.5625 \r\nQ 30.078125 56 35.796875 56 \r\nQ 45.21875 56 50.046875 50.171875 \r\nQ 54.890625 44.34375 54.890625 33.015625 \r\nz\r\n\" id=\"DejaVuSans-110\"/>\r\n     </defs>\r\n     <g transform=\"translate(414.83125 38.916562)scale(0.1 -0.1)\">\r\n      <use xlink:href=\"#DejaVuSans-116\"/>\r\n      <use x=\"39.208984\" xlink:href=\"#DejaVuSans-114\"/>\r\n      <use x=\"80.322266\" xlink:href=\"#DejaVuSans-97\"/>\r\n      <use x=\"141.601562\" xlink:href=\"#DejaVuSans-105\"/>\r\n      <use x=\"169.384766\" xlink:href=\"#DejaVuSans-110\"/>\r\n     </g>\r\n    </g>\r\n    <g id=\"line2d_16\">\r\n     <path d=\"M 386.83125 50.094688 \r\nL 406.83125 50.094688 \r\n\" style=\"fill:none;stroke:#ff7f0e;stroke-linecap:square;stroke-width:1.5;\"/>\r\n    </g>\r\n    <g id=\"line2d_17\"/>\r\n    <g id=\"text_16\">\r\n     <!-- val -->\r\n     <defs>\r\n      <path d=\"M 2.984375 54.6875 \r\nL 12.5 54.6875 \r\nL 29.59375 8.796875 \r\nL 46.6875 54.6875 \r\nL 56.203125 54.6875 \r\nL 35.6875 0 \r\nL 23.484375 0 \r\nz\r\n\" id=\"DejaVuSans-118\"/>\r\n     </defs>\r\n     <g transform=\"translate(414.83125 53.594688)scale(0.1 -0.1)\">\r\n      <use xlink:href=\"#DejaVuSans-118\"/>\r\n      <use x=\"59.179688\" xlink:href=\"#DejaVuSans-97\"/>\r\n      <use x=\"120.458984\" xlink:href=\"#DejaVuSans-108\"/>\r\n     </g>\r\n    </g>\r\n   </g>\r\n  </g>\r\n </g>\r\n <defs>\r\n  <clipPath id=\"p3edba23ff9\">\r\n   <rect height=\"271.8\" width=\"390.6\" x=\"56.50625\" y=\"22.318125\"/>\r\n  </clipPath>\r\n </defs>\r\n</svg>\r\n",
      "image/png": "[encoded data removed]"
     },
     "metadata": {
      "needs_background": "light"
     }
    }
   ],
   "source": [
    "plt.figure(figsize = (7,5))\n",
    "plt.plot(history.history['loss'])\n",
    "plt.plot(history.history['val_loss'])\n",
    "plt.title('model loss')\n",
    "plt.ylabel('loss')\n",
    "plt.xlabel('epoch')\n",
    "plt.legend(['train', 'val'], loc='upper right')\n",
    "plt.show()"
   ]
  },
  {
   "cell_type": "code",
   "execution_count": 437,
   "metadata": {},
   "outputs": [
    {
     "output_type": "stream",
     "name": "stdout",
     "text": [
      "[[0.5002903  0.49970973]\n [0.50041795 0.4995821 ]\n [0.49521726 0.50478274]\n ...\n [0.5003285  0.49967152]\n [0.50041795 0.4995821 ]\n [0.50041795 0.4995821 ]]\n[0 0 1 ... 0 0 0]\n"
     ]
    }
   ],
   "source": [
    "y_pred = model.predict(X_test)\n",
    "print(y_pred)\n",
    "pred = np.argmax(y_pred, axis=1)\n",
    "print(pred)"
   ]
  },
  {
   "cell_type": "code",
   "execution_count": 438,
   "metadata": {},
   "outputs": [
    {
     "output_type": "execute_result",
     "data": {
      "text/plain": [
       "69.9"
      ]
     },
     "metadata": {},
     "execution_count": 438
    }
   ],
   "source": [
    "score = metrics.accuracy_score(y_test, pred)\n",
    "round(score*100,2)"
   ]
  },
  {
   "cell_type": "code",
   "execution_count": 439,
   "metadata": {},
   "outputs": [],
   "source": [
    "#model.save_weights('Network_best_weights.hdf5')\n",
    "\n",
    "#model.load_weights('Network_best_weights.hdf5')"
   ]
  },
  {
   "cell_type": "code",
   "execution_count": null,
   "metadata": {},
   "outputs": [],
   "source": []
  }
 ]
}