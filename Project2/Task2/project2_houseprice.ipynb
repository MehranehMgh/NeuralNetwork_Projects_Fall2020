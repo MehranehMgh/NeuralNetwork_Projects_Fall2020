{
  "nbformat": 4,
  "nbformat_minor": 0,
  "metadata": {
    "colab": {
      "provenance": []
    },
    "kernelspec": {
      "name": "python3",
      "display_name": "Python 3"
    },
    "accelerator": "GPU"
  },
  "cells": [
    {
      "cell_type": "code",
      "metadata": {
        "id": "dBDTNS1OytWT"
      },
      "source": [
        "import matplotlib.pyplot as plt\n",
        "import numpy as np\n",
        "import os\n",
        "import PIL\n",
        "import tensorflow as tf\n",
        "import pandas as pd\n",
        "\n",
        "from tensorflow import keras\n",
        "from tensorflow.keras import layers\n",
        "from tensorflow.keras.models import Sequential"
      ],
      "execution_count": null,
      "outputs": []
    },
    {
      "cell_type": "code",
      "metadata": {
        "id": "JaVIac1Sy7z0",
        "colab": {
          "base_uri": "https://localhost:8080/"
        },
        "outputId": "f8aa8293-e9a6-42a9-c440-f7d22ca92504"
      },
      "source": [
        "# for access to google drive\n",
        "from google.colab import drive\n",
        "drive.mount('/gdrive')"
      ],
      "execution_count": null,
      "outputs": [
        {
          "output_type": "stream",
          "text": [
            "Mounted at /gdrive\n"
          ],
          "name": "stdout"
        }
      ]
    },
    {
      "cell_type": "code",
      "metadata": {
        "id": "SUOUzsKPy8qH"
      },
      "source": [
        "# # for unzip data\n",
        "#!unzip '/gdrive/My Drive/proj2data/pics.zip' -d '/gdrive/My Drive/proj2data'"
      ],
      "execution_count": null,
      "outputs": []
    },
    {
      "cell_type": "code",
      "metadata": {
        "id": "R5D_21qeZoIj",
        "colab": {
          "base_uri": "https://localhost:8080/"
        },
        "outputId": "29f98289-ebfe-4b4d-ed34-e6ef61a0b24a"
      },
      "source": [
        "import os\n",
        "import cv2\n",
        "cnt=0\n",
        "\n",
        "X_house_images=np.zeros((15474,64,64,3),dtype='uint32')\n",
        "for i in range(15474):\n",
        "\n",
        "    sample=cv2.imread('/gdrive/My Drive/proj2data/pics/'+str(i)+'.jpg')\n",
        "    imgs=cv2.resize(sample,(64,64))\n",
        "    X_house_images[cnt]=imgs\n",
        "    cnt+=1\n",
        "\n",
        "print(\"No. of images: \",cnt)"
      ],
      "execution_count": null,
      "outputs": [
        {
          "output_type": "stream",
          "text": [
            "No. of images:  15474\n"
          ],
          "name": "stdout"
        }
      ]
    },
    {
      "cell_type": "code",
      "metadata": {
        "id": "bU85u3gXkUop"
      },
      "source": [
        "X_house_images=X_house_images/255.0"
      ],
      "execution_count": null,
      "outputs": []
    },
    {
      "cell_type": "code",
      "metadata": {
        "colab": {
          "base_uri": "https://localhost:8080/"
        },
        "id": "_v5Q25PLkdku",
        "outputId": "75b06a75-62cc-4b16-eb56-6cda5195c50a"
      },
      "source": [
        "X_house_images"
      ],
      "execution_count": null,
      "outputs": [
        {
          "output_type": "execute_result",
          "data": {
            "text/plain": [
              "array([[[[0.91764706, 0.93333333, 0.9372549 ],\n",
              "         [0.91764706, 0.93333333, 0.9372549 ],\n",
              "         [0.91764706, 0.93333333, 0.9372549 ],\n",
              "         ...,\n",
              "         [0.91764706, 0.93333333, 0.9372549 ],\n",
              "         [0.91764706, 0.93333333, 0.9372549 ],\n",
              "         [0.91764706, 0.93333333, 0.9372549 ]],\n",
              "\n",
              "        [[0.91764706, 0.93333333, 0.9372549 ],\n",
              "         [0.91764706, 0.93333333, 0.9372549 ],\n",
              "         [0.91764706, 0.93333333, 0.9372549 ],\n",
              "         ...,\n",
              "         [0.91764706, 0.93333333, 0.9372549 ],\n",
              "         [0.91764706, 0.93333333, 0.9372549 ],\n",
              "         [0.91764706, 0.93333333, 0.9372549 ]],\n",
              "\n",
              "        [[0.91764706, 0.93333333, 0.9372549 ],\n",
              "         [0.91764706, 0.93333333, 0.9372549 ],\n",
              "         [0.91764706, 0.93333333, 0.9372549 ],\n",
              "         ...,\n",
              "         [0.91764706, 0.93333333, 0.9372549 ],\n",
              "         [0.91764706, 0.93333333, 0.9372549 ],\n",
              "         [0.91764706, 0.93333333, 0.9372549 ]],\n",
              "\n",
              "        ...,\n",
              "\n",
              "        [[0.95294118, 0.96470588, 0.96862745],\n",
              "         [0.9372549 , 0.94509804, 0.94901961],\n",
              "         [0.93333333, 0.94509804, 0.94901961],\n",
              "         ...,\n",
              "         [0.98039216, 0.99607843, 0.99607843],\n",
              "         [0.96862745, 0.9254902 , 0.9254902 ],\n",
              "         [0.9372549 , 0.91372549, 0.91764706]],\n",
              "\n",
              "        [[0.92941176, 0.94509804, 0.94901961],\n",
              "         [0.89411765, 0.90980392, 0.90980392],\n",
              "         [0.39607843, 0.41176471, 0.41568627],\n",
              "         ...,\n",
              "         [0.70980392, 0.70588235, 0.68235294],\n",
              "         [0.47058824, 0.49411765, 0.48627451],\n",
              "         [0.90588235, 0.92941176, 0.9254902 ]],\n",
              "\n",
              "        [[0.83137255, 0.85098039, 0.85490196],\n",
              "         [0.83921569, 0.85882353, 0.8627451 ],\n",
              "         [0.81568627, 0.83529412, 0.83921569],\n",
              "         ...,\n",
              "         [0.9254902 , 0.94901961, 0.92941176],\n",
              "         [0.95686275, 0.97647059, 0.98039216],\n",
              "         [0.93333333, 0.95294118, 0.96078431]]],\n",
              "\n",
              "\n",
              "       [[[0.32941176, 0.40784314, 0.63529412],\n",
              "         [0.34509804, 0.41960784, 0.63137255],\n",
              "         [0.34901961, 0.43137255, 0.63137255],\n",
              "         ...,\n",
              "         [0.12156863, 0.13333333, 0.15294118],\n",
              "         [0.17647059, 0.23137255, 0.30196078],\n",
              "         [0.12941176, 0.16078431, 0.20392157]],\n",
              "\n",
              "        [[0.3254902 , 0.40392157, 0.63137255],\n",
              "         [0.33333333, 0.41176471, 0.62745098],\n",
              "         [0.34117647, 0.42352941, 0.61568627],\n",
              "         ...,\n",
              "         [0.1254902 , 0.17254902, 0.18823529],\n",
              "         [0.29803922, 0.34509804, 0.40784314],\n",
              "         [0.18823529, 0.22745098, 0.28235294]],\n",
              "\n",
              "        [[0.32156863, 0.4       , 0.62745098],\n",
              "         [0.3372549 , 0.41568627, 0.63137255],\n",
              "         [0.34509804, 0.42745098, 0.61960784],\n",
              "         ...,\n",
              "         [0.0627451 , 0.13333333, 0.15686275],\n",
              "         [0.10196078, 0.14117647, 0.19607843],\n",
              "         [0.16470588, 0.21960784, 0.28627451]],\n",
              "\n",
              "        ...,\n",
              "\n",
              "        [[0.48627451, 0.44705882, 0.43137255],\n",
              "         [0.45098039, 0.43921569, 0.41960784],\n",
              "         [0.31372549, 0.30196078, 0.27058824],\n",
              "         ...,\n",
              "         [0.68627451, 0.67058824, 0.65098039],\n",
              "         [0.83529412, 0.82745098, 0.81568627],\n",
              "         [0.42352941, 0.43137255, 0.38823529]],\n",
              "\n",
              "        [[0.5254902 , 0.49019608, 0.45098039],\n",
              "         [0.33333333, 0.3254902 , 0.27843137],\n",
              "         [0.28235294, 0.2745098 , 0.21960784],\n",
              "         ...,\n",
              "         [0.56078431, 0.54117647, 0.52156863],\n",
              "         [0.31764706, 0.31372549, 0.29019608],\n",
              "         [0.40392157, 0.4       , 0.38039216]],\n",
              "\n",
              "        [[0.62745098, 0.56862745, 0.5254902 ],\n",
              "         [0.62352941, 0.56862745, 0.52156863],\n",
              "         [0.61568627, 0.55294118, 0.50588235],\n",
              "         ...,\n",
              "         [0.34901961, 0.3372549 , 0.32156863],\n",
              "         [0.30196078, 0.28627451, 0.28235294],\n",
              "         [0.33333333, 0.31764706, 0.31372549]]],\n",
              "\n",
              "\n",
              "       [[[1.        , 1.        , 1.        ],\n",
              "         [1.        , 1.        , 1.        ],\n",
              "         [1.        , 1.        , 1.        ],\n",
              "         ...,\n",
              "         [1.        , 1.        , 1.        ],\n",
              "         [1.        , 1.        , 1.        ],\n",
              "         [1.        , 1.        , 1.        ]],\n",
              "\n",
              "        [[1.        , 1.        , 1.        ],\n",
              "         [1.        , 1.        , 1.        ],\n",
              "         [1.        , 1.        , 1.        ],\n",
              "         ...,\n",
              "         [1.        , 1.        , 1.        ],\n",
              "         [1.        , 1.        , 1.        ],\n",
              "         [1.        , 1.        , 1.        ]],\n",
              "\n",
              "        [[1.        , 1.        , 1.        ],\n",
              "         [1.        , 1.        , 1.        ],\n",
              "         [1.        , 1.        , 1.        ],\n",
              "         ...,\n",
              "         [1.        , 1.        , 1.        ],\n",
              "         [1.        , 1.        , 1.        ],\n",
              "         [1.        , 1.        , 1.        ]],\n",
              "\n",
              "        ...,\n",
              "\n",
              "        [[1.        , 1.        , 1.        ],\n",
              "         [1.        , 1.        , 1.        ],\n",
              "         [1.        , 1.        , 1.        ],\n",
              "         ...,\n",
              "         [1.        , 1.        , 1.        ],\n",
              "         [1.        , 1.        , 1.        ],\n",
              "         [1.        , 1.        , 1.        ]],\n",
              "\n",
              "        [[0.99215686, 1.        , 1.        ],\n",
              "         [0.99215686, 1.        , 1.        ],\n",
              "         [0.99215686, 1.        , 1.        ],\n",
              "         ...,\n",
              "         [1.        , 1.        , 1.        ],\n",
              "         [1.        , 1.        , 1.        ],\n",
              "         [1.        , 1.        , 1.        ]],\n",
              "\n",
              "        [[1.        , 1.        , 1.        ],\n",
              "         [1.        , 1.        , 1.        ],\n",
              "         [1.        , 1.        , 1.        ],\n",
              "         ...,\n",
              "         [1.        , 1.        , 1.        ],\n",
              "         [1.        , 1.        , 1.        ],\n",
              "         [1.        , 1.        , 1.        ]]],\n",
              "\n",
              "\n",
              "       ...,\n",
              "\n",
              "\n",
              "       [[[1.        , 1.        , 1.        ],\n",
              "         [1.        , 1.        , 1.        ],\n",
              "         [1.        , 1.        , 1.        ],\n",
              "         ...,\n",
              "         [1.        , 1.        , 1.        ],\n",
              "         [1.        , 1.        , 1.        ],\n",
              "         [1.        , 1.        , 1.        ]],\n",
              "\n",
              "        [[1.        , 1.        , 1.        ],\n",
              "         [1.        , 1.        , 1.        ],\n",
              "         [1.        , 1.        , 1.        ],\n",
              "         ...,\n",
              "         [1.        , 1.        , 1.        ],\n",
              "         [1.        , 1.        , 1.        ],\n",
              "         [1.        , 1.        , 1.        ]],\n",
              "\n",
              "        [[1.        , 1.        , 1.        ],\n",
              "         [1.        , 1.        , 1.        ],\n",
              "         [1.        , 1.        , 1.        ],\n",
              "         ...,\n",
              "         [1.        , 1.        , 1.        ],\n",
              "         [1.        , 1.        , 1.        ],\n",
              "         [1.        , 1.        , 1.        ]],\n",
              "\n",
              "        ...,\n",
              "\n",
              "        [[0.99215686, 1.        , 1.        ],\n",
              "         [0.99215686, 1.        , 1.        ],\n",
              "         [1.        , 1.        , 1.        ],\n",
              "         ...,\n",
              "         [1.        , 1.        , 0.99607843],\n",
              "         [1.        , 1.        , 0.99607843],\n",
              "         [1.        , 1.        , 0.99607843]],\n",
              "\n",
              "        [[1.        , 1.        , 1.        ],\n",
              "         [1.        , 1.        , 1.        ],\n",
              "         [0.99607843, 1.        , 1.        ],\n",
              "         ...,\n",
              "         [1.        , 1.        , 0.99607843],\n",
              "         [1.        , 1.        , 0.99607843],\n",
              "         [1.        , 1.        , 0.99607843]],\n",
              "\n",
              "        [[1.        , 1.        , 1.        ],\n",
              "         [1.        , 1.        , 1.        ],\n",
              "         [1.        , 1.        , 1.        ],\n",
              "         ...,\n",
              "         [1.        , 1.        , 1.        ],\n",
              "         [1.        , 1.        , 1.        ],\n",
              "         [1.        , 1.        , 1.        ]]],\n",
              "\n",
              "\n",
              "       [[[1.        , 1.        , 1.        ],\n",
              "         [1.        , 1.        , 1.        ],\n",
              "         [1.        , 1.        , 1.        ],\n",
              "         ...,\n",
              "         [1.        , 1.        , 1.        ],\n",
              "         [1.        , 1.        , 1.        ],\n",
              "         [1.        , 1.        , 1.        ]],\n",
              "\n",
              "        [[1.        , 1.        , 1.        ],\n",
              "         [1.        , 1.        , 1.        ],\n",
              "         [1.        , 1.        , 1.        ],\n",
              "         ...,\n",
              "         [1.        , 1.        , 1.        ],\n",
              "         [1.        , 1.        , 1.        ],\n",
              "         [1.        , 1.        , 1.        ]],\n",
              "\n",
              "        [[1.        , 1.        , 1.        ],\n",
              "         [1.        , 1.        , 1.        ],\n",
              "         [1.        , 1.        , 1.        ],\n",
              "         ...,\n",
              "         [1.        , 1.        , 1.        ],\n",
              "         [1.        , 1.        , 1.        ],\n",
              "         [1.        , 1.        , 1.        ]],\n",
              "\n",
              "        ...,\n",
              "\n",
              "        [[1.        , 0.99607843, 1.        ],\n",
              "         [1.        , 0.99215686, 1.        ],\n",
              "         [0.99215686, 1.        , 1.        ],\n",
              "         ...,\n",
              "         [1.        , 1.        , 0.99607843],\n",
              "         [1.        , 1.        , 0.99607843],\n",
              "         [1.        , 1.        , 0.99607843]],\n",
              "\n",
              "        [[1.        , 0.99607843, 0.99607843],\n",
              "         [1.        , 0.99607843, 0.99607843],\n",
              "         [0.99607843, 1.        , 1.        ],\n",
              "         ...,\n",
              "         [0.99215686, 1.        , 1.        ],\n",
              "         [1.        , 1.        , 1.        ],\n",
              "         [1.        , 1.        , 1.        ]],\n",
              "\n",
              "        [[1.        , 1.        , 1.        ],\n",
              "         [1.        , 1.        , 1.        ],\n",
              "         [1.        , 1.        , 1.        ],\n",
              "         ...,\n",
              "         [1.        , 1.        , 1.        ],\n",
              "         [1.        , 1.        , 1.        ],\n",
              "         [1.        , 1.        , 1.        ]]],\n",
              "\n",
              "\n",
              "       [[[0.72941176, 0.68235294, 0.6745098 ],\n",
              "         [0.74117647, 0.69411765, 0.68627451],\n",
              "         [0.76078431, 0.71764706, 0.71372549],\n",
              "         ...,\n",
              "         [0.91764706, 0.80392157, 0.74509804],\n",
              "         [0.92156863, 0.81960784, 0.75686275],\n",
              "         [0.91764706, 0.83137255, 0.76862745]],\n",
              "\n",
              "        [[0.7254902 , 0.67843137, 0.6745098 ],\n",
              "         [0.7372549 , 0.68627451, 0.67843137],\n",
              "         [0.75294118, 0.70588235, 0.70196078],\n",
              "         ...,\n",
              "         [0.91764706, 0.80392157, 0.74509804],\n",
              "         [0.92156863, 0.81960784, 0.75686275],\n",
              "         [0.91372549, 0.82352941, 0.76078431]],\n",
              "\n",
              "        [[0.7254902 , 0.67843137, 0.67058824],\n",
              "         [0.74117647, 0.69411765, 0.68627451],\n",
              "         [0.76078431, 0.70980392, 0.70980392],\n",
              "         ...,\n",
              "         [0.92156863, 0.80784314, 0.74901961],\n",
              "         [0.92156863, 0.81960784, 0.75686275],\n",
              "         [0.92156863, 0.83529412, 0.76862745]],\n",
              "\n",
              "        ...,\n",
              "\n",
              "        [[0.1254902 , 0.11764706, 0.11372549],\n",
              "         [0.14117647, 0.13333333, 0.12941176],\n",
              "         [0.14509804, 0.1372549 , 0.13333333],\n",
              "         ...,\n",
              "         [0.23529412, 0.28235294, 0.28627451],\n",
              "         [0.67843137, 0.70980392, 0.7254902 ],\n",
              "         [0.46666667, 0.4627451 , 0.48627451]],\n",
              "\n",
              "        [[0.10196078, 0.09411765, 0.09019608],\n",
              "         [0.1254902 , 0.12156863, 0.11764706],\n",
              "         [0.1372549 , 0.12941176, 0.1254902 ],\n",
              "         ...,\n",
              "         [0.68235294, 0.76078431, 0.74509804],\n",
              "         [0.47843137, 0.49803922, 0.52941176],\n",
              "         [0.32941176, 0.30196078, 0.3372549 ]],\n",
              "\n",
              "        [[0.1254902 , 0.11764706, 0.11372549],\n",
              "         [0.1254902 , 0.11764706, 0.11372549],\n",
              "         [0.1254902 , 0.11764706, 0.11764706],\n",
              "         ...,\n",
              "         [0.65098039, 0.73333333, 0.7254902 ],\n",
              "         [0.63529412, 0.6745098 , 0.70980392],\n",
              "         [0.39607843, 0.39215686, 0.40784314]]]])"
            ]
          },
          "metadata": {
            "tags": []
          },
          "execution_count": 8
        }
      ]
    },
    {
      "cell_type": "code",
      "metadata": {
        "colab": {
          "base_uri": "https://localhost:8080/",
          "height": 343
        },
        "id": "Okd91Ex5AHjV",
        "outputId": "1d7990e8-a487-4af5-ae93-d06c4d715be0"
      },
      "source": [
        "import pandas as pd\n",
        "\n",
        "df = pd.read_csv('/gdrive/My Drive/Proj2_data/data2/desc.csv')\n",
        "df.head(10)"
      ],
      "execution_count": null,
      "outputs": [
        {
          "output_type": "execute_result",
          "data": {
            "text/html": [
              "<div>\n",
              "<style scoped>\n",
              "    .dataframe tbody tr th:only-of-type {\n",
              "        vertical-align: middle;\n",
              "    }\n",
              "\n",
              "    .dataframe tbody tr th {\n",
              "        vertical-align: top;\n",
              "    }\n",
              "\n",
              "    .dataframe thead th {\n",
              "        text-align: right;\n",
              "    }\n",
              "</style>\n",
              "<table border=\"1\" class=\"dataframe\">\n",
              "  <thead>\n",
              "    <tr style=\"text-align: right;\">\n",
              "      <th></th>\n",
              "      <th>image_id</th>\n",
              "      <th>street</th>\n",
              "      <th>city</th>\n",
              "      <th>n_city</th>\n",
              "      <th>bed</th>\n",
              "      <th>bath</th>\n",
              "      <th>sqft</th>\n",
              "      <th>price</th>\n",
              "    </tr>\n",
              "  </thead>\n",
              "  <tbody>\n",
              "    <tr>\n",
              "      <th>0</th>\n",
              "      <td>0</td>\n",
              "      <td>1317 Van Buren Avenue</td>\n",
              "      <td>Salton City, CA</td>\n",
              "      <td>317</td>\n",
              "      <td>3</td>\n",
              "      <td>2.0</td>\n",
              "      <td>1560</td>\n",
              "      <td>201900</td>\n",
              "    </tr>\n",
              "    <tr>\n",
              "      <th>1</th>\n",
              "      <td>1</td>\n",
              "      <td>124 C Street W</td>\n",
              "      <td>Brawley, CA</td>\n",
              "      <td>48</td>\n",
              "      <td>3</td>\n",
              "      <td>2.0</td>\n",
              "      <td>713</td>\n",
              "      <td>228500</td>\n",
              "    </tr>\n",
              "    <tr>\n",
              "      <th>2</th>\n",
              "      <td>2</td>\n",
              "      <td>2304 Clark Road</td>\n",
              "      <td>Imperial, CA</td>\n",
              "      <td>152</td>\n",
              "      <td>3</td>\n",
              "      <td>1.0</td>\n",
              "      <td>800</td>\n",
              "      <td>273950</td>\n",
              "    </tr>\n",
              "    <tr>\n",
              "      <th>3</th>\n",
              "      <td>3</td>\n",
              "      <td>755 Brawley Avenue</td>\n",
              "      <td>Brawley, CA</td>\n",
              "      <td>48</td>\n",
              "      <td>3</td>\n",
              "      <td>1.0</td>\n",
              "      <td>1082</td>\n",
              "      <td>350000</td>\n",
              "    </tr>\n",
              "    <tr>\n",
              "      <th>4</th>\n",
              "      <td>4</td>\n",
              "      <td>2207 R Carrillo Court</td>\n",
              "      <td>Calexico, CA</td>\n",
              "      <td>55</td>\n",
              "      <td>4</td>\n",
              "      <td>3.0</td>\n",
              "      <td>2547</td>\n",
              "      <td>385100</td>\n",
              "    </tr>\n",
              "    <tr>\n",
              "      <th>5</th>\n",
              "      <td>5</td>\n",
              "      <td>755 Brawley Avenue</td>\n",
              "      <td>Brawley, CA</td>\n",
              "      <td>48</td>\n",
              "      <td>3</td>\n",
              "      <td>1.0</td>\n",
              "      <td>1082</td>\n",
              "      <td>350000</td>\n",
              "    </tr>\n",
              "    <tr>\n",
              "      <th>6</th>\n",
              "      <td>6</td>\n",
              "      <td>1100 CAMILIA Street</td>\n",
              "      <td>Calexico, CA</td>\n",
              "      <td>55</td>\n",
              "      <td>4</td>\n",
              "      <td>3.0</td>\n",
              "      <td>2769</td>\n",
              "      <td>415000</td>\n",
              "    </tr>\n",
              "    <tr>\n",
              "      <th>7</th>\n",
              "      <td>7</td>\n",
              "      <td>803 Chaparral Court</td>\n",
              "      <td>Brawley, CA</td>\n",
              "      <td>48</td>\n",
              "      <td>5</td>\n",
              "      <td>2.1</td>\n",
              "      <td>2600</td>\n",
              "      <td>545000</td>\n",
              "    </tr>\n",
              "    <tr>\n",
              "      <th>8</th>\n",
              "      <td>8</td>\n",
              "      <td>803 Chaparral Court</td>\n",
              "      <td>Brawley, CA</td>\n",
              "      <td>48</td>\n",
              "      <td>5</td>\n",
              "      <td>2.1</td>\n",
              "      <td>2600</td>\n",
              "      <td>545000</td>\n",
              "    </tr>\n",
              "    <tr>\n",
              "      <th>9</th>\n",
              "      <td>9</td>\n",
              "      <td>2306 Lark Court</td>\n",
              "      <td>Salton City, CA</td>\n",
              "      <td>317</td>\n",
              "      <td>4</td>\n",
              "      <td>5.1</td>\n",
              "      <td>3932</td>\n",
              "      <td>690000</td>\n",
              "    </tr>\n",
              "  </tbody>\n",
              "</table>\n",
              "</div>"
            ],
            "text/plain": [
              "   image_id                 street             city  ...  bath  sqft   price\n",
              "0         0  1317 Van Buren Avenue  Salton City, CA  ...   2.0  1560  201900\n",
              "1         1         124 C Street W      Brawley, CA  ...   2.0   713  228500\n",
              "2         2        2304 Clark Road     Imperial, CA  ...   1.0   800  273950\n",
              "3         3     755 Brawley Avenue      Brawley, CA  ...   1.0  1082  350000\n",
              "4         4  2207 R Carrillo Court     Calexico, CA  ...   3.0  2547  385100\n",
              "5         5     755 Brawley Avenue      Brawley, CA  ...   1.0  1082  350000\n",
              "6         6    1100 CAMILIA Street     Calexico, CA  ...   3.0  2769  415000\n",
              "7         7    803 Chaparral Court      Brawley, CA  ...   2.1  2600  545000\n",
              "8         8    803 Chaparral Court      Brawley, CA  ...   2.1  2600  545000\n",
              "9         9        2306 Lark Court  Salton City, CA  ...   5.1  3932  690000\n",
              "\n",
              "[10 rows x 8 columns]"
            ]
          },
          "metadata": {
            "tags": []
          },
          "execution_count": 38
        }
      ]
    },
    {
      "cell_type": "code",
      "metadata": {
        "colab": {
          "base_uri": "https://localhost:8080/",
          "height": 343
        },
        "id": "uSQWzA3VNtdT",
        "outputId": "93383552-7d52-4914-de60-640e4ea834f9"
      },
      "source": [
        "df['half_bath'] = df['bath'].apply(lambda x:(x%1)*10)\n",
        "df.head(10)"
      ],
      "execution_count": null,
      "outputs": [
        {
          "output_type": "execute_result",
          "data": {
            "text/html": [
              "<div>\n",
              "<style scoped>\n",
              "    .dataframe tbody tr th:only-of-type {\n",
              "        vertical-align: middle;\n",
              "    }\n",
              "\n",
              "    .dataframe tbody tr th {\n",
              "        vertical-align: top;\n",
              "    }\n",
              "\n",
              "    .dataframe thead th {\n",
              "        text-align: right;\n",
              "    }\n",
              "</style>\n",
              "<table border=\"1\" class=\"dataframe\">\n",
              "  <thead>\n",
              "    <tr style=\"text-align: right;\">\n",
              "      <th></th>\n",
              "      <th>image_id</th>\n",
              "      <th>street</th>\n",
              "      <th>city</th>\n",
              "      <th>n_city</th>\n",
              "      <th>bed</th>\n",
              "      <th>bath</th>\n",
              "      <th>sqft</th>\n",
              "      <th>price</th>\n",
              "      <th>half_bath</th>\n",
              "    </tr>\n",
              "  </thead>\n",
              "  <tbody>\n",
              "    <tr>\n",
              "      <th>0</th>\n",
              "      <td>0</td>\n",
              "      <td>1317 Van Buren Avenue</td>\n",
              "      <td>Salton City, CA</td>\n",
              "      <td>317</td>\n",
              "      <td>3</td>\n",
              "      <td>2.0</td>\n",
              "      <td>1560</td>\n",
              "      <td>201900</td>\n",
              "      <td>0.0</td>\n",
              "    </tr>\n",
              "    <tr>\n",
              "      <th>1</th>\n",
              "      <td>1</td>\n",
              "      <td>124 C Street W</td>\n",
              "      <td>Brawley, CA</td>\n",
              "      <td>48</td>\n",
              "      <td>3</td>\n",
              "      <td>2.0</td>\n",
              "      <td>713</td>\n",
              "      <td>228500</td>\n",
              "      <td>0.0</td>\n",
              "    </tr>\n",
              "    <tr>\n",
              "      <th>2</th>\n",
              "      <td>2</td>\n",
              "      <td>2304 Clark Road</td>\n",
              "      <td>Imperial, CA</td>\n",
              "      <td>152</td>\n",
              "      <td>3</td>\n",
              "      <td>1.0</td>\n",
              "      <td>800</td>\n",
              "      <td>273950</td>\n",
              "      <td>0.0</td>\n",
              "    </tr>\n",
              "    <tr>\n",
              "      <th>3</th>\n",
              "      <td>3</td>\n",
              "      <td>755 Brawley Avenue</td>\n",
              "      <td>Brawley, CA</td>\n",
              "      <td>48</td>\n",
              "      <td>3</td>\n",
              "      <td>1.0</td>\n",
              "      <td>1082</td>\n",
              "      <td>350000</td>\n",
              "      <td>0.0</td>\n",
              "    </tr>\n",
              "    <tr>\n",
              "      <th>4</th>\n",
              "      <td>4</td>\n",
              "      <td>2207 R Carrillo Court</td>\n",
              "      <td>Calexico, CA</td>\n",
              "      <td>55</td>\n",
              "      <td>4</td>\n",
              "      <td>3.0</td>\n",
              "      <td>2547</td>\n",
              "      <td>385100</td>\n",
              "      <td>0.0</td>\n",
              "    </tr>\n",
              "    <tr>\n",
              "      <th>5</th>\n",
              "      <td>5</td>\n",
              "      <td>755 Brawley Avenue</td>\n",
              "      <td>Brawley, CA</td>\n",
              "      <td>48</td>\n",
              "      <td>3</td>\n",
              "      <td>1.0</td>\n",
              "      <td>1082</td>\n",
              "      <td>350000</td>\n",
              "      <td>0.0</td>\n",
              "    </tr>\n",
              "    <tr>\n",
              "      <th>6</th>\n",
              "      <td>6</td>\n",
              "      <td>1100 CAMILIA Street</td>\n",
              "      <td>Calexico, CA</td>\n",
              "      <td>55</td>\n",
              "      <td>4</td>\n",
              "      <td>3.0</td>\n",
              "      <td>2769</td>\n",
              "      <td>415000</td>\n",
              "      <td>0.0</td>\n",
              "    </tr>\n",
              "    <tr>\n",
              "      <th>7</th>\n",
              "      <td>7</td>\n",
              "      <td>803 Chaparral Court</td>\n",
              "      <td>Brawley, CA</td>\n",
              "      <td>48</td>\n",
              "      <td>5</td>\n",
              "      <td>2.1</td>\n",
              "      <td>2600</td>\n",
              "      <td>545000</td>\n",
              "      <td>1.0</td>\n",
              "    </tr>\n",
              "    <tr>\n",
              "      <th>8</th>\n",
              "      <td>8</td>\n",
              "      <td>803 Chaparral Court</td>\n",
              "      <td>Brawley, CA</td>\n",
              "      <td>48</td>\n",
              "      <td>5</td>\n",
              "      <td>2.1</td>\n",
              "      <td>2600</td>\n",
              "      <td>545000</td>\n",
              "      <td>1.0</td>\n",
              "    </tr>\n",
              "    <tr>\n",
              "      <th>9</th>\n",
              "      <td>9</td>\n",
              "      <td>2306 Lark Court</td>\n",
              "      <td>Salton City, CA</td>\n",
              "      <td>317</td>\n",
              "      <td>4</td>\n",
              "      <td>5.1</td>\n",
              "      <td>3932</td>\n",
              "      <td>690000</td>\n",
              "      <td>1.0</td>\n",
              "    </tr>\n",
              "  </tbody>\n",
              "</table>\n",
              "</div>"
            ],
            "text/plain": [
              "   image_id                 street             city  ...  sqft   price  half_bath\n",
              "0         0  1317 Van Buren Avenue  Salton City, CA  ...  1560  201900        0.0\n",
              "1         1         124 C Street W      Brawley, CA  ...   713  228500        0.0\n",
              "2         2        2304 Clark Road     Imperial, CA  ...   800  273950        0.0\n",
              "3         3     755 Brawley Avenue      Brawley, CA  ...  1082  350000        0.0\n",
              "4         4  2207 R Carrillo Court     Calexico, CA  ...  2547  385100        0.0\n",
              "5         5     755 Brawley Avenue      Brawley, CA  ...  1082  350000        0.0\n",
              "6         6    1100 CAMILIA Street     Calexico, CA  ...  2769  415000        0.0\n",
              "7         7    803 Chaparral Court      Brawley, CA  ...  2600  545000        1.0\n",
              "8         8    803 Chaparral Court      Brawley, CA  ...  2600  545000        1.0\n",
              "9         9        2306 Lark Court  Salton City, CA  ...  3932  690000        1.0\n",
              "\n",
              "[10 rows x 9 columns]"
            ]
          },
          "metadata": {
            "tags": []
          },
          "execution_count": 68
        }
      ]
    },
    {
      "cell_type": "code",
      "metadata": {
        "id": "g91f2zeTPOv7"
      },
      "source": [
        "street = df['street'].values"
      ],
      "execution_count": null,
      "outputs": []
    },
    {
      "cell_type": "code",
      "metadata": {
        "colab": {
          "base_uri": "https://localhost:8080/"
        },
        "id": "1QoYqjemPTCa",
        "outputId": "c5f77fbf-e0e9-4402-c2d0-06fdabe92786"
      },
      "source": [
        "street_tag = []\n",
        "for i in range(15474):\n",
        "  street_tag.append (street[i].split()[0])\n",
        "\n",
        "street_tag = np.array(street_tag)\n",
        "type(street_tag)"
      ],
      "execution_count": null,
      "outputs": [
        {
          "output_type": "execute_result",
          "data": {
            "text/plain": [
              "numpy.ndarray"
            ]
          },
          "metadata": {
            "tags": []
          },
          "execution_count": 70
        }
      ]
    },
    {
      "cell_type": "code",
      "metadata": {
        "id": "boKlbfw9PUKo"
      },
      "source": [
        "street_tag = pd.DataFrame(street_tag)"
      ],
      "execution_count": null,
      "outputs": []
    },
    {
      "cell_type": "code",
      "metadata": {
        "id": "iOufF7RYPXf7"
      },
      "source": [
        "df = pd.concat([df, street_tag], axis = 1)"
      ],
      "execution_count": null,
      "outputs": []
    },
    {
      "cell_type": "code",
      "metadata": {
        "colab": {
          "base_uri": "https://localhost:8080/",
          "height": 195
        },
        "id": "1Meo6SzsPbJU",
        "outputId": "2d4f54cc-2105-4f0e-fa03-cf39d29c0eb1"
      },
      "source": [
        "df = df.rename(columns={0 : 'street_tag'})\n",
        "df.head()"
      ],
      "execution_count": null,
      "outputs": [
        {
          "output_type": "execute_result",
          "data": {
            "text/html": [
              "<div>\n",
              "<style scoped>\n",
              "    .dataframe tbody tr th:only-of-type {\n",
              "        vertical-align: middle;\n",
              "    }\n",
              "\n",
              "    .dataframe tbody tr th {\n",
              "        vertical-align: top;\n",
              "    }\n",
              "\n",
              "    .dataframe thead th {\n",
              "        text-align: right;\n",
              "    }\n",
              "</style>\n",
              "<table border=\"1\" class=\"dataframe\">\n",
              "  <thead>\n",
              "    <tr style=\"text-align: right;\">\n",
              "      <th></th>\n",
              "      <th>image_id</th>\n",
              "      <th>street</th>\n",
              "      <th>city</th>\n",
              "      <th>n_city</th>\n",
              "      <th>bed</th>\n",
              "      <th>bath</th>\n",
              "      <th>sqft</th>\n",
              "      <th>price</th>\n",
              "      <th>half_bath</th>\n",
              "      <th>street_tag</th>\n",
              "    </tr>\n",
              "  </thead>\n",
              "  <tbody>\n",
              "    <tr>\n",
              "      <th>0</th>\n",
              "      <td>0</td>\n",
              "      <td>1317 Van Buren Avenue</td>\n",
              "      <td>Salton City, CA</td>\n",
              "      <td>317</td>\n",
              "      <td>3</td>\n",
              "      <td>2.0</td>\n",
              "      <td>1560</td>\n",
              "      <td>201900</td>\n",
              "      <td>0.0</td>\n",
              "      <td>1317</td>\n",
              "    </tr>\n",
              "    <tr>\n",
              "      <th>1</th>\n",
              "      <td>1</td>\n",
              "      <td>124 C Street W</td>\n",
              "      <td>Brawley, CA</td>\n",
              "      <td>48</td>\n",
              "      <td>3</td>\n",
              "      <td>2.0</td>\n",
              "      <td>713</td>\n",
              "      <td>228500</td>\n",
              "      <td>0.0</td>\n",
              "      <td>124</td>\n",
              "    </tr>\n",
              "    <tr>\n",
              "      <th>2</th>\n",
              "      <td>2</td>\n",
              "      <td>2304 Clark Road</td>\n",
              "      <td>Imperial, CA</td>\n",
              "      <td>152</td>\n",
              "      <td>3</td>\n",
              "      <td>1.0</td>\n",
              "      <td>800</td>\n",
              "      <td>273950</td>\n",
              "      <td>0.0</td>\n",
              "      <td>2304</td>\n",
              "    </tr>\n",
              "    <tr>\n",
              "      <th>3</th>\n",
              "      <td>3</td>\n",
              "      <td>755 Brawley Avenue</td>\n",
              "      <td>Brawley, CA</td>\n",
              "      <td>48</td>\n",
              "      <td>3</td>\n",
              "      <td>1.0</td>\n",
              "      <td>1082</td>\n",
              "      <td>350000</td>\n",
              "      <td>0.0</td>\n",
              "      <td>755</td>\n",
              "    </tr>\n",
              "    <tr>\n",
              "      <th>4</th>\n",
              "      <td>4</td>\n",
              "      <td>2207 R Carrillo Court</td>\n",
              "      <td>Calexico, CA</td>\n",
              "      <td>55</td>\n",
              "      <td>4</td>\n",
              "      <td>3.0</td>\n",
              "      <td>2547</td>\n",
              "      <td>385100</td>\n",
              "      <td>0.0</td>\n",
              "      <td>2207</td>\n",
              "    </tr>\n",
              "  </tbody>\n",
              "</table>\n",
              "</div>"
            ],
            "text/plain": [
              "   image_id                 street  ... half_bath  street_tag\n",
              "0         0  1317 Van Buren Avenue  ...       0.0        1317\n",
              "1         1         124 C Street W  ...       0.0         124\n",
              "2         2        2304 Clark Road  ...       0.0        2304\n",
              "3         3     755 Brawley Avenue  ...       0.0         755\n",
              "4         4  2207 R Carrillo Court  ...       0.0        2207\n",
              "\n",
              "[5 rows x 10 columns]"
            ]
          },
          "metadata": {
            "tags": []
          },
          "execution_count": 78
        }
      ]
    },
    {
      "cell_type": "code",
      "metadata": {
        "colab": {
          "base_uri": "https://localhost:8080/"
        },
        "id": "zTcnWaJeAodh",
        "outputId": "112e4725-aa00-4fc0-883a-25b55cd51bb0"
      },
      "source": [
        "df.columns"
      ],
      "execution_count": null,
      "outputs": [
        {
          "output_type": "execute_result",
          "data": {
            "text/plain": [
              "Index(['image_id', 'street', 'city', 'n_city', 'bed', 'bath', 'sqft', 'price',\n",
              "       'half_bath', 'street_tag'],\n",
              "      dtype='object')"
            ]
          },
          "metadata": {
            "tags": []
          },
          "execution_count": 79
        }
      ]
    },
    {
      "cell_type": "code",
      "metadata": {
        "colab": {
          "base_uri": "https://localhost:8080/"
        },
        "id": "DEkmadvdBKZt",
        "outputId": "718ea58d-41a9-4eed-f17c-b1844172f613"
      },
      "source": [
        "df.info()"
      ],
      "execution_count": null,
      "outputs": [
        {
          "output_type": "stream",
          "text": [
            "<class 'pandas.core.frame.DataFrame'>\n",
            "RangeIndex: 15474 entries, 0 to 15473\n",
            "Data columns (total 8 columns):\n",
            " #   Column    Non-Null Count  Dtype  \n",
            "---  ------    --------------  -----  \n",
            " 0   image_id  15474 non-null  int64  \n",
            " 1   street    15474 non-null  object \n",
            " 2   city      15474 non-null  object \n",
            " 3   n_city    15474 non-null  int64  \n",
            " 4   bed       15474 non-null  int64  \n",
            " 5   bath      15474 non-null  float64\n",
            " 6   sqft      15474 non-null  int64  \n",
            " 7   price     15474 non-null  int64  \n",
            "dtypes: float64(1), int64(5), object(2)\n",
            "memory usage: 967.2+ KB\n"
          ],
          "name": "stdout"
        }
      ]
    },
    {
      "cell_type": "code",
      "metadata": {
        "colab": {
          "base_uri": "https://localhost:8080/",
          "height": 343
        },
        "id": "0A-UUWojYBKJ",
        "outputId": "f407ea28-db1b-4c05-d960-c67c37c3a6e6"
      },
      "source": [
        "from sklearn.preprocessing import MinMaxScaler\n",
        "\n",
        "scaler = MinMaxScaler()\n",
        "data_dropped = df.drop(['street', 'city', 'street_tag' ], axis=1)\n",
        "\n",
        "data_scaled = scaler.fit_transform(data_dropped)\n",
        "data_scaled = pd.DataFrame(data_scaled, columns=data_dropped.columns.tolist())\n",
        "\n",
        "y = data_scaled['price']\n",
        "data_scaled = data_scaled.drop(['price' , 'image_id'], axis=1)\n",
        "\n",
        "data_scaled.head(10)"
      ],
      "execution_count": null,
      "outputs": [
        {
          "output_type": "execute_result",
          "data": {
            "text/html": [
              "<div>\n",
              "<style scoped>\n",
              "    .dataframe tbody tr th:only-of-type {\n",
              "        vertical-align: middle;\n",
              "    }\n",
              "\n",
              "    .dataframe tbody tr th {\n",
              "        vertical-align: top;\n",
              "    }\n",
              "\n",
              "    .dataframe thead th {\n",
              "        text-align: right;\n",
              "    }\n",
              "</style>\n",
              "<table border=\"1\" class=\"dataframe\">\n",
              "  <thead>\n",
              "    <tr style=\"text-align: right;\">\n",
              "      <th></th>\n",
              "      <th>n_city</th>\n",
              "      <th>bed</th>\n",
              "      <th>bath</th>\n",
              "      <th>sqft</th>\n",
              "      <th>half_bath</th>\n",
              "    </tr>\n",
              "  </thead>\n",
              "  <tbody>\n",
              "    <tr>\n",
              "      <th>0</th>\n",
              "      <td>0.765700</td>\n",
              "      <td>0.181818</td>\n",
              "      <td>0.055556</td>\n",
              "      <td>0.073618</td>\n",
              "      <td>0.00</td>\n",
              "    </tr>\n",
              "    <tr>\n",
              "      <th>1</th>\n",
              "      <td>0.115942</td>\n",
              "      <td>0.181818</td>\n",
              "      <td>0.055556</td>\n",
              "      <td>0.024904</td>\n",
              "      <td>0.00</td>\n",
              "    </tr>\n",
              "    <tr>\n",
              "      <th>2</th>\n",
              "      <td>0.367150</td>\n",
              "      <td>0.181818</td>\n",
              "      <td>0.027778</td>\n",
              "      <td>0.029907</td>\n",
              "      <td>0.00</td>\n",
              "    </tr>\n",
              "    <tr>\n",
              "      <th>3</th>\n",
              "      <td>0.115942</td>\n",
              "      <td>0.181818</td>\n",
              "      <td>0.027778</td>\n",
              "      <td>0.046126</td>\n",
              "      <td>0.00</td>\n",
              "    </tr>\n",
              "    <tr>\n",
              "      <th>4</th>\n",
              "      <td>0.132850</td>\n",
              "      <td>0.272727</td>\n",
              "      <td>0.083333</td>\n",
              "      <td>0.130385</td>\n",
              "      <td>0.00</td>\n",
              "    </tr>\n",
              "    <tr>\n",
              "      <th>5</th>\n",
              "      <td>0.115942</td>\n",
              "      <td>0.181818</td>\n",
              "      <td>0.027778</td>\n",
              "      <td>0.046126</td>\n",
              "      <td>0.00</td>\n",
              "    </tr>\n",
              "    <tr>\n",
              "      <th>6</th>\n",
              "      <td>0.132850</td>\n",
              "      <td>0.272727</td>\n",
              "      <td>0.083333</td>\n",
              "      <td>0.143153</td>\n",
              "      <td>0.00</td>\n",
              "    </tr>\n",
              "    <tr>\n",
              "      <th>7</th>\n",
              "      <td>0.115942</td>\n",
              "      <td>0.363636</td>\n",
              "      <td>0.058333</td>\n",
              "      <td>0.133433</td>\n",
              "      <td>0.25</td>\n",
              "    </tr>\n",
              "    <tr>\n",
              "      <th>8</th>\n",
              "      <td>0.115942</td>\n",
              "      <td>0.363636</td>\n",
              "      <td>0.058333</td>\n",
              "      <td>0.133433</td>\n",
              "      <td>0.25</td>\n",
              "    </tr>\n",
              "    <tr>\n",
              "      <th>9</th>\n",
              "      <td>0.765700</td>\n",
              "      <td>0.272727</td>\n",
              "      <td>0.141667</td>\n",
              "      <td>0.210042</td>\n",
              "      <td>0.25</td>\n",
              "    </tr>\n",
              "  </tbody>\n",
              "</table>\n",
              "</div>"
            ],
            "text/plain": [
              "     n_city       bed      bath      sqft  half_bath\n",
              "0  0.765700  0.181818  0.055556  0.073618       0.00\n",
              "1  0.115942  0.181818  0.055556  0.024904       0.00\n",
              "2  0.367150  0.181818  0.027778  0.029907       0.00\n",
              "3  0.115942  0.181818  0.027778  0.046126       0.00\n",
              "4  0.132850  0.272727  0.083333  0.130385       0.00\n",
              "5  0.115942  0.181818  0.027778  0.046126       0.00\n",
              "6  0.132850  0.272727  0.083333  0.143153       0.00\n",
              "7  0.115942  0.363636  0.058333  0.133433       0.25\n",
              "8  0.115942  0.363636  0.058333  0.133433       0.25\n",
              "9  0.765700  0.272727  0.141667  0.210042       0.25"
            ]
          },
          "metadata": {
            "tags": []
          },
          "execution_count": 81
        }
      ]
    },
    {
      "cell_type": "code",
      "metadata": {
        "id": "lfX78SBBfevO"
      },
      "source": [
        "train = data_scaled"
      ],
      "execution_count": null,
      "outputs": []
    },
    {
      "cell_type": "code",
      "metadata": {
        "colab": {
          "base_uri": "https://localhost:8080/"
        },
        "id": "kzw9j-GSeEJ8",
        "outputId": "1ebd24c6-e253-4aad-9e5f-69a91d51c682"
      },
      "source": [
        "from sklearn.model_selection import train_test_split\n",
        "\n",
        "X_train, X_test, y_train, y_test = train_test_split(train, y, test_size = 0.2, random_state = 56)\n",
        "print(X_train.shape)\n",
        "print(X_test.shape)\n",
        "print(y_train.shape)\n",
        "print(y_test.shape)\n"
      ],
      "execution_count": null,
      "outputs": [
        {
          "output_type": "stream",
          "text": [
            "(12379, 5)\n",
            "(3095, 5)\n",
            "(12379,)\n",
            "(3095,)\n"
          ],
          "name": "stdout"
        }
      ]
    },
    {
      "cell_type": "code",
      "metadata": {
        "colab": {
          "base_uri": "https://localhost:8080/"
        },
        "id": "xFRMLPu_IOKp",
        "outputId": "f077ef70-8330-4f2a-a5c0-c06bbf0b04f3"
      },
      "source": [
        "X_image_train, X_image_test = train_test_split(X_house_images, test_size = 0.2, random_state = 56)\n",
        "print(X_image_train.shape)\n",
        "print(X_image_test.shape)"
      ],
      "execution_count": null,
      "outputs": [
        {
          "output_type": "stream",
          "text": [
            "(12379, 64, 64, 3)\n",
            "(3095, 64, 64, 3)\n"
          ],
          "name": "stdout"
        }
      ]
    },
    {
      "cell_type": "code",
      "metadata": {
        "id": "Esk8PmYIbFEe"
      },
      "source": [
        "from tensorflow.keras.layers import Dense , Dropout ,Input , Average\n",
        "from tensorflow.keras.callbacks import EarlyStopping\n",
        "from tensorflow.keras.utils import to_categorical\n",
        "from tensorflow.keras.optimizers import SGD\n",
        "from tensorflow.keras.utils import plot_model\n",
        "from tensorflow.keras.models import Model\n",
        "from sklearn.model_selection import StratifiedKFold\n",
        "from sklearn import metrics\n",
        "from sklearn.metrics import classification_report, confusion_matrix\n",
        "from tensorflow.keras import layers\n",
        "from tensorflow.keras import initializers\n",
        "from tensorflow.keras.layers import Conv2D, MaxPooling2D,AveragePooling2D, Flatten, Dense, Dropout, Activation , Concatenate, Input , BatchNormalization"
      ],
      "execution_count": null,
      "outputs": []
    },
    {
      "cell_type": "code",
      "metadata": {
        "colab": {
          "base_uri": "https://localhost:8080/"
        },
        "id": "feGP-y4IbGOW",
        "outputId": "144db092-6f84-4cfc-dae1-d5703df36d09"
      },
      "source": [
        "input_model1 = Input((X_train.shape[1] ),name = 'input1_layer')\n",
        "input_model2 = Input((X_image_train.shape[1] , X_image_train.shape[2] , X_image_train.shape[3] ),name = 'input2_layer')\n",
        "\n",
        "#######################################################\n",
        "#model1 ANN\n",
        "model1 = Dense(1000 ,activation='relu' , name=\"layer1\")(input_model1)\n",
        "model1 = Dense(500 ,activation='relu' , name=\"layer2\")(model1)\n",
        "model1 = Dropout(0.2)(model1)\n",
        "model1 = Dense(100 ,activation='relu' , name=\"layer3\")(model1)\n",
        "model1 = Dropout(0.2)(model1)\n",
        "model1 = Dense(90 ,activation='sigmoid' , name=\"layer4\")(model1)\n",
        "\n",
        "#######################################################\n",
        "#model2 CNN\n",
        "model2 = Conv2D(32,(5,5), activation='relu',name = 'Conv2_1_5')(input_model2)\n",
        "model2 = BatchNormalization(name = 'Bnorm2_1')(model2)\n",
        "model2 = Conv2D(32,(5,5), activation='relu', padding='same',name= 'Conv2_2_5')(model2)\n",
        "model2 = BatchNormalization(name = 'Bnorm2_2')(model2)\n",
        "model2 = MaxPooling2D((2, 2),name = 'MaxPool2_1')(model2)\n",
        "model2 = Conv2D(64,(3,3), activation='relu' ,padding='same',name = 'Conv2_3_3')(model2)\n",
        "model2 = BatchNormalization(name = 'Bnorm2_3')(model2)\n",
        "model2 = MaxPooling2D((2, 2),name = 'MaxPool2_2')(model2)\n",
        "model2 = Conv2D(64,(2,2), activation='relu' ,padding='valid',name = 'Conv2_4_3')(model2)\n",
        "model2 = BatchNormalization(name = 'Bnorm2_4')(model2)\n",
        "model2 = AveragePooling2D((2, 2),name = 'AvgPool2_1')(model2)\n",
        "model2 = Conv2D(128,(1,1), activation='relu' ,padding='valid',name = 'Conv2_5_1')(model2)\n",
        "model2 = BatchNormalization(name = 'Bnorm2_5')(model2)\n",
        "model2 = MaxPooling2D((2, 2),name = 'MaxPool2_3')(model2)\n",
        "model2 = Flatten(name = 'Flatten1')(model2)\n",
        "#######################################################\n",
        "merged = Concatenate()([model1, model2])\n",
        "\n",
        "# neural network\n",
        "merged = Dense(units = 5000, activation = 'relu')(merged)\n",
        "merged = Dropout(rate = 0.2)(merged)\n",
        "merged = BatchNormalization()(merged)\n",
        "merged = Dense(units =4000, activation = 'relu')(merged)\n",
        "merged = BatchNormalization()(merged)\n",
        "merged = Dense(units = 4500, activation = 'relu')(merged)\n",
        "merged = BatchNormalization()(merged)\n",
        "merged = Dense(units = 3500, activation = 'relu')(merged)\n",
        "merged = Dropout(rate = 0.2)(merged)\n",
        "merged = Dense(units = 2000, activation = 'relu')(merged)\n",
        "merged = Dropout(rate = 0.2)(merged)\n",
        "merged = Dense(units = 1000, activation = 'relu')(merged)\n",
        "merged = Dropout(rate = 0.2)(merged)\n",
        "merged = Dense(units = 500, activation = 'relu')(merged)\n",
        "merged = Dropout(rate = 0.2)(merged)\n",
        "merged = Dense(units = 200, activation = 'relu')(merged)\n",
        "merged = BatchNormalization()(merged)\n",
        "merged = Dense(units = 50, activation = 'relu')(merged)\n",
        "merged = BatchNormalization()(merged)\n",
        "merged = Dense(units = 10, activation = 'relu')(merged)\n",
        "merged = BatchNormalization()(merged)\n",
        "output = Dense(units = 1, activation = 'sigmoid')(merged)\n",
        "\n",
        "model = Model(inputs= [input_model1,input_model2], outputs=[output])\n",
        "model.summary()"
      ],
      "execution_count": null,
      "outputs": [
        {
          "output_type": "stream",
          "text": [
            "Model: \"functional_14\"\n",
            "__________________________________________________________________________________________________\n",
            "Layer (type)                    Output Shape         Param #     Connected to                     \n",
            "==================================================================================================\n",
            "input2_layer (InputLayer)       [(None, 64, 64, 3)]  0                                            \n",
            "__________________________________________________________________________________________________\n",
            "Conv2_1_5 (Conv2D)              (None, 60, 60, 32)   2432        input2_layer[0][0]               \n",
            "__________________________________________________________________________________________________\n",
            "Bnorm2_1 (BatchNormalization)   (None, 60, 60, 32)   128         Conv2_1_5[0][0]                  \n",
            "__________________________________________________________________________________________________\n",
            "Conv2_2_5 (Conv2D)              (None, 60, 60, 32)   25632       Bnorm2_1[0][0]                   \n",
            "__________________________________________________________________________________________________\n",
            "Bnorm2_2 (BatchNormalization)   (None, 60, 60, 32)   128         Conv2_2_5[0][0]                  \n",
            "__________________________________________________________________________________________________\n",
            "MaxPool2_1 (MaxPooling2D)       (None, 30, 30, 32)   0           Bnorm2_2[0][0]                   \n",
            "__________________________________________________________________________________________________\n",
            "Conv2_3_3 (Conv2D)              (None, 30, 30, 64)   18496       MaxPool2_1[0][0]                 \n",
            "__________________________________________________________________________________________________\n",
            "Bnorm2_3 (BatchNormalization)   (None, 30, 30, 64)   256         Conv2_3_3[0][0]                  \n",
            "__________________________________________________________________________________________________\n",
            "MaxPool2_2 (MaxPooling2D)       (None, 15, 15, 64)   0           Bnorm2_3[0][0]                   \n",
            "__________________________________________________________________________________________________\n",
            "input1_layer (InputLayer)       [(None, 5)]          0                                            \n",
            "__________________________________________________________________________________________________\n",
            "Conv2_4_3 (Conv2D)              (None, 14, 14, 64)   16448       MaxPool2_2[0][0]                 \n",
            "__________________________________________________________________________________________________\n",
            "layer1 (Dense)                  (None, 1000)         6000        input1_layer[0][0]               \n",
            "__________________________________________________________________________________________________\n",
            "Bnorm2_4 (BatchNormalization)   (None, 14, 14, 64)   256         Conv2_4_3[0][0]                  \n",
            "__________________________________________________________________________________________________\n",
            "layer2 (Dense)                  (None, 500)          500500      layer1[0][0]                     \n",
            "__________________________________________________________________________________________________\n",
            "AvgPool2_1 (AveragePooling2D)   (None, 7, 7, 64)     0           Bnorm2_4[0][0]                   \n",
            "__________________________________________________________________________________________________\n",
            "dropout_24 (Dropout)            (None, 500)          0           layer2[0][0]                     \n",
            "__________________________________________________________________________________________________\n",
            "Conv2_5_1 (Conv2D)              (None, 7, 7, 128)    8320        AvgPool2_1[0][0]                 \n",
            "__________________________________________________________________________________________________\n",
            "layer3 (Dense)                  (None, 100)          50100       dropout_24[0][0]                 \n",
            "__________________________________________________________________________________________________\n",
            "Bnorm2_5 (BatchNormalization)   (None, 7, 7, 128)    512         Conv2_5_1[0][0]                  \n",
            "__________________________________________________________________________________________________\n",
            "dropout_25 (Dropout)            (None, 100)          0           layer3[0][0]                     \n",
            "__________________________________________________________________________________________________\n",
            "MaxPool2_3 (MaxPooling2D)       (None, 3, 3, 128)    0           Bnorm2_5[0][0]                   \n",
            "__________________________________________________________________________________________________\n",
            "layer4 (Dense)                  (None, 90)           9090        dropout_25[0][0]                 \n",
            "__________________________________________________________________________________________________\n",
            "Flatten1 (Flatten)              (None, 1152)         0           MaxPool2_3[0][0]                 \n",
            "__________________________________________________________________________________________________\n",
            "concatenate_7 (Concatenate)     (None, 1242)         0           layer4[0][0]                     \n",
            "                                                                 Flatten1[0][0]                   \n",
            "__________________________________________________________________________________________________\n",
            "dense_43 (Dense)                (None, 5000)         6215000     concatenate_7[0][0]              \n",
            "__________________________________________________________________________________________________\n",
            "dropout_26 (Dropout)            (None, 5000)         0           dense_43[0][0]                   \n",
            "__________________________________________________________________________________________________\n",
            "batch_normalization_36 (BatchNo (None, 5000)         20000       dropout_26[0][0]                 \n",
            "__________________________________________________________________________________________________\n",
            "dense_44 (Dense)                (None, 4000)         20004000    batch_normalization_36[0][0]     \n",
            "__________________________________________________________________________________________________\n",
            "batch_normalization_37 (BatchNo (None, 4000)         16000       dense_44[0][0]                   \n",
            "__________________________________________________________________________________________________\n",
            "dense_45 (Dense)                (None, 4500)         18004500    batch_normalization_37[0][0]     \n",
            "__________________________________________________________________________________________________\n",
            "batch_normalization_38 (BatchNo (None, 4500)         18000       dense_45[0][0]                   \n",
            "__________________________________________________________________________________________________\n",
            "dense_46 (Dense)                (None, 3500)         15753500    batch_normalization_38[0][0]     \n",
            "__________________________________________________________________________________________________\n",
            "dropout_27 (Dropout)            (None, 3500)         0           dense_46[0][0]                   \n",
            "__________________________________________________________________________________________________\n",
            "dense_47 (Dense)                (None, 2000)         7002000     dropout_27[0][0]                 \n",
            "__________________________________________________________________________________________________\n",
            "dropout_28 (Dropout)            (None, 2000)         0           dense_47[0][0]                   \n",
            "__________________________________________________________________________________________________\n",
            "dense_48 (Dense)                (None, 1000)         2001000     dropout_28[0][0]                 \n",
            "__________________________________________________________________________________________________\n",
            "dropout_29 (Dropout)            (None, 1000)         0           dense_48[0][0]                   \n",
            "__________________________________________________________________________________________________\n",
            "dense_49 (Dense)                (None, 500)          500500      dropout_29[0][0]                 \n",
            "__________________________________________________________________________________________________\n",
            "dropout_30 (Dropout)            (None, 500)          0           dense_49[0][0]                   \n",
            "__________________________________________________________________________________________________\n",
            "dense_50 (Dense)                (None, 200)          100200      dropout_30[0][0]                 \n",
            "__________________________________________________________________________________________________\n",
            "batch_normalization_39 (BatchNo (None, 200)          800         dense_50[0][0]                   \n",
            "__________________________________________________________________________________________________\n",
            "dense_51 (Dense)                (None, 50)           10050       batch_normalization_39[0][0]     \n",
            "__________________________________________________________________________________________________\n",
            "batch_normalization_40 (BatchNo (None, 50)           200         dense_51[0][0]                   \n",
            "__________________________________________________________________________________________________\n",
            "dense_52 (Dense)                (None, 10)           510         batch_normalization_40[0][0]     \n",
            "__________________________________________________________________________________________________\n",
            "batch_normalization_41 (BatchNo (None, 10)           40          dense_52[0][0]                   \n",
            "__________________________________________________________________________________________________\n",
            "dense_53 (Dense)                (None, 1)            11          batch_normalization_41[0][0]     \n",
            "==================================================================================================\n",
            "Total params: 70,284,609\n",
            "Trainable params: 70,256,449\n",
            "Non-trainable params: 28,160\n",
            "__________________________________________________________________________________________________\n"
          ],
          "name": "stdout"
        }
      ]
    },
    {
      "cell_type": "code",
      "metadata": {
        "colab": {
          "base_uri": "https://localhost:8080/"
        },
        "id": "2Jju2DRBbu6u",
        "outputId": "e46c34bf-6c79-4e93-8d23-874c3e9ddca2"
      },
      "source": [
        "sgd = SGD(lr=0.01, momentum=0.9)\n",
        "es = EarlyStopping(monitor='val_loss', mode='auto', verbose=1 , patience=3)\n",
        "model.compile(optimizer='sgd',loss='mse',\n",
        "  metrics=[tf.keras.metrics.MeanSquaredError()])\n",
        "history = model.fit(x = [X_train,X_image_train], y=y_train,\n",
        "                              batch_size = 32,\n",
        "                              epochs= 50,\n",
        "                              validation_split = 0.2,\n",
        "                              verbose=1,\n",
        "                              callbacks=[es])"
      ],
      "execution_count": null,
      "outputs": [
        {
          "output_type": "stream",
          "text": [
            "Epoch 1/50\n",
            "310/310 [==============================] - 7s 24ms/step - loss: 0.1057 - mean_squared_error: 0.1057 - val_loss: 0.0510 - val_mean_squared_error: 0.0510\n",
            "Epoch 2/50\n",
            "310/310 [==============================] - 7s 23ms/step - loss: 0.0678 - mean_squared_error: 0.0678 - val_loss: 0.0508 - val_mean_squared_error: 0.0508\n",
            "Epoch 3/50\n",
            "310/310 [==============================] - 7s 23ms/step - loss: 0.0547 - mean_squared_error: 0.0547 - val_loss: 0.0469 - val_mean_squared_error: 0.0469\n",
            "Epoch 4/50\n",
            "310/310 [==============================] - 7s 23ms/step - loss: 0.0496 - mean_squared_error: 0.0496 - val_loss: 0.0467 - val_mean_squared_error: 0.0467\n",
            "Epoch 5/50\n",
            "310/310 [==============================] - 7s 23ms/step - loss: 0.0474 - mean_squared_error: 0.0474 - val_loss: 0.0460 - val_mean_squared_error: 0.0460\n",
            "Epoch 6/50\n",
            "310/310 [==============================] - 7s 23ms/step - loss: 0.0454 - mean_squared_error: 0.0454 - val_loss: 0.0447 - val_mean_squared_error: 0.0447\n",
            "Epoch 7/50\n",
            "310/310 [==============================] - 7s 23ms/step - loss: 0.0450 - mean_squared_error: 0.0450 - val_loss: 0.0450 - val_mean_squared_error: 0.0450\n",
            "Epoch 8/50\n",
            "310/310 [==============================] - 7s 23ms/step - loss: 0.0446 - mean_squared_error: 0.0446 - val_loss: 0.0444 - val_mean_squared_error: 0.0444\n",
            "Epoch 9/50\n",
            "310/310 [==============================] - 7s 23ms/step - loss: 0.0440 - mean_squared_error: 0.0440 - val_loss: 0.0444 - val_mean_squared_error: 0.0444\n",
            "Epoch 10/50\n",
            "310/310 [==============================] - 7s 23ms/step - loss: 0.0436 - mean_squared_error: 0.0436 - val_loss: 0.0442 - val_mean_squared_error: 0.0442\n",
            "Epoch 11/50\n",
            "310/310 [==============================] - 7s 23ms/step - loss: 0.0434 - mean_squared_error: 0.0434 - val_loss: 0.0440 - val_mean_squared_error: 0.0440\n",
            "Epoch 12/50\n",
            "310/310 [==============================] - 7s 23ms/step - loss: 0.0432 - mean_squared_error: 0.0432 - val_loss: 0.0442 - val_mean_squared_error: 0.0442\n",
            "Epoch 13/50\n",
            "310/310 [==============================] - 7s 23ms/step - loss: 0.0429 - mean_squared_error: 0.0429 - val_loss: 0.0439 - val_mean_squared_error: 0.0439\n",
            "Epoch 14/50\n",
            "310/310 [==============================] - 7s 23ms/step - loss: 0.0427 - mean_squared_error: 0.0427 - val_loss: 0.0438 - val_mean_squared_error: 0.0438\n",
            "Epoch 15/50\n",
            "310/310 [==============================] - 7s 23ms/step - loss: 0.0430 - mean_squared_error: 0.0430 - val_loss: 0.0438 - val_mean_squared_error: 0.0438\n",
            "Epoch 16/50\n",
            "310/310 [==============================] - 7s 23ms/step - loss: 0.0426 - mean_squared_error: 0.0426 - val_loss: 0.0436 - val_mean_squared_error: 0.0436\n",
            "Epoch 17/50\n",
            "310/310 [==============================] - 7s 23ms/step - loss: 0.0423 - mean_squared_error: 0.0423 - val_loss: 0.0435 - val_mean_squared_error: 0.0435\n",
            "Epoch 18/50\n",
            "310/310 [==============================] - 7s 23ms/step - loss: 0.0419 - mean_squared_error: 0.0419 - val_loss: 0.0433 - val_mean_squared_error: 0.0433\n",
            "Epoch 19/50\n",
            "310/310 [==============================] - 7s 23ms/step - loss: 0.0418 - mean_squared_error: 0.0418 - val_loss: 0.0433 - val_mean_squared_error: 0.0433\n",
            "Epoch 20/50\n",
            "310/310 [==============================] - 7s 23ms/step - loss: 0.0418 - mean_squared_error: 0.0418 - val_loss: 0.0435 - val_mean_squared_error: 0.0435\n",
            "Epoch 21/50\n",
            "310/310 [==============================] - 7s 23ms/step - loss: 0.0416 - mean_squared_error: 0.0416 - val_loss: 0.0431 - val_mean_squared_error: 0.0431\n",
            "Epoch 22/50\n",
            "310/310 [==============================] - 7s 23ms/step - loss: 0.0414 - mean_squared_error: 0.0414 - val_loss: 0.0431 - val_mean_squared_error: 0.0431\n",
            "Epoch 23/50\n",
            "310/310 [==============================] - 7s 23ms/step - loss: 0.0415 - mean_squared_error: 0.0415 - val_loss: 0.0428 - val_mean_squared_error: 0.0428\n",
            "Epoch 24/50\n",
            "310/310 [==============================] - 7s 23ms/step - loss: 0.0412 - mean_squared_error: 0.0412 - val_loss: 0.0429 - val_mean_squared_error: 0.0429\n",
            "Epoch 25/50\n",
            "310/310 [==============================] - 7s 23ms/step - loss: 0.0411 - mean_squared_error: 0.0411 - val_loss: 0.0428 - val_mean_squared_error: 0.0428\n",
            "Epoch 26/50\n",
            "310/310 [==============================] - 7s 23ms/step - loss: 0.0413 - mean_squared_error: 0.0413 - val_loss: 0.0427 - val_mean_squared_error: 0.0427\n",
            "Epoch 27/50\n",
            "310/310 [==============================] - 7s 23ms/step - loss: 0.0409 - mean_squared_error: 0.0409 - val_loss: 0.0425 - val_mean_squared_error: 0.0425\n",
            "Epoch 28/50\n",
            "310/310 [==============================] - 7s 23ms/step - loss: 0.0407 - mean_squared_error: 0.0407 - val_loss: 0.0422 - val_mean_squared_error: 0.0422\n",
            "Epoch 29/50\n",
            "310/310 [==============================] - 7s 23ms/step - loss: 0.0407 - mean_squared_error: 0.0407 - val_loss: 0.0422 - val_mean_squared_error: 0.0422\n",
            "Epoch 30/50\n",
            "310/310 [==============================] - 7s 23ms/step - loss: 0.0402 - mean_squared_error: 0.0402 - val_loss: 0.0420 - val_mean_squared_error: 0.0420\n",
            "Epoch 31/50\n",
            "310/310 [==============================] - 7s 23ms/step - loss: 0.0403 - mean_squared_error: 0.0403 - val_loss: 0.0421 - val_mean_squared_error: 0.0421\n",
            "Epoch 32/50\n",
            "310/310 [==============================] - 7s 23ms/step - loss: 0.0403 - mean_squared_error: 0.0403 - val_loss: 0.0421 - val_mean_squared_error: 0.0421\n",
            "Epoch 33/50\n",
            "310/310 [==============================] - 7s 23ms/step - loss: 0.0400 - mean_squared_error: 0.0400 - val_loss: 0.0421 - val_mean_squared_error: 0.0421\n",
            "Epoch 00033: early stopping\n"
          ],
          "name": "stdout"
        }
      ]
    },
    {
      "cell_type": "code",
      "metadata": {
        "colab": {
          "base_uri": "https://localhost:8080/",
          "height": 350
        },
        "id": "j_yvasjNJyE0",
        "outputId": "f9e1e6ac-0b53-49cd-ce9b-70a07af06101"
      },
      "source": [
        "import matplotlib.pyplot as plt\n",
        "\n",
        "plt.figure(figsize = (7,5))\n",
        "plt.plot(history.history['mean_squared_error'])\n",
        "plt.plot(history.history['val_mean_squared_error'])\n",
        "plt.title('model error')\n",
        "plt.ylabel('MSE')\n",
        "plt.xlabel('epoch')\n",
        "plt.legend(['train', 'val'], loc='upper right')\n",
        "plt.show()"
      ],
      "execution_count": null,
      "outputs": [
        {
          "output_type": "display_data",
          "data": {
            "image/png": "[encoded data removed]",
            "text/plain": [
              "<Figure size 504x360 with 1 Axes>"
            ]
          },
          "metadata": {
            "tags": [],
            "needs_background": "light"
          }
        }
      ]
    },
    {
      "cell_type": "code",
      "metadata": {
        "id": "hRulpiIkn0Qb"
      },
      "source": [
        "test_price = y_test.values"
      ],
      "execution_count": null,
      "outputs": []
    },
    {
      "cell_type": "code",
      "metadata": {
        "id": "r-y4ITaT1eKj"
      },
      "source": [
        "#test_price.shape\n",
        "test_price  = test_price .reshape(-1,1)"
      ],
      "execution_count": null,
      "outputs": []
    },
    {
      "cell_type": "code",
      "metadata": {
        "colab": {
          "base_uri": "https://localhost:8080/"
        },
        "id": "uUNF6_v3uH3Y",
        "outputId": "f8f5de06-8690-423e-f587-34b6fe51873d"
      },
      "source": [
        "test_price.shape"
      ],
      "execution_count": null,
      "outputs": [
        {
          "output_type": "execute_result",
          "data": {
            "text/plain": [
              "(3095, 1)"
            ]
          },
          "metadata": {
            "tags": []
          },
          "execution_count": 149
        }
      ]
    },
    {
      "cell_type": "code",
      "metadata": {
        "id": "epf4OMe_3O-R"
      },
      "source": [
        "test_price = test_price.astype('float32')"
      ],
      "execution_count": null,
      "outputs": []
    },
    {
      "cell_type": "code",
      "metadata": {
        "id": "8WZygbOP1nsp"
      },
      "source": [
        "predicted_price = model.predict([X_test , X_image_test])"
      ],
      "execution_count": null,
      "outputs": []
    },
    {
      "cell_type": "code",
      "metadata": {
        "colab": {
          "base_uri": "https://localhost:8080/"
        },
        "id": "YOChZ-3M2R0p",
        "outputId": "6bcbd196-2ff8-4836-f59f-d58375954535"
      },
      "source": [
        "predicted_price[5]"
      ],
      "execution_count": null,
      "outputs": [
        {
          "output_type": "execute_result",
          "data": {
            "text/plain": [
              "array([0.23083468], dtype=float32)"
            ]
          },
          "metadata": {
            "tags": []
          },
          "execution_count": 152
        }
      ]
    },
    {
      "cell_type": "code",
      "metadata": {
        "id": "RZZsBu8z2dZ5"
      },
      "source": [
        "sum = 0\n",
        "mid = 0\n",
        "for i in range (3095):\n",
        "    sum = (abs(test_price[i] -predicted_price[i])) + sum\n",
        "\n",
        "mid = sum / 3095"
      ],
      "execution_count": null,
      "outputs": []
    },
    {
      "cell_type": "code",
      "metadata": {
        "colab": {
          "base_uri": "https://localhost:8080/"
        },
        "id": "F1K5c0zk3uuJ",
        "outputId": "d7fdf10b-110f-4113-8b56-ad43705232f9"
      },
      "source": [
        "print (mid*2000000)"
      ],
      "execution_count": null,
      "outputs": [
        {
          "output_type": "stream",
          "text": [
            "[297650.8140564]\n"
          ],
          "name": "stdout"
        }
      ]
    },
    {
      "cell_type": "code",
      "metadata": {
        "id": "J3BRTEvZbNVH"
      },
      "source": [
        "model.save_weights(\"/gdrive/My Drive/network_best_weights_house.h5\")\n",
        "model.save(\"/gdrive/My Drive/network_best_house.hdf5\")"
      ],
      "execution_count": null,
      "outputs": []
    },
    {
      "cell_type": "markdown",
      "metadata": {
        "id": "vCUo4Ye7Sh8Z"
      },
      "source": [
        "## Neural Network Only(without pictures)"
      ]
    },
    {
      "cell_type": "code",
      "metadata": {
        "id": "6XxYv-c5Sroa"
      },
      "source": [
        "input_layer = Input((X_train.shape[1] ),name = 'input1_layer')\n",
        "\n",
        "input_layer = Input(shape=X_train.shape[1], name =\"input\")\n",
        "hidden_layer1 = Dense(500 ,activation='relu' , name=\"layer1\")(input_layer)\n",
        "hidden_layer2 = Dense(250 ,activation='relu' , name=\"layer2\")(hidden_layer1)\n",
        "droupout_layer = Dropout(0.2)(hidden_layer2)\n",
        "output_layer = Dense(1 ,activation='sigmoid' , name=\"layer3\")(droupout_layer)\n",
        "\n",
        "model = Model(inputs=input_layer, outputs=output_layer , name = \"model1\")\n"
      ],
      "execution_count": null,
      "outputs": []
    },
    {
      "cell_type": "code",
      "metadata": {
        "id": "xugSZt20TP26"
      },
      "source": [
        "sgd = SGD(lr=0.01, momentum=0.9)\n",
        "model.compile(optimizer=sgd , loss='mse', metrics=[tf.keras.metrics.MeanSquaredError()])"
      ],
      "execution_count": null,
      "outputs": []
    },
    {
      "cell_type": "code",
      "metadata": {
        "id": "NMMaZr2kTRyX"
      },
      "source": [
        "es = EarlyStopping(monitor='val_loss', mode='auto', verbose=1, patience=2)"
      ],
      "execution_count": null,
      "outputs": []
    },
    {
      "cell_type": "code",
      "metadata": {
        "colab": {
          "base_uri": "https://localhost:8080/"
        },
        "id": "tPZmqlbCTVgI",
        "outputId": "a84e13cd-ba14-4886-e50a-a5de5e346741"
      },
      "source": [
        "history = model.fit(X_train,y_train , batch_size=250,epochs=100, verbose=1 , validation_split=0.2 ,callbacks = [es])"
      ],
      "execution_count": null,
      "outputs": [
        {
          "output_type": "stream",
          "text": [
            "Epoch 1/100\n",
            "40/40 [==============================] - 0s 5ms/step - loss: 0.0656 - mean_squared_error: 0.0656 - val_loss: 0.0487 - val_mean_squared_error: 0.0487\n",
            "Epoch 2/100\n",
            "40/40 [==============================] - 0s 3ms/step - loss: 0.0453 - mean_squared_error: 0.0453 - val_loss: 0.0458 - val_mean_squared_error: 0.0458\n",
            "Epoch 3/100\n",
            "40/40 [==============================] - 0s 3ms/step - loss: 0.0439 - mean_squared_error: 0.0439 - val_loss: 0.0454 - val_mean_squared_error: 0.0454\n",
            "Epoch 4/100\n",
            "40/40 [==============================] - 0s 3ms/step - loss: 0.0436 - mean_squared_error: 0.0436 - val_loss: 0.0451 - val_mean_squared_error: 0.0451\n",
            "Epoch 5/100\n",
            "40/40 [==============================] - 0s 3ms/step - loss: 0.0433 - mean_squared_error: 0.0433 - val_loss: 0.0448 - val_mean_squared_error: 0.0448\n",
            "Epoch 6/100\n",
            "40/40 [==============================] - 0s 3ms/step - loss: 0.0430 - mean_squared_error: 0.0430 - val_loss: 0.0445 - val_mean_squared_error: 0.0445\n",
            "Epoch 7/100\n",
            "40/40 [==============================] - 0s 3ms/step - loss: 0.0426 - mean_squared_error: 0.0426 - val_loss: 0.0442 - val_mean_squared_error: 0.0442\n",
            "Epoch 8/100\n",
            "40/40 [==============================] - 0s 3ms/step - loss: 0.0423 - mean_squared_error: 0.0423 - val_loss: 0.0438 - val_mean_squared_error: 0.0438\n",
            "Epoch 9/100\n",
            "40/40 [==============================] - 0s 3ms/step - loss: 0.0418 - mean_squared_error: 0.0418 - val_loss: 0.0435 - val_mean_squared_error: 0.0435\n",
            "Epoch 10/100\n",
            "40/40 [==============================] - 0s 3ms/step - loss: 0.0416 - mean_squared_error: 0.0416 - val_loss: 0.0432 - val_mean_squared_error: 0.0432\n",
            "Epoch 11/100\n",
            "40/40 [==============================] - 0s 3ms/step - loss: 0.0413 - mean_squared_error: 0.0413 - val_loss: 0.0430 - val_mean_squared_error: 0.0430\n",
            "Epoch 12/100\n",
            "40/40 [==============================] - 0s 3ms/step - loss: 0.0411 - mean_squared_error: 0.0411 - val_loss: 0.0427 - val_mean_squared_error: 0.0427\n",
            "Epoch 13/100\n",
            "40/40 [==============================] - 0s 3ms/step - loss: 0.0408 - mean_squared_error: 0.0408 - val_loss: 0.0423 - val_mean_squared_error: 0.0423\n",
            "Epoch 14/100\n",
            "40/40 [==============================] - 0s 3ms/step - loss: 0.0405 - mean_squared_error: 0.0405 - val_loss: 0.0421 - val_mean_squared_error: 0.0421\n",
            "Epoch 15/100\n",
            "40/40 [==============================] - 0s 3ms/step - loss: 0.0402 - mean_squared_error: 0.0402 - val_loss: 0.0417 - val_mean_squared_error: 0.0417\n",
            "Epoch 16/100\n",
            "40/40 [==============================] - 0s 3ms/step - loss: 0.0399 - mean_squared_error: 0.0399 - val_loss: 0.0414 - val_mean_squared_error: 0.0414\n",
            "Epoch 17/100\n",
            "40/40 [==============================] - 0s 3ms/step - loss: 0.0395 - mean_squared_error: 0.0395 - val_loss: 0.0411 - val_mean_squared_error: 0.0411\n",
            "Epoch 18/100\n",
            "40/40 [==============================] - 0s 3ms/step - loss: 0.0393 - mean_squared_error: 0.0393 - val_loss: 0.0408 - val_mean_squared_error: 0.0408\n",
            "Epoch 19/100\n",
            "40/40 [==============================] - 0s 3ms/step - loss: 0.0390 - mean_squared_error: 0.0390 - val_loss: 0.0405 - val_mean_squared_error: 0.0405\n",
            "Epoch 20/100\n",
            "40/40 [==============================] - 0s 3ms/step - loss: 0.0386 - mean_squared_error: 0.0386 - val_loss: 0.0402 - val_mean_squared_error: 0.0402\n",
            "Epoch 21/100\n",
            "40/40 [==============================] - 0s 3ms/step - loss: 0.0383 - mean_squared_error: 0.0383 - val_loss: 0.0399 - val_mean_squared_error: 0.0399\n",
            "Epoch 22/100\n",
            "40/40 [==============================] - 0s 3ms/step - loss: 0.0380 - mean_squared_error: 0.0380 - val_loss: 0.0395 - val_mean_squared_error: 0.0395\n",
            "Epoch 23/100\n",
            "40/40 [==============================] - 0s 3ms/step - loss: 0.0377 - mean_squared_error: 0.0377 - val_loss: 0.0392 - val_mean_squared_error: 0.0392\n",
            "Epoch 24/100\n",
            "40/40 [==============================] - 0s 3ms/step - loss: 0.0373 - mean_squared_error: 0.0373 - val_loss: 0.0389 - val_mean_squared_error: 0.0389\n",
            "Epoch 25/100\n",
            "40/40 [==============================] - 0s 3ms/step - loss: 0.0371 - mean_squared_error: 0.0371 - val_loss: 0.0386 - val_mean_squared_error: 0.0386\n",
            "Epoch 26/100\n",
            "40/40 [==============================] - 0s 3ms/step - loss: 0.0368 - mean_squared_error: 0.0368 - val_loss: 0.0383 - val_mean_squared_error: 0.0383\n",
            "Epoch 27/100\n",
            "40/40 [==============================] - 0s 3ms/step - loss: 0.0364 - mean_squared_error: 0.0364 - val_loss: 0.0380 - val_mean_squared_error: 0.0380\n",
            "Epoch 28/100\n",
            "40/40 [==============================] - 0s 3ms/step - loss: 0.0361 - mean_squared_error: 0.0361 - val_loss: 0.0376 - val_mean_squared_error: 0.0376\n",
            "Epoch 29/100\n",
            "40/40 [==============================] - 0s 3ms/step - loss: 0.0359 - mean_squared_error: 0.0359 - val_loss: 0.0373 - val_mean_squared_error: 0.0373\n",
            "Epoch 30/100\n",
            "40/40 [==============================] - 0s 3ms/step - loss: 0.0356 - mean_squared_error: 0.0356 - val_loss: 0.0371 - val_mean_squared_error: 0.0371\n",
            "Epoch 31/100\n",
            "40/40 [==============================] - 0s 3ms/step - loss: 0.0353 - mean_squared_error: 0.0353 - val_loss: 0.0368 - val_mean_squared_error: 0.0368\n",
            "Epoch 32/100\n",
            "40/40 [==============================] - 0s 3ms/step - loss: 0.0349 - mean_squared_error: 0.0349 - val_loss: 0.0365 - val_mean_squared_error: 0.0365\n",
            "Epoch 33/100\n",
            "40/40 [==============================] - 0s 3ms/step - loss: 0.0348 - mean_squared_error: 0.0348 - val_loss: 0.0362 - val_mean_squared_error: 0.0362\n",
            "Epoch 34/100\n",
            "40/40 [==============================] - 0s 3ms/step - loss: 0.0344 - mean_squared_error: 0.0344 - val_loss: 0.0360 - val_mean_squared_error: 0.0360\n",
            "Epoch 35/100\n",
            "40/40 [==============================] - 0s 3ms/step - loss: 0.0343 - mean_squared_error: 0.0343 - val_loss: 0.0357 - val_mean_squared_error: 0.0357\n",
            "Epoch 36/100\n",
            "40/40 [==============================] - 0s 3ms/step - loss: 0.0339 - mean_squared_error: 0.0339 - val_loss: 0.0355 - val_mean_squared_error: 0.0355\n",
            "Epoch 37/100\n",
            "40/40 [==============================] - 0s 3ms/step - loss: 0.0338 - mean_squared_error: 0.0338 - val_loss: 0.0353 - val_mean_squared_error: 0.0353\n",
            "Epoch 38/100\n",
            "40/40 [==============================] - 0s 3ms/step - loss: 0.0336 - mean_squared_error: 0.0336 - val_loss: 0.0351 - val_mean_squared_error: 0.0351\n",
            "Epoch 39/100\n",
            "40/40 [==============================] - 0s 3ms/step - loss: 0.0334 - mean_squared_error: 0.0334 - val_loss: 0.0348 - val_mean_squared_error: 0.0348\n",
            "Epoch 40/100\n",
            "40/40 [==============================] - 0s 3ms/step - loss: 0.0332 - mean_squared_error: 0.0332 - val_loss: 0.0346 - val_mean_squared_error: 0.0346\n",
            "Epoch 41/100\n",
            "40/40 [==============================] - 0s 3ms/step - loss: 0.0331 - mean_squared_error: 0.0331 - val_loss: 0.0345 - val_mean_squared_error: 0.0345\n",
            "Epoch 42/100\n",
            "40/40 [==============================] - 0s 3ms/step - loss: 0.0329 - mean_squared_error: 0.0329 - val_loss: 0.0343 - val_mean_squared_error: 0.0343\n",
            "Epoch 43/100\n",
            "40/40 [==============================] - 0s 3ms/step - loss: 0.0327 - mean_squared_error: 0.0327 - val_loss: 0.0342 - val_mean_squared_error: 0.0342\n",
            "Epoch 44/100\n",
            "40/40 [==============================] - 0s 3ms/step - loss: 0.0325 - mean_squared_error: 0.0325 - val_loss: 0.0339 - val_mean_squared_error: 0.0339\n",
            "Epoch 45/100\n",
            "40/40 [==============================] - 0s 3ms/step - loss: 0.0325 - mean_squared_error: 0.0325 - val_loss: 0.0338 - val_mean_squared_error: 0.0338\n",
            "Epoch 46/100\n",
            "40/40 [==============================] - 0s 3ms/step - loss: 0.0323 - mean_squared_error: 0.0323 - val_loss: 0.0337 - val_mean_squared_error: 0.0337\n",
            "Epoch 47/100\n",
            "40/40 [==============================] - 0s 3ms/step - loss: 0.0322 - mean_squared_error: 0.0322 - val_loss: 0.0335 - val_mean_squared_error: 0.0335\n",
            "Epoch 48/100\n",
            "40/40 [==============================] - 0s 3ms/step - loss: 0.0321 - mean_squared_error: 0.0321 - val_loss: 0.0334 - val_mean_squared_error: 0.0334\n",
            "Epoch 49/100\n",
            "40/40 [==============================] - 0s 3ms/step - loss: 0.0319 - mean_squared_error: 0.0319 - val_loss: 0.0333 - val_mean_squared_error: 0.0333\n",
            "Epoch 50/100\n",
            "40/40 [==============================] - 0s 3ms/step - loss: 0.0319 - mean_squared_error: 0.0319 - val_loss: 0.0332 - val_mean_squared_error: 0.0332\n",
            "Epoch 51/100\n",
            "40/40 [==============================] - 0s 3ms/step - loss: 0.0318 - mean_squared_error: 0.0318 - val_loss: 0.0330 - val_mean_squared_error: 0.0330\n",
            "Epoch 52/100\n",
            "40/40 [==============================] - 0s 3ms/step - loss: 0.0315 - mean_squared_error: 0.0315 - val_loss: 0.0329 - val_mean_squared_error: 0.0329\n",
            "Epoch 53/100\n",
            "40/40 [==============================] - 0s 3ms/step - loss: 0.0315 - mean_squared_error: 0.0315 - val_loss: 0.0328 - val_mean_squared_error: 0.0328\n",
            "Epoch 54/100\n",
            "40/40 [==============================] - 0s 3ms/step - loss: 0.0315 - mean_squared_error: 0.0315 - val_loss: 0.0328 - val_mean_squared_error: 0.0328\n",
            "Epoch 55/100\n",
            "40/40 [==============================] - 0s 3ms/step - loss: 0.0312 - mean_squared_error: 0.0312 - val_loss: 0.0326 - val_mean_squared_error: 0.0326\n",
            "Epoch 56/100\n",
            "40/40 [==============================] - 0s 3ms/step - loss: 0.0312 - mean_squared_error: 0.0312 - val_loss: 0.0326 - val_mean_squared_error: 0.0326\n",
            "Epoch 57/100\n",
            "40/40 [==============================] - 0s 3ms/step - loss: 0.0311 - mean_squared_error: 0.0311 - val_loss: 0.0326 - val_mean_squared_error: 0.0326\n",
            "Epoch 58/100\n",
            "40/40 [==============================] - 0s 3ms/step - loss: 0.0311 - mean_squared_error: 0.0311 - val_loss: 0.0324 - val_mean_squared_error: 0.0324\n",
            "Epoch 59/100\n",
            "40/40 [==============================] - 0s 3ms/step - loss: 0.0309 - mean_squared_error: 0.0309 - val_loss: 0.0323 - val_mean_squared_error: 0.0323\n",
            "Epoch 60/100\n",
            "40/40 [==============================] - 0s 3ms/step - loss: 0.0309 - mean_squared_error: 0.0309 - val_loss: 0.0322 - val_mean_squared_error: 0.0322\n",
            "Epoch 61/100\n",
            "40/40 [==============================] - 0s 3ms/step - loss: 0.0309 - mean_squared_error: 0.0309 - val_loss: 0.0321 - val_mean_squared_error: 0.0321\n",
            "Epoch 62/100\n",
            "40/40 [==============================] - 0s 3ms/step - loss: 0.0308 - mean_squared_error: 0.0308 - val_loss: 0.0321 - val_mean_squared_error: 0.0321\n",
            "Epoch 63/100\n",
            "40/40 [==============================] - 0s 3ms/step - loss: 0.0307 - mean_squared_error: 0.0307 - val_loss: 0.0320 - val_mean_squared_error: 0.0320\n",
            "Epoch 64/100\n",
            "40/40 [==============================] - 0s 3ms/step - loss: 0.0306 - mean_squared_error: 0.0306 - val_loss: 0.0319 - val_mean_squared_error: 0.0319\n",
            "Epoch 65/100\n",
            "40/40 [==============================] - 0s 3ms/step - loss: 0.0305 - mean_squared_error: 0.0305 - val_loss: 0.0319 - val_mean_squared_error: 0.0319\n",
            "Epoch 66/100\n",
            "40/40 [==============================] - 0s 3ms/step - loss: 0.0305 - mean_squared_error: 0.0305 - val_loss: 0.0318 - val_mean_squared_error: 0.0318\n",
            "Epoch 67/100\n",
            "40/40 [==============================] - 0s 3ms/step - loss: 0.0304 - mean_squared_error: 0.0304 - val_loss: 0.0317 - val_mean_squared_error: 0.0317\n",
            "Epoch 68/100\n",
            "40/40 [==============================] - 0s 3ms/step - loss: 0.0304 - mean_squared_error: 0.0304 - val_loss: 0.0317 - val_mean_squared_error: 0.0317\n",
            "Epoch 69/100\n",
            "40/40 [==============================] - 0s 3ms/step - loss: 0.0303 - mean_squared_error: 0.0303 - val_loss: 0.0316 - val_mean_squared_error: 0.0316\n",
            "Epoch 70/100\n",
            "40/40 [==============================] - 0s 3ms/step - loss: 0.0303 - mean_squared_error: 0.0303 - val_loss: 0.0315 - val_mean_squared_error: 0.0315\n",
            "Epoch 71/100\n",
            "40/40 [==============================] - 0s 3ms/step - loss: 0.0302 - mean_squared_error: 0.0302 - val_loss: 0.0315 - val_mean_squared_error: 0.0315\n",
            "Epoch 72/100\n",
            "40/40 [==============================] - 0s 3ms/step - loss: 0.0301 - mean_squared_error: 0.0301 - val_loss: 0.0314 - val_mean_squared_error: 0.0314\n",
            "Epoch 73/100\n",
            "40/40 [==============================] - 0s 3ms/step - loss: 0.0300 - mean_squared_error: 0.0300 - val_loss: 0.0314 - val_mean_squared_error: 0.0314\n",
            "Epoch 74/100\n",
            "40/40 [==============================] - 0s 3ms/step - loss: 0.0300 - mean_squared_error: 0.0300 - val_loss: 0.0314 - val_mean_squared_error: 0.0314\n",
            "Epoch 75/100\n",
            "40/40 [==============================] - 0s 3ms/step - loss: 0.0299 - mean_squared_error: 0.0299 - val_loss: 0.0312 - val_mean_squared_error: 0.0312\n",
            "Epoch 76/100\n",
            "40/40 [==============================] - 0s 3ms/step - loss: 0.0299 - mean_squared_error: 0.0299 - val_loss: 0.0312 - val_mean_squared_error: 0.0312\n",
            "Epoch 77/100\n",
            "40/40 [==============================] - 0s 3ms/step - loss: 0.0298 - mean_squared_error: 0.0298 - val_loss: 0.0311 - val_mean_squared_error: 0.0311\n",
            "Epoch 78/100\n",
            "40/40 [==============================] - 0s 3ms/step - loss: 0.0299 - mean_squared_error: 0.0299 - val_loss: 0.0311 - val_mean_squared_error: 0.0311\n",
            "Epoch 79/100\n",
            "40/40 [==============================] - 0s 3ms/step - loss: 0.0298 - mean_squared_error: 0.0298 - val_loss: 0.0311 - val_mean_squared_error: 0.0311\n",
            "Epoch 80/100\n",
            "40/40 [==============================] - 0s 3ms/step - loss: 0.0297 - mean_squared_error: 0.0297 - val_loss: 0.0310 - val_mean_squared_error: 0.0310\n",
            "Epoch 81/100\n",
            "40/40 [==============================] - 0s 3ms/step - loss: 0.0297 - mean_squared_error: 0.0297 - val_loss: 0.0309 - val_mean_squared_error: 0.0309\n",
            "Epoch 82/100\n",
            "40/40 [==============================] - 0s 3ms/step - loss: 0.0296 - mean_squared_error: 0.0296 - val_loss: 0.0310 - val_mean_squared_error: 0.0310\n",
            "Epoch 83/100\n",
            "40/40 [==============================] - 0s 3ms/step - loss: 0.0296 - mean_squared_error: 0.0296 - val_loss: 0.0309 - val_mean_squared_error: 0.0309\n",
            "Epoch 84/100\n",
            "40/40 [==============================] - 0s 3ms/step - loss: 0.0295 - mean_squared_error: 0.0295 - val_loss: 0.0309 - val_mean_squared_error: 0.0309\n",
            "Epoch 85/100\n",
            "40/40 [==============================] - 0s 3ms/step - loss: 0.0295 - mean_squared_error: 0.0295 - val_loss: 0.0308 - val_mean_squared_error: 0.0308\n",
            "Epoch 86/100\n",
            "40/40 [==============================] - 0s 3ms/step - loss: 0.0293 - mean_squared_error: 0.0293 - val_loss: 0.0308 - val_mean_squared_error: 0.0308\n",
            "Epoch 87/100\n",
            "40/40 [==============================] - 0s 3ms/step - loss: 0.0294 - mean_squared_error: 0.0294 - val_loss: 0.0307 - val_mean_squared_error: 0.0307\n",
            "Epoch 88/100\n",
            "40/40 [==============================] - 0s 3ms/step - loss: 0.0293 - mean_squared_error: 0.0293 - val_loss: 0.0307 - val_mean_squared_error: 0.0307\n",
            "Epoch 89/100\n",
            "40/40 [==============================] - 0s 3ms/step - loss: 0.0294 - mean_squared_error: 0.0294 - val_loss: 0.0306 - val_mean_squared_error: 0.0306\n",
            "Epoch 90/100\n",
            "40/40 [==============================] - 0s 3ms/step - loss: 0.0292 - mean_squared_error: 0.0292 - val_loss: 0.0306 - val_mean_squared_error: 0.0306\n",
            "Epoch 91/100\n",
            "40/40 [==============================] - 0s 3ms/step - loss: 0.0292 - mean_squared_error: 0.0292 - val_loss: 0.0306 - val_mean_squared_error: 0.0306\n",
            "Epoch 92/100\n",
            "40/40 [==============================] - 0s 3ms/step - loss: 0.0292 - mean_squared_error: 0.0292 - val_loss: 0.0305 - val_mean_squared_error: 0.0305\n",
            "Epoch 93/100\n",
            "40/40 [==============================] - 0s 3ms/step - loss: 0.0292 - mean_squared_error: 0.0292 - val_loss: 0.0305 - val_mean_squared_error: 0.0305\n",
            "Epoch 94/100\n",
            "40/40 [==============================] - 0s 3ms/step - loss: 0.0291 - mean_squared_error: 0.0291 - val_loss: 0.0305 - val_mean_squared_error: 0.0305\n",
            "Epoch 95/100\n",
            "40/40 [==============================] - 0s 3ms/step - loss: 0.0291 - mean_squared_error: 0.0291 - val_loss: 0.0304 - val_mean_squared_error: 0.0304\n",
            "Epoch 96/100\n",
            "40/40 [==============================] - 0s 3ms/step - loss: 0.0290 - mean_squared_error: 0.0290 - val_loss: 0.0304 - val_mean_squared_error: 0.0304\n",
            "Epoch 97/100\n",
            "40/40 [==============================] - 0s 3ms/step - loss: 0.0290 - mean_squared_error: 0.0290 - val_loss: 0.0303 - val_mean_squared_error: 0.0303\n",
            "Epoch 98/100\n",
            "40/40 [==============================] - 0s 3ms/step - loss: 0.0290 - mean_squared_error: 0.0290 - val_loss: 0.0303 - val_mean_squared_error: 0.0303\n",
            "Epoch 99/100\n",
            "40/40 [==============================] - 0s 3ms/step - loss: 0.0289 - mean_squared_error: 0.0289 - val_loss: 0.0303 - val_mean_squared_error: 0.0303\n",
            "Epoch 100/100\n",
            "40/40 [==============================] - 0s 3ms/step - loss: 0.0289 - mean_squared_error: 0.0289 - val_loss: 0.0302 - val_mean_squared_error: 0.0302\n"
          ],
          "name": "stdout"
        }
      ]
    },
    {
      "cell_type": "code",
      "metadata": {
        "colab": {
          "base_uri": "https://localhost:8080/",
          "height": 350
        },
        "id": "NkLKa4oHUpaS",
        "outputId": "6cba4ede-69cb-4141-93d5-0a9fc957c416"
      },
      "source": [
        "import matplotlib.pyplot as plt\n",
        "\n",
        "plt.figure(figsize = (7,5))\n",
        "plt.plot(history.history['mean_squared_error'])\n",
        "plt.plot(history.history['val_mean_squared_error'])\n",
        "plt.title('model error')\n",
        "plt.ylabel('MSE')\n",
        "plt.xlabel('epoch')\n",
        "plt.legend(['train', 'val'], loc='upper right')\n",
        "plt.show()"
      ],
      "execution_count": null,
      "outputs": [
        {
          "output_type": "display_data",
          "data": {
            "image/png": "[encoded data removed]",
            "text/plain": [
              "<Figure size 504x360 with 1 Axes>"
            ]
          },
          "metadata": {
            "tags": [],
            "needs_background": "light"
          }
        }
      ]
    },
    {
      "cell_type": "code",
      "metadata": {
        "id": "cyOkTb4zUro2"
      },
      "source": [
        "predicted_price = model.predict(X_test)"
      ],
      "execution_count": null,
      "outputs": []
    },
    {
      "cell_type": "code",
      "metadata": {
        "colab": {
          "base_uri": "https://localhost:8080/"
        },
        "id": "VVKlO0-iU9ta",
        "outputId": "1329f1e2-05ff-449c-ac08-1b3e86fb66ef"
      },
      "source": [
        "sum = 0\n",
        "mid = 0\n",
        "\n",
        "for i in range (3095):\n",
        "    sum = (abs(test_price[i] - predicted_price[i])) + sum\n",
        "\n",
        "mid = sum / 3095\n",
        "print (mid*2000000)"
      ],
      "execution_count": null,
      "outputs": [
        {
          "output_type": "stream",
          "text": [
            "[252319.18692589]\n"
          ],
          "name": "stdout"
        }
      ]
    }
  ]
}